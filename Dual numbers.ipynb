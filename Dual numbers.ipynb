{
 "cells": [
  {
   "cell_type": "code",
   "execution_count": 1,
   "metadata": {},
   "outputs": [],
   "source": [
    "import numpy as np\n",
    "class Dual:\n",
    "\n",
    "    def __init__(self, r, g):\n",
    "\n",
    "        self.r = r\n",
    "        self.g = g\n",
    "    \n",
    "    def __str__(self):\n",
    "        return str(self.r)+\"+g(\"+str(self.g)+\")\"\n",
    "\n",
    "    def __eq__(self, other):\n",
    "        if not isinstance(other, Dual):\n",
    "            other = Dual(other,0)\n",
    "        er = (self.r == other.r)\n",
    "        eg = (self.g == other.g)\n",
    "        return er and eg    \n",
    "\n",
    "    def __add__(self,other):\n",
    "        if not isinstance(other, Dual):\n",
    "            other = Dual(other,0)\n",
    "        newr = self.r + other.r\n",
    "        newg = self.g + other.g\n",
    "        return Dual(newr, newg)\n",
    "    \n",
    "    def __radd__(self, other):\n",
    "        if not isinstance(other, Dual):\n",
    "            other = Dual(other,0)\n",
    "        return self+other\n",
    "    \n",
    "    def _iadd__(self, other):\n",
    "        return self+other\n",
    "    \n",
    "    def __sub__(self, other):\n",
    "        if not isinstance(other, Dual):\n",
    "            other = Dual(other,0)\n",
    "        return Dual(self.r-other.r, self.g - other.g)\n",
    "\n",
    "    def __rsub__(self, other):\n",
    "        if not isinstance(other, Dual):\n",
    "            other = Dual(other,0)\n",
    "        return other-self        \n",
    "\n",
    "    def _isub__(self, other):\n",
    "        return self-other\n",
    "\n",
    "    def __mul__(self, other):\n",
    "        if not isinstance(other, Dual):\n",
    "            other = Dual(other,0)\n",
    "        newr = self.r * other.r\n",
    "        newg = self.r * other.g + self.g * other.r\n",
    "        return Dual(newr, newg)\n",
    "    def __rmul__(self, other):\n",
    "        if not isinstance(other, Dual):\n",
    "            other = Dual(other,0)\n",
    "        return other*self\n",
    "\n",
    "    def _imul__(self, other):\n",
    "        return self*other\n",
    "\n",
    "    def __neg__(self):\n",
    "        return Dual(-self.r, -self.g)\n",
    "\n",
    "    \n",
    "    def __truediv__(self, other):\n",
    "        if not isinstance(other, Dual):\n",
    "            other = Dual(other,0)\n",
    "        return Dual(self.r/other.r , self.g/other.r - self.r*other.g/other.r/other.r)\n",
    "\n",
    "    def __rtruediv__(self, other):\n",
    "        if not isinstance(other, Dual):\n",
    "            other = Dual(other,0)\n",
    "        return other/self\n",
    "    \n",
    "    def __itruediv__(self, other):\n",
    "        return self/other\n",
    "    \n",
    "    def __pow__(self, other):\n",
    "        return Dual(self.r**other, self.g*other*self.r**(other-1)) #only for `usual` other, else look power\n",
    "\n",
    "    def __abs__(self):\n",
    "        return abs(self.r)\n",
    "def exp(s):\n",
    "    if not isinstance(s, Dual):\n",
    "        s = Dual(s, 0)\n",
    "    return Dual(np.exp(s.r), np.exp(s.r)*s.g)\n",
    "\n",
    "def ln(s):\n",
    "    if not isinstance(s, Dual):\n",
    "        s = Dual(s, 0)\n",
    "    return Dual(np.log(s.r), s.g / s.r)\n",
    "\n",
    "def power(a, s):# a^x\n",
    "    return exp(ln(a)*s)\n",
    "\n",
    "def sin(s):\n",
    "    if not isinstance(s, Dual):\n",
    "        s = Dual(s, 0)\n",
    "    return Dual(np.sin(s.r), s.g * np.cos(s.r))\n",
    "\n",
    "def cos(s):\n",
    "    if not isinstance(s, Dual):\n",
    "        s = Dual(s, 0)\n",
    "    return Dual(np.cos(s.r), -s.g*np.sin(s.r))\n",
    "\n",
    "\n",
    "def dsin(x):\n",
    "    i, lasts, s, fact, num, sign = 1, Dual(0,0), x, 1, x, 1\n",
    "    while abs(s.r - lasts.r) > 1e-20:\n",
    "        lasts = s\n",
    "        i += 2\n",
    "        fact *= i * (i-1)\n",
    "        num = num * x * x\n",
    "        sign *= -1\n",
    "        s = s + num / fact * sign\n",
    "    return s\n",
    "\n",
    "def dcos(x):\n",
    "    i, lasts, s, fact, num, sign = 0, Dual(0,0), Dual(1,0), 1, 1, 1\n",
    "    while abs((s.r - lasts.r)) > 1e-20:\n",
    "        lasts = s\n",
    "        i += 2\n",
    "        fact *= i * (i-1)\n",
    "        num = num * x * x\n",
    "        sign *= -1\n",
    "        s = s + num / fact * sign\n",
    "    return s\n",
    "def ch(x):\n",
    "    return (exp(x) + exp(-x))/2\n",
    "def sh(x):\n",
    "    return (exp(x) - exp(-x))/2"
   ]
  },
  {
   "cell_type": "markdown",
   "metadata": {},
   "source": [
    "### Demidovich \n",
    "Now we are getting use dual number to solve task on derivation.\n"
   ]
  },
  {
   "cell_type": "markdown",
   "metadata": {},
   "source": [
    "**881.** $\\displaystyle \\frac{\\ln 3 \\cdot \\sin x + \\cos x}{3^x}$ $\\implies$ An: $\\displaystyle -\\frac{1+ \\ln^2(3)}{3^x}\\sin x$"
   ]
  },
  {
   "cell_type": "code",
   "execution_count": 2,
   "metadata": {},
   "outputs": [
    {
     "name": "stdout",
     "output_type": "stream",
     "text": [
      "-0.009215457382210916+g(-0.08472919762282571)\n"
     ]
    }
   ],
   "source": [
    "x = Dual(2.5, 1)\n",
    "print((np.log(3)*dsin(x)+dcos(x))/ exp(np.log(3)*x))"
   ]
  },
  {
   "cell_type": "code",
   "execution_count": 3,
   "metadata": {},
   "outputs": [
    {
     "name": "stdout",
     "output_type": "stream",
     "text": [
      "-0.08472919762282573\n"
     ]
    }
   ],
   "source": [
    "print(-np.sin(2.5) * (1+ (np.log(3))**2)/3**2.5)"
   ]
  },
  {
   "cell_type": "markdown",
   "metadata": {},
   "source": [
    "**968.** $\\displaystyle \\frac{\\text{ch} x}{\\text{sh}^2 x} - \\ln\\left(\\text{cth}(x/2) \\right) \\implies$ An:$\\displaystyle -\\frac{2}{\\text{sh}^3 x}$"
   ]
  },
  {
   "cell_type": "code",
   "execution_count": 4,
   "metadata": {},
   "outputs": [
    {
     "name": "stdout",
     "output_type": "stream",
     "text": [
      "0.34534869454396955+g(-1.2322343865586145)\n"
     ]
    }
   ],
   "source": [
    "x = Dual(1, 1)\n",
    "print(ch(x)/sh(x)/sh(x) - ln(ch(x/2)/sh(x/2)))"
   ]
  },
  {
   "cell_type": "code",
   "execution_count": 5,
   "metadata": {},
   "outputs": [
    {
     "name": "stdout",
     "output_type": "stream",
     "text": [
      "-1.2322343865586145\n"
     ]
    }
   ],
   "source": [
    "print(-2 / np.sinh(1)**3)"
   ]
  },
  {
   "cell_type": "markdown",
   "metadata": {},
   "source": [
    "**904.**  $\\displaystyle \\ln \\sqrt{\\frac{1-\\sin x}{1+\\sin x}} \\implies \\text{An:}- \\frac{1}{\\cos x}$"
   ]
  },
  {
   "cell_type": "code",
   "execution_count": 9,
   "metadata": {},
   "outputs": [
    {
     "name": "stdout",
     "output_type": "stream",
     "text": [
      "(-0.6765532587260854+1.2304675059389543j)+g((0.41314934426694006-0.687527438655479j))\n"
     ]
    }
   ],
   "source": [
    "x = Dual(2+1j, 1)\n",
    "print(ln(((1-sin(x))/(1+sin(x)))**0.5))"
   ]
  },
  {
   "cell_type": "code",
   "execution_count": 10,
   "metadata": {},
   "outputs": [
    {
     "name": "stdout",
     "output_type": "stream",
     "text": [
      "(0.41314934426694-0.6875274386554789j)\n"
     ]
    }
   ],
   "source": [
    "print(-1/np.cos(2+1j))"
   ]
  }
 ],
 "metadata": {
  "kernelspec": {
   "display_name": "Python 3",
   "language": "python",
   "name": "python3"
  },
  "language_info": {
   "codemirror_mode": {
    "name": "ipython",
    "version": 3
   },
   "file_extension": ".py",
   "mimetype": "text/x-python",
   "name": "python",
   "nbconvert_exporter": "python",
   "pygments_lexer": "ipython3",
   "version": "3.7.1"
  }
 },
 "nbformat": 4,
 "nbformat_minor": 2
}
