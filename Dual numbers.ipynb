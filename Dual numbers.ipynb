{
 "cells": [
  {
   "cell_type": "code",
   "execution_count": 307,
   "metadata": {},
   "outputs": [],
   "source": [
    "import numpy as np\n",
    "class Dual:\n",
    "\n",
    "    def __init__(self, r, g):\n",
    "\n",
    "        self.r = r\n",
    "        self.g = g\n",
    "    \n",
    "    def __str__(self):\n",
    "        return str(self.r)+\"+g(\"+str(self.g)+\")\"\n",
    "    \n",
    "    def __add__(self,other):\n",
    "        if type(other) != Dual:\n",
    "            other = Dual(other,0)\n",
    "        newr = self.r + other.r\n",
    "        newg = self.g + other.g\n",
    "\n",
    "        return Dual(newr, newg)\n",
    "    \n",
    "    def __radd__(self, other):\n",
    "        if type(other) != Dual:\n",
    "            other = Dual(other,0)\n",
    "        newr = self.r + other.r\n",
    "        newg = self.g + other.g\n",
    "\n",
    "        return Dual(newr, newg)\n",
    "    \n",
    "    def __eq__(self, other):\n",
    "        if type(other) != Dual:\n",
    "            other = Dual(other,0)\n",
    "        er = (self.r == other.r)\n",
    "        eg = (self.g == other.g)\n",
    "        return er and eg\n",
    "    \n",
    "    def __mul__(self, other):\n",
    "        if type(other) != Dual:\n",
    "            other = Dual(other,0)\n",
    "        newr = self.r * other.r\n",
    "        newg = self.r * other.g + self.g * other.r\n",
    "        return Dual(newr, newg)\n",
    "    def __rmul__(self, other):\n",
    "        if type(other) != Dual:\n",
    "            other = Dual(other,0)\n",
    "        newr = self.r * other.r\n",
    "        newg = self.r * other.g + self.g * other.r\n",
    "        return Dual(newr, newg)\n",
    "    def __neg__(self):\n",
    "        return Dual(-self.r, -self.g)\n",
    "    def __sub__(self, other):\n",
    "        if type(other) != Dual:\n",
    "            other = Dual(other,0)\n",
    "        return Dual(self.r-other.r, self.g - other.g)\n",
    "    def __rsub__(self, other):\n",
    "        if type(other) != Dual:\n",
    "            other = Dual(other,0)\n",
    "        return Dual(-self.r+other.r, -self.g + other.g)        \n",
    "    \n",
    "    def __truediv__(self, other):\n",
    "        if type(other) != Dual:\n",
    "            other = Dual(other,0)\n",
    "        return Dual(self.r/other.r , self.g/other.r - self.r*other.g/other.r/other.r)\n",
    "    def __rtruediv__(self, other):\n",
    "        if type(other) != Dual:\n",
    "            other = Dual(other,0)\n",
    "        return other/self\n",
    "    def __pow__(self, other):\n",
    "        now = 1\n",
    "        for _ in range(other):\n",
    "            now = now * self\n",
    "        return now\n",
    "def dexp(s):\n",
    "    return Dual(np.exp(s.r), np.exp(s.r)*s.g)\n",
    "def dln(s):\n",
    "    return Dual(np.log(s.r), s.g / s.r)\n",
    "def dsin(x):\n",
    "    i, lasts, s, fact, num, sign = 1, Dual(0,0), x, 1, x, 1\n",
    "    while abs(s.r - lasts.r) > 1e-20:\n",
    "        lasts = s\n",
    "        i += 2\n",
    "        fact *= i * (i-1)\n",
    "        num = num * x * x\n",
    "        sign *= -1\n",
    "        s = s + num / fact * sign\n",
    "    return s\n",
    "\n",
    "def dcos(x):\n",
    "    i, lasts, s, fact, num, sign = 0, Dual(0,0), Dual(1,0), 1, 1, 1\n",
    "    while abs((s.r - lasts.r)) > 1e-20:\n",
    "        lasts = s\n",
    "        i += 2\n",
    "        fact *= i * (i-1)\n",
    "        num = num * x * x\n",
    "        sign *= -1\n",
    "        s = s + num / fact * sign\n",
    "    return s\n",
    "def dch(x):\n",
    "    return (dexp(x) + dexp(-x))/2\n",
    "def dsh(x):\n",
    "    return (dexp(x) - dexp(-x))/2"
   ]
  },
  {
   "cell_type": "markdown",
   "metadata": {},
   "source": [
    "### Demidovich \n",
    "Now we are getting use dual number to solve task on derivation.\n"
   ]
  },
  {
   "cell_type": "markdown",
   "metadata": {},
   "source": [
    "**881.** $\\displaystyle \\frac{\\ln 3 \\cdot \\sin x + \\cos x}{3^x}$ $\\implies$ An: $\\displaystyle -\\frac{1+ \\ln^2(3)}{3^x}\\sin x$"
   ]
  },
  {
   "cell_type": "code",
   "execution_count": 305,
   "metadata": {},
   "outputs": [
    {
     "name": "stdout",
     "output_type": "stream",
     "text": [
      "-0.009215457382210916+g(-0.08472919762282571)\n"
     ]
    }
   ],
   "source": [
    "x = Dual(2.5, 1)\n",
    "print((np.log(3)*dsin(x)+dcos(x))/ dexp(np.log(3)*x))"
   ]
  },
  {
   "cell_type": "code",
   "execution_count": 306,
   "metadata": {},
   "outputs": [
    {
     "name": "stdout",
     "output_type": "stream",
     "text": [
      "-0.08472919762282573\n"
     ]
    }
   ],
   "source": [
    "print(-np.sin(2.5) * (1+ (np.log(3))**2)/3**2.5)"
   ]
  },
  {
   "cell_type": "markdown",
   "metadata": {},
   "source": [
    "**968.** $\\displaystyle \\frac{\\text{ch} x}{\\text{sh}^2 x} - \\ln\\left(\\text{cth}(x/2) \\right) \\implies$ An:$\\displaystyle -\\frac{2}{\\text{sh}^3 x}$"
   ]
  },
  {
   "cell_type": "code",
   "execution_count": 321,
   "metadata": {},
   "outputs": [
    {
     "name": "stdout",
     "output_type": "stream",
     "text": [
      "0.34534869454396955+g(-1.2322343865586145)\n"
     ]
    }
   ],
   "source": [
    "x = Dual(1, 1)\n",
    "print(dch(x)/dsh(x)/dsh(x) - dln(dch(x/2)/dsh(x/2)))"
   ]
  },
  {
   "cell_type": "code",
   "execution_count": 323,
   "metadata": {},
   "outputs": [
    {
     "name": "stdout",
     "output_type": "stream",
     "text": [
      "-1.2322343865586145\n"
     ]
    }
   ],
   "source": [
    "print(-2 / np.sinh(1)**3)"
   ]
  }
 ],
 "metadata": {
  "kernelspec": {
   "display_name": "Python 3",
   "language": "python",
   "name": "python3"
  },
  "language_info": {
   "codemirror_mode": {
    "name": "ipython",
    "version": 3
   },
   "file_extension": ".py",
   "mimetype": "text/x-python",
   "name": "python",
   "nbconvert_exporter": "python",
   "pygments_lexer": "ipython3",
   "version": "3.7.1"
  }
 },
 "nbformat": 4,
 "nbformat_minor": 2
}
