{
 "cells": [
  {
   "cell_type": "markdown",
   "metadata": {},
   "source": [
    "# Boundary value problem\n",
    "\n",
    "### In general case:\n",
    "\n",
    "$L[y]=y''+p(x)y+q(x)y=f(x)$\n",
    "\n",
    "$l_a[y]=\\alpha_0y(a)+\\alpha_1y'(a)=A$\n",
    "\n",
    "$l_b[y]=\\beta_0y(b)+\\beta_1y'(b)=B$\n",
    "\n",
    "for $x\\in[a,b]$\n",
    "\n",
    "## 1. Consider the following boundary value problem:\n",
    "\n",
    "$\\frac{d^2y}{dx^2}-\\frac{dy}{dx}\\ln(x)-2y=1$ for $x \\in [0.5,1.5]$\n",
    "\n",
    "### with the boundary conditions:\n",
    "\n",
    "$y(0.5)+y'(0.5)=1$, $y(1.5)-y'(1.5)=0$\n",
    "\n",
    "1.1. Solve this problem using finite difference method of the second order. Use the uniform grid. Is this method stable for step size $h=0.125$? Find number of grid points required to achieve accuracy of the order of 1e-6.\n",
    "\n",
    "### *Don't forget to include the boundary conditions!*\n",
    "\n",
    "1.2. Use the first order one-sided numerical approximation for the first derivative and write a new scheme. Find number of grid points required to achieve accuracy of the order of 1e-6.\n",
    "\n",
    "1.3. Plot the solutions of both methods on the same figure. Compare results and discuss differences (if occurs)."
   ]
  },
  {
   "cell_type": "code",
   "execution_count": null,
   "metadata": {},
   "outputs": [],
   "source": [
    "import numpy as np\n",
    "import matplotlib.pyplot as plt\n",
    "from scipy.linalg import solve\n",
    "\n",
    "#1.1.\n",
    "def SecondOrderScheme(a,b,A,B,alpha,beta,p,q,f,N=100):\n",
    "    # in:\n",
    "    # a,b - float, limits of x, N - int, number of grid points\n",
    "    # A,B - float, boundary values\n",
    "    # alpha, beta - array of float, coefficients for boundary conditions in general case\n",
    "    # p(x), g(x), f(x) - functions from general equation\n",
    "    \n",
    "    #you can construct matrix of the system and use scipy.linalg.solve method to solve it: y=solve(M,f)\n",
    "    \n",
    "    # out: \n",
    "    # y - array of float, solution of the BVP\n",
    "    return y\n",
    "\n",
    "#1.2.\n",
    "def FirstOrderScheme(a,b,A,B,alpha,beta,p,q,f,N=100):\n",
    "    # in:\n",
    "    # a,b - float, limits of x, N - int, number of grid points\n",
    "    # A,B - float, boundary values\n",
    "    # alpha, beta - array of float, coefficients for boundary conditions in general case\n",
    "    # p(x), g(x), f(x) - functions from general equation\n",
    "    \n",
    "    #you can construct matrix of the system and use scipy.linalg.solve method to solve it: y=solve(M,f)\n",
    "    \n",
    "    # out: \n",
    "    # y - array of float, solution of the BVP\n",
    "    return y"
   ]
  },
  {
   "cell_type": "markdown",
   "metadata": {},
   "source": [
    "# 2. Consider the following boundary value problem:\n",
    "\n",
    "$\\frac{d^2y}{dx^2}+2\\frac{dy}{dx}-3xy=\\frac{2-8x}{x^3}$ for $x \\in [1,2]$\n",
    "\n",
    "### with the boundary conditions:\n",
    "\n",
    "$y(1)=1$, $y(2)=0.5$\n",
    "\n",
    "2.1. Solve this problem using finite difference method of the second order. Find number of grid points required to achieve accuracy of the order of 1e-6.\n",
    "\n",
    "2.2. Solve this problem using Galerkin method with power basis functions. Find number of grid points required to achieve accuracy of the order of 1e-6.\n",
    "\n",
    "2.3. Plot the solutions of both methods on the same figure. Compare results and discuss differences (if occurs)."
   ]
  },
  {
   "cell_type": "code",
   "execution_count": null,
   "metadata": {},
   "outputs": [],
   "source": []
  }
 ],
 "metadata": {
  "kernelspec": {
   "display_name": "Python 3",
   "language": "python",
   "name": "python3"
  },
  "language_info": {
   "codemirror_mode": {
    "name": "ipython",
    "version": 3
   },
   "file_extension": ".py",
   "mimetype": "text/x-python",
   "name": "python",
   "nbconvert_exporter": "python",
   "pygments_lexer": "ipython3",
   "version": "3.7.4"
  }
 },
 "nbformat": 4,
 "nbformat_minor": 2
}
