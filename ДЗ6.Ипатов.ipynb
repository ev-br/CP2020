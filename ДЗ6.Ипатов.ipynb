{
 "cells": [
  {
   "cell_type": "markdown",
   "metadata": {},
   "source": [
    "# Part I. One-sided finite differences"
   ]
  },
  {
   "cell_type": "markdown",
   "metadata": {},
   "source": [
    "Write a function, `deriv`, which computes a derivative of its argument at a given point, $x$, using a one-sided finite difference rule with a given step side $h$, with the approximation order of $O(h^2)$. "
   ]
  },
  {
   "cell_type": "code",
   "execution_count": 1,
   "metadata": {},
   "outputs": [],
   "source": [
    "def deriv(f, x, h):\n",
    "    \"\"\" Compute a derivative of `f` at point `x` with step size `h`.\n",
    "    \n",
    "    Compute the derivative using the one-sided rule of the approximation order of $O(h^2)$.\n",
    "    \n",
    "    Parameters\n",
    "    ----------\n",
    "    f : callable\n",
    "        The function to differentiate\n",
    "    x : float\n",
    "        The point to compute the derivative at.\n",
    "    h : float\n",
    "        The step size for the finite different rule.\n",
    "        \n",
    "    Returns\n",
    "    -------\n",
    "    fder : derivative of f(x) at point x using the step size h.\n",
    "    \"\"\"\n",
    "    return (-1.5*f(x) + 2*f(x+h) - 0.5*f(x+2*h))/h"
   ]
  },
  {
   "cell_type": "markdown",
   "metadata": {},
   "source": [
    "#### Test I.1\n",
    "\n",
    "Test your function on a simple test case: differentiate $f(x) = x^3$ at $x=0$. Comment on whether your results are consistent with the expected value of $f'(x) = 0$ and on an expected scaling with $h\\to 0$.\n",
    "\n",
    " (10% of the total grade)"
   ]
  },
  {
   "cell_type": "code",
   "execution_count": 2,
   "metadata": {},
   "outputs": [
    {
     "name": "stdout",
     "output_type": "stream",
     "text": [
      "0.010000 -- -0.0002\n",
      "0.001000 --  -2e-06\n",
      "0.000100 --  -2e-08\n",
      "0.000010 --  -2e-10\n"
     ]
    }
   ],
   "source": [
    "x = 0\n",
    "for h in [1e-2, 1e-3, 1e-4, 1e-5]:\n",
    "    err = deriv(lambda x: x**3, x, h)\n",
    "    print(\"%5f -- %7.4g\" % (h, err))"
   ]
  },
  {
   "cell_type": "markdown",
   "metadata": {},
   "source": [
    "Ошибка пропорциональна квадрату шага, что соответвует формуле"
   ]
  },
  {
   "cell_type": "markdown",
   "metadata": {},
   "source": [
    "### Test I.2\n",
    "\n",
    "Now use a slightly more complicated function, $f(x) = x^2 \\log{x}$, evaluate the derivative at $x=1$ using your one-sided rule and a two-point one-sided rule. Roughly estimate the value of $h$ where the error stops decreasing, for these two schemes. \n",
    "(15% of the total grade)"
   ]
  },
  {
   "cell_type": "code",
   "execution_count": 3,
   "metadata": {},
   "outputs": [],
   "source": [
    "from math import log\n",
    "\n",
    "def f(x):\n",
    "    return x**2 * log(x)\n",
    "    \n",
    "def fder(x):\n",
    "    return x * (2.*log(x) + 1)\n",
    "\n",
    "def deriv2(f, x, h):\n",
    "    return (f(x + h) - f(x)) / h"
   ]
  },
  {
   "cell_type": "code",
   "execution_count": 11,
   "metadata": {},
   "outputs": [
    {
     "data": {
      "image/png": "[encoded data removed]",
      "text/plain": [
       "<Figure size 432x288 with 1 Axes>"
      ]
     },
     "metadata": {
      "needs_background": "light"
     },
     "output_type": "display_data"
    }
   ],
   "source": [
    "import numpy as np\n",
    "import matplotlib.pyplot as plt\n",
    "h = np.power(0.1, np.arange(2, 14))\n",
    "err = []\n",
    "err2 = []\n",
    "for i in h:\n",
    "    err.append(abs(deriv(f, 1, i) - fder(1)))\n",
    "    err2.append(abs(deriv2(f, 1, i) - fder(1)))\n",
    "plt.plot(h, err, '-o', label = \"1s, 3p der\")\n",
    "plt.plot(h, err2, '-o', label = \"1s, 2p der\")\n",
    "plt.xscale(\"log\")\n",
    "plt.yscale(\"log\")\n",
    "plt.xlabel(\"h\")\n",
    "plt.ylabel(\"error\")\n",
    "plt.legend()\n",
    "plt.show()"
   ]
  },
  {
   "cell_type": "markdown",
   "metadata": {},
   "source": [
    "Видно, что оптимальные значения $h$:$\\;\\;\\;$ ~$10^{-8}$ для двухточечной $\\;\\;\\;$\n",
    "    ~$10^{-5}$ для трехточечной"
   ]
  },
  {
   "cell_type": "markdown",
   "metadata": {},
   "source": [
    "### Test I.3 \n",
    "\n",
    "Now try differentiating $x^2 \\log(x)$ at $x=0$. Use the three-point one-sided rule. Note that to evaluate the function at zero, you need to special-case this value. Check the scaling of the error with $h$, explain your results. \n",
    "(25% of the total grade)"
   ]
  },
  {
   "cell_type": "code",
   "execution_count": 12,
   "metadata": {},
   "outputs": [
    {
     "name": "stdout",
     "output_type": "stream",
     "text": [
      "0.010000 -- -0.01386\n",
      "0.001000 -- -0.001386\n",
      "0.000100 -- -0.0001386\n",
      "0.000010 -- -1.386e-05\n"
     ]
    }
   ],
   "source": [
    "def f(x):\n",
    "    if x == 0:\n",
    "        # the limit of $x^2 log(x)$ at $x-> 0$ is zero, even though log(x) is undefined at x=0\n",
    "        return 0.0\n",
    "    else:\n",
    "        return x**2 * log(x)\n",
    "    \n",
    "def fder(x):\n",
    "    if x == 0:\n",
    "        return 0.0\n",
    "    else:\n",
    "        return x*(2*log(x) + 1)\n",
    "\n",
    "x = 0\n",
    "for h in [1e-2, 1e-3, 1e-4, 1e-5]:\n",
    "    err = deriv(f, x, h) - fder(x)\n",
    "    print(\"%5f -- %7.4g\" % (h, err))"
   ]
  },
  {
   "cell_type": "markdown",
   "metadata": {},
   "source": [
    "Сходимость линейная, так как слагаемые разложения тейлора, содержащие производные третьего и выше порядков дают ~$h$. В то время, как в первом примере слагаемое с третьей (крайней) производной давала порядок ~$h^2$"
   ]
  },
  {
   "cell_type": "markdown",
   "metadata": {},
   "source": [
    "# Part II. Midpoint rule "
   ]
  },
  {
   "cell_type": "markdown",
   "metadata": {},
   "source": [
    "Write a function which computes a definite integral using the midpoint rule up to a given error, $\\epsilon$. Estimate the error by comparing the estimates of the integral at $N$ and $2N$ elementary intervals. "
   ]
  },
  {
   "cell_type": "markdown",
   "metadata": {},
   "source": [
    "Будем прогонять кол-во интервалов в цикле до сходимости, поэтому нет большого смысла повторять процедуру для 2N"
   ]
  },
  {
   "cell_type": "code",
   "execution_count": 99,
   "metadata": {},
   "outputs": [],
   "source": [
    "def midpoint_rule(func, a, b, eps):\n",
    "    S = (b-a)*func((a+b)/2)\n",
    "    for N in range(3, 100000):\n",
    "        dots = np.linspace(a, b, N)\n",
    "        points = (dots[1:]+dots[:-1])/2\n",
    "        h = (b-a)/N\n",
    "        S_new = h*np.sum(func(points))\n",
    "        if abs(S_new-S)<eps:\n",
    "            return S_new, N\n",
    "        S = S_new\n",
    "    return 0, 0"
   ]
  },
  {
   "cell_type": "markdown",
   "metadata": {},
   "source": [
    "### Test II.1\n",
    "\n",
    "Test your midpoint rule on a simple integral, which you can calculate by paper and pencil.\n",
    "\n",
    "Compare the rate of convergence to the expected $O(N^{-2})$ scaling by studying the number of intervals required for a given accuracy $\\epsilon$.\n",
    "\n",
    "Compare the numerical results to the value you calculated by hand. Does the deviation agree with your estimate of the numerical error?\n",
    "(20% of the total grade)\n"
   ]
  },
  {
   "cell_type": "markdown",
   "metadata": {},
   "source": [
    "$$\n",
    "\\int_0^2\\! x^3\\, dx = 4\n",
    "$$"
   ]
  },
  {
   "cell_type": "code",
   "execution_count": 100,
   "metadata": {},
   "outputs": [
    {
     "name": "stdout",
     "output_type": "stream",
     "text": [
      "Интеграл =  3.9936858682055805 кол-во разбиений =  634\n",
      "Интеграл =  3.991081371301304 кол-во разбиений =  449\n",
      "Интеграл =  3.989085927845029 кол-во разбиений =  367\n",
      "Интеграл =  3.9874015435589154 кол-во разбиений =  318\n",
      "Интеграл =  3.9858906086696853 кол-во разбиений =  284\n",
      "Интеграл =  3.984585684585684 кол-во разбиений =  260\n",
      "Интеграл =  3.9833679114799443 кол-во разбиений =  241\n",
      "Интеграл =  3.9821825396825394 кол-во разбиений =  225\n",
      "Интеграл =  3.981087364750068 кол-во разбиений =  212\n",
      "Интеграл =  3.980148761144771 кол-во разбиений =  202\n",
      "Интеграл =  3.9791121291448524 кол-во разбиений =  192\n",
      "Интеграл =  3.978201473033975 кол-во разбиений =  184\n",
      "Интеграл =  3.977336928608116 кол-во разбиений =  177\n",
      "Интеграл =  3.976539387684898 кол-во разбиений =  171\n",
      "Интеграл =  3.9756836659275683 кол-во разбиений =  165\n",
      "Интеграл =  3.9749213836477986 кол-во разбиений =  160\n",
      "Интеграл =  3.9741097612065364 кол-во разбиений =  155\n",
      "Интеграл =  3.973421633554085 кол-во разбиений =  151\n",
      "Интеграл =  3.972695927686141 кол-во разбиений =  147\n",
      "Интеграл =  3.9719294789717328 кол-во разбиений =  143\n",
      "Интеграл =  3.9713257965056528 кол-во разбиений =  140\n",
      "Интеграл =  3.9704793028322447 кол-во разбиений =  136\n",
      "Интеграл =  3.9698108908635223 кол-во разбиений =  133\n",
      "Интеграл =  3.9693482090428662 кол-во разбиений =  131\n",
      "Интеграл =  3.9686269685039375 кол-во разбиений =  128\n",
      "Интеграл =  3.9681269841269846 кол-во разбиений =  126\n",
      "Интеграл =  3.9673463947754244 кол-во разбиений =  123\n",
      "Интеграл =  3.9668044077134987 кол-во разбиений =  121\n",
      "Интеграл =  3.9662441247685516 кол-во разбиений =  119\n",
      "Интеграл =  3.9656646035956387 кол-во разбиений =  117\n",
      "Интеграл =  3.9650648360030507 кол-во разбиений =  115\n",
      "Интеграл =  3.9644437420986085 кол-во разбиений =  113\n",
      "Интеграл =  3.964124839124839 кол-во разбиений =  112\n",
      "Интеграл =  3.9634695579649706 кол-во разбиений =  110\n",
      "Интеграл =  3.9627898926964336 кол-во разбиений =  108\n",
      "Интеграл =  3.9624404866866505 кол-во разбиений =  107\n",
      "Интеграл =  3.9617216117216127 кол-во разбиений =  105\n",
      "Интеграл =  3.961351755041074 кол-во разбиений =  104\n",
      "Интеграл =  3.960974681134589 кол-во разбиений =  103\n",
      "Интеграл =  3.9605901766647245 кол-во разбиений =  102\n",
      "Интеграл =  3.959797979797981 кол-во разбиений =  100\n",
      "Интеграл =  3.9593898165326733 кол-во разбиений =  99\n",
      "Интеграл =  3.958973280033662 кол-во разбиений =  98\n",
      "Интеграл =  3.958548109965635 кол-во разбиений =  97\n",
      "Интеграл =  3.9581140350877186 кол-во разбиений =  96\n",
      "Интеграл =  3.957670772676371 кол-во разбиений =  95\n",
      "Интеграл =  3.957218027911234 кол-во разбиений =  94\n",
      "Интеграл =  3.956755493221131 кол-во разбиений =  93\n",
      "Интеграл =  3.9562828475871967 кол-во разбиений =  92\n",
      "Интеграл =  3.9557997557997564 кол-во разбиений =  91\n",
      "Интеграл =  3.955305867665418 кол-во разбиений =  90\n",
      "Интеграл =  3.954800817160368 кол-во разбиений =  89\n",
      "Интеграл =  3.954284221525601 кол-во разбиений =  88\n",
      "Интеграл =  3.954284221525601 кол-во разбиений =  88\n",
      "Интеграл =  3.9537556802993854 кол-во разбиений =  87\n",
      "Интеграл =  3.9532147742818053 кол-во разбиений =  86\n",
      "Интеграл =  3.9526610644257696 кол-во разбиений =  85\n",
      "Интеграл =  3.9526610644257696 кол-во разбиений =  85\n",
      "Интеграл =  3.9520940906483077 кол-во разбиений =  84\n",
      "Интеграл =  3.951513370555393 кол-во разбиений =  83\n",
      "Интеграл =  3.9509183980728695 кол-во разбиений =  82\n",
      "Интеграл =  3.9509183980728695 кол-во разбиений =  82\n",
      "Интеграл =  3.9503086419753095 кол-во разбиений =  81\n",
      "Интеграл =  3.9503086419753095 кол-во разбиений =  81\n",
      "Интеграл =  3.9496835443037983 кол-во разбиений =  80\n",
      "Интеграл =  3.9490425186627713 кол-во разбиений =  79\n",
      "Интеграл =  3.9490425186627713 кол-во разбиений =  79\n",
      "Интеграл =  3.9483849483849496 кол-во разбиений =  78\n",
      "Интеграл =  3.9483849483849496 кол-во разбиений =  78\n",
      "Интеграл =  3.9477101845522893 кол-во разбиений =  77\n",
      "Интеграл =  3.9477101845522893 кол-во разбиений =  77\n",
      "Интеграл =  3.94701754385965 кол-во разбиений =  76\n",
      "Интеграл =  3.94701754385965 кол-во разбиений =  76\n",
      "Интеграл =  3.9463063063063073 кол-во разбиений =  75\n",
      "Интеграл =  3.9463063063063073 кол-во разбиений =  75\n",
      "Интеграл =  3.9455757126989996 кол-во разбиений =  74\n",
      "Интеграл =  3.9455757126989996 кол-во разбиений =  74\n",
      "Интеграл =  3.9448249619482487 кол-во разбиений =  73\n",
      "Интеграл =  3.9448249619482487 кол-во разбиений =  73\n",
      "Интеграл =  3.9440532081377153 кол-во разбиений =  72\n",
      "Интеграл =  3.9440532081377153 кол-во разбиений =  72\n",
      "Интеграл =  3.9432595573440645 кол-во разбиений =  71\n",
      "Интеграл =  3.9432595573440645 кол-во разбиений =  71\n",
      "Интеграл =  3.9432595573440645 кол-во разбиений =  71\n",
      "Интеграл =  3.9424430641821946 кол-во разбиений =  70\n",
      "Интеграл =  3.9424430641821946 кол-во разбиений =  70\n",
      "Интеграл =  3.9416027280477404 кол-во разбиений =  69\n",
      "Интеграл =  3.9416027280477404 кол-во разбиений =  69\n",
      "Интеграл =  3.9416027280477404 кол-во разбиений =  69\n",
      "Интеграл =  3.940737489025461 кол-во разбиений =  68\n",
      "Интеграл =  3.940737489025461 кол-во разбиений =  68\n",
      "Интеграл =  3.9398462234283134 кол-во разбиений =  67\n",
      "Интеграл =  3.9398462234283134 кол-во разбиений =  67\n",
      "Интеграл =  3.9398462234283134 кол-во разбиений =  67\n",
      "Интеграл =  3.93892773892774 кол-во разбиений =  66\n",
      "Интеграл =  3.93892773892774 кол-во разбиений =  66\n",
      "Интеграл =  3.93892773892774 кол-во разбиений =  66\n",
      "Интеграл =  3.9379807692307693 кол-во разбиений =  65\n",
      "Интеграл =  3.9379807692307693 кол-во разбиений =  65\n",
      "Интеграл =  3.9379807692307693 кол-во разбиений =  65\n",
      "a =  [4.16882659]\n"
     ]
    },
    {
     "data": {
      "image/png": "[encoded data removed]",
      "text/plain": [
       "<Figure size 432x288 with 1 Axes>"
      ]
     },
     "metadata": {
      "needs_background": "light"
     },
     "output_type": "display_data"
    }
   ],
   "source": [
    "from scipy.optimize import curve_fit\n",
    "def f1(x, a):\n",
    "    return a/x**2\n",
    "\n",
    "eps = np.linspace(1e-5, 1e-3, 100)\n",
    "points = []\n",
    "for i in eps:\n",
    "    S, N = midpoint_rule(lambda x: x**3, 0, 2, i)\n",
    "    print(\"Интеграл = \", S,\"кол-во разбиений = \", N)\n",
    "    points.append(N)\n",
    "    \n",
    "a, pcov = curve_fit(f1, points, eps)    \n",
    "print(\"a = \", a)\n",
    "plt.plot(points, eps, '-o', color='orange', label=\"N(eps)\") \n",
    "plt.xlabel(\"N\")\n",
    "plt.ylabel(\"eps\")\n",
    "plt.plot(points, f1(np.asarray(points), a), label=\"$a/N^2$\", color='black')\n",
    "plt.legend()\n",
    "plt.show()"
   ]
  },
  {
   "cell_type": "markdown",
   "metadata": {},
   "source": [
    "Видно, как метод отлично повторяет $O(\\frac{1}{N^2})$"
   ]
  },
  {
   "cell_type": "markdown",
   "metadata": {},
   "source": [
    "### Test II.2\n",
    "\n",
    "Now use your midpoint rule to compute the value of\n",
    "\n",
    "$$\n",
    "\\int_0^1\\! \\frac{\\sin{\\sqrt{x}}}{x}\\, dx\n",
    "$$\n",
    "\n",
    "up to a predefined accuracy of $\\epsilon=10^{-4}$.\n",
    "\n",
    "Note that the integral contains an integrable singularity at the lower limit. Do calculations two ways: first, do a straightforward computation; next, subtract the singularity. Compare the number of iterations required to achieve the accuracy of $\\epsilon$.\n",
    "\n",
    "(30% of the total grade)"
   ]
  },
  {
   "cell_type": "markdown",
   "metadata": {},
   "source": [
    "Вычетаем сингулярность из данного интеграла и интегрируем отдельно:\n",
    "$$\\int_0^1\\! \\frac{1}{\\sqrt{x}}\\, dx = 2$$"
   ]
  },
  {
   "cell_type": "markdown",
   "metadata": {},
   "source": [
    "Затем просто складываем"
   ]
  },
  {
   "cell_type": "code",
   "execution_count": 108,
   "metadata": {},
   "outputs": [
    {
     "name": "stdout",
     "output_type": "stream",
     "text": [
      "(1.8475439129288769, 261) -  прямой посчет сингулярности\n",
      "(-0.10461769150104429, 33) - интеграл без сингулярности\n",
      "Итоговое значение: 1.8953823084989556\n"
     ]
    }
   ],
   "source": [
    "def func(x):\n",
    "    return np.sin(np.sqrt(x))/x\n",
    "\n",
    "def func_(x):\n",
    "    return func(x)-np.sqrt(1/x)\n",
    "\n",
    "print(midpoint_rule(func, 0, 1, 1e-4), \"-  прямой посчет сингулярности\")\n",
    "print(midpoint_rule(func_, 0, 1, 1e-4), \"- интеграл без сингулярности\")\n",
    "print(\"Итоговое значение:\", midpoint_rule(f4, 0, 1, 1e-4)[0]+2)"
   ]
  },
  {
   "cell_type": "markdown",
   "metadata": {
    "collapsed": true
   },
   "source": [
    "Что вполне неплохо, так как вольфрам выдает 1.892"
   ]
  }
 ],
 "metadata": {
  "kernelspec": {
   "display_name": "Python 3",
   "language": "python",
   "name": "python3"
  },
  "language_info": {
   "codemirror_mode": {
    "name": "ipython",
    "version": 3
   },
   "file_extension": ".py",
   "mimetype": "text/x-python",
   "name": "python",
   "nbconvert_exporter": "python",
   "pygments_lexer": "ipython3",
   "version": "3.7.7"
  }
 },
 "nbformat": 4,
 "nbformat_minor": 2
}
