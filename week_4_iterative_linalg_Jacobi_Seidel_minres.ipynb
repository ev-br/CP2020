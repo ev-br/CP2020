{
 "cells": [
  {
   "cell_type": "markdown",
   "metadata": {},
   "source": [
    "# Simple iteration for systems of linear equations"
   ]
  },
  {
   "cell_type": "markdown",
   "metadata": {},
   "source": [
    "First, generate a random diagonally dominant matrix, for testing."
   ]
  },
  {
   "cell_type": "code",
   "execution_count": 272,
   "metadata": {},
   "outputs": [],
   "source": [
    "import numpy as np\n",
    "rndm = np.random.RandomState(1234)\n",
    "\n",
    "n = 10\n",
    "A = rndm.uniform(size=(n, n)) + np.diagflat([15]*n)\n",
    "b = rndm.uniform(size=n)"
   ]
  },
  {
   "cell_type": "markdown",
   "metadata": {},
   "source": [
    "# I.  Jacobi iteration\n",
    "\n",
    "Given\n",
    "\n",
    "$$\n",
    "A x = b\n",
    "$$\n",
    "\n",
    "separate the diagonal part $D$,\n",
    "\n",
    "$$ A = D + (A - D) $$\n",
    "\n",
    "and write\n",
    "\n",
    "$$\n",
    "x = D^{-1} (D - A) x + D^{-1} b\\;.\n",
    "$$\n",
    "\n",
    "Then iterate\n",
    "\n",
    "$$\n",
    "x_{n + 1} = B x_{n} + c\\;,\n",
    "$$\n",
    "\n",
    "where \n",
    "\n",
    "$$\n",
    "B = D^{-1} (A - D) \\qquad \\text{and} \\qquad c = D^{-1} b\n",
    "$$\n"
   ]
  },
  {
   "cell_type": "markdown",
   "metadata": {},
   "source": [
    "Let's construct the matrix and the r.h.s. for the Jacobi iteration"
   ]
  },
  {
   "cell_type": "code",
   "execution_count": 273,
   "metadata": {},
   "outputs": [],
   "source": [
    "diag_1d = np.diag(A)\n",
    "\n",
    "B = -A.copy()\n",
    "np.fill_diagonal(B, 0)\n",
    "\n",
    "D = np.diag(diag_1d)\n",
    "invD = np.diag(1./diag_1d)\n",
    "BB = invD @ B \n",
    "c = invD @ b"
   ]
  },
  {
   "cell_type": "code",
   "execution_count": 274,
   "metadata": {},
   "outputs": [],
   "source": [
    "# sanity checks\n",
    "from numpy.testing import assert_allclose\n",
    "\n",
    "assert_allclose(-B + D, A)\n",
    "\n",
    "\n",
    "# xx is a \"ground truth\" solution, compute it using a direct method\n",
    "xx = np.linalg.solve(A, b)\n",
    "\n",
    "np.testing.assert_allclose(A@xx, b)\n",
    "np.testing.assert_allclose(D@xx, B@xx + b)\n",
    "np.testing.assert_allclose(xx, BB@xx + c)"
   ]
  },
  {
   "cell_type": "markdown",
   "metadata": {},
   "source": [
    "Check that $\\| B\\| \\leqslant 1$:"
   ]
  },
  {
   "cell_type": "code",
   "execution_count": 275,
   "metadata": {},
   "outputs": [
    {
     "data": {
      "text/plain": "0.36436161983015336"
     },
     "execution_count": 275,
     "metadata": {},
     "output_type": "execute_result"
    }
   ],
   "source": [
    "np.linalg.norm(BB)"
   ]
  },
  {
   "cell_type": "markdown",
   "metadata": {},
   "source": [
    "### Do the Jacobi iteration"
   ]
  },
  {
   "cell_type": "code",
   "execution_count": 276,
   "metadata": {},
   "outputs": [],
   "source": [
    "n_iter = 50\n",
    "\n",
    "x0 = np.ones(n)\n",
    "x = x0\n",
    "for _ in range(n_iter):\n",
    "    x = BB @ x + c"
   ]
  },
  {
   "cell_type": "code",
   "execution_count": 277,
   "metadata": {},
   "outputs": [
    {
     "data": {
      "text/plain": "array([ 0.,  0.,  0., -0.,  0.,  0., -0.,  0.,  0.,  0.])"
     },
     "execution_count": 277,
     "metadata": {},
     "output_type": "execute_result"
    }
   ],
   "source": [
    "# Check the result:\n",
    "\n",
    "A @ x - b"
   ]
  },
  {
   "cell_type": "markdown",
   "metadata": {},
   "source": [
    "### Task I.1\n",
    "\n",
    "Collect the proof-of-concept above into a single function implementing the Jacobi iteration. This function should receive the r.h.s. matrix $A$, the l.h.s. vector `b`, and the number of iterations to perform.\n",
    "\n",
    "\n",
    "The matrix $A$ in the illustration above is strongly diagonally dominant, by construction. \n",
    "What happens if the diagonal matrix elements of $A$ are made smaller? Check the convergence of the Jacobi iteration, and check the value of the norm of $B$.\n",
    "\n",
    "(20% of the total grade)\n"
   ]
  },
  {
   "cell_type": "code",
   "execution_count": 278,
   "metadata": {},
   "outputs": [],
   "source": [
    "def jacob(A, b, rtol=1e-16, niter = 500):\n",
    "    dgA = np.diag(np.diag(A))\n",
    "    B = A - dgA\n",
    "    x = np.ones(b.shape[0])\n",
    "    dgA_ = np.diag(1/np.diag(dgA))\n",
    "    n = 0\n",
    "    for i in range(niter):\n",
    "        normB = np.linalg.norm(dgA_ @ -B)\n",
    "        if normB > 1: #checking convergence\n",
    "            print(\"don't converge\")\n",
    "            break\n",
    "        x_s = (dgA_ @ -B ) @ x + dgA_ @ b\n",
    "        n +=1\n",
    "        if np.linalg.norm(x_s - x) <= rtol: #elimination of excess iterations\n",
    "            break\n",
    "        else:\n",
    "            x = x_s\n",
    "    return x, n\n"
   ]
  },
  {
   "cell_type": "code",
   "execution_count": 279,
   "metadata": {},
   "outputs": [
    {
     "name": "stdout",
     "output_type": "stream",
     "text": "don't converge\n[1.69028049 0.34674145 1.25212443 0.94810969 0.63289142 1.68956675\n 0.76193901 0.92340856 1.04634973 0.04209147] Diag multiply:  1 Niter:  0\ndon't converge\n[0.84394861 0.88037364 0.66600454 0.80867916 0.7869155  1.14538078\n 0.73429736 1.22672463 1.12557723 0.99134399] Diag multiply:  2 Niter:  0\ndon't converge\n[0.88492617 1.11121635 0.78623234 1.16486714 0.86765002 1.08494476\n 1.04304059 0.83135432 0.76590397 0.91315443] Diag multiply:  3 Niter:  0\ndon't converge\n[1.03429143 1.00009777 0.94169352 0.96024901 1.03918878 1.02263367\n 0.92457748 1.01385928 0.83446026 0.85449813] Diag multiply:  4 Niter:  0\n[0. 0. 0. 0. 0. 0. 0. 0. 0. 0.] Diag multiply:  5 Niter:  169\n[0. 0. 0. 0. 0. 0. 0. 0. 0. 0.] Diag multiply:  6 Niter:  113\n[0. 0. 0. 0. 0. 0. 0. 0. 0. 0.] Diag multiply:  7 Niter:  71\n[0. 0. 0. 0. 0. 0. 0. 0. 0. 0.] Diag multiply:  8 Niter:  66\n[0. 0. 0. 0. 0. 0. 0. 0. 0. 0.] Diag multiply:  9 Niter:  52\n[0. 0. 0. 0. 0. 0. 0. 0. 0. 0.] Diag multiply:  10 Niter:  40\n[0. 0. 0. 0. 0. 0. 0. 0. 0. 0.] Diag multiply:  11 Niter:  42\n[0. 0. 0. 0. 0. 0. 0. 0. 0. 0.] Diag multiply:  12 Niter:  36\n[0. 0. 0. 0. 0. 0. 0. 0. 0. 0.] Diag multiply:  13 Niter:  35\n[0. 0. 0. 0. 0. 0. 0. 0. 0. 0.] Diag multiply:  14 Niter:  33\n[0. 0. 0. 0. 0. 0. 0. 0. 0. 0.] Diag multiply:  15 Niter:  30\n[0. 0. 0. 0. 0. 0. 0. 0. 0. 0.] Diag multiply:  16 Niter:  30\n[0. 0. 0. 0. 0. 0. 0. 0. 0. 0.] Diag multiply:  17 Niter:  30\n[0. 0. 0. 0. 0. 0. 0. 0. 0. 0.] Diag multiply:  18 Niter:  28\n[0. 0. 0. 0. 0. 0. 0. 0. 0. 0.] Diag multiply:  19 Niter:  29\n"
    }
   ],
   "source": [
    "n = 10\n",
    "np.set_printoptions(suppress=True)\n",
    "for l in range(1,20): #we check some dominance of matrix\n",
    "    A = rndm.uniform(size=(n, n)) + np.diagflat([l]*n)\n",
    "    b = rndm.uniform(size=n)\n",
    "    xx = np.linalg.solve(A,b)\n",
    "    x, m = jacob(A,b)\n",
    "    print(np.abs(xx-x),'Diag multiply: ',l, 'Niter: ', m)"
   ]
  },
  {
   "cell_type": "markdown",
   "metadata": {},
   "source": [
    "# II. Seidel's iteration."
   ]
  },
  {
   "cell_type": "markdown",
   "metadata": {},
   "source": [
    "##### Task II.1\n",
    "\n",
    "Implement the Seidel's iteration. \n",
    "\n",
    "Test it on a random matrix. Study the convergence of iterations, relate to the norm of the iteration matrix.\n",
    "\n",
    "(30% of the total grade)"
   ]
  },
  {
   "cell_type": "code",
   "execution_count": 280,
   "metadata": {},
   "outputs": [],
   "source": [
    "def seidel(A, b, rtol = 1e-16, niter= 500):\n",
    "    U = np.triu(A,k=1)\n",
    "    L = np.tril(A,k=0)\n",
    "    L_ = np.linalg.inv(L)\n",
    "    x = np.ones(b.shape[0])\n",
    "    n = 0\n",
    "    for i in range(niter):\n",
    "        normB = np.linalg.norm(L_ @ U)\n",
    "        if normB > 1: #checking convergence\n",
    "            print(\"don't converge\")\n",
    "            break\n",
    "        x_s = L_ @ b - L_@ U @ x\n",
    "        n += 1 \n",
    "        if np.linalg.norm(x_s - x)<= rtol:\n",
    "            break\n",
    "        x = x_s\n",
    "    return x,n"
   ]
  },
  {
   "cell_type": "code",
   "execution_count": 281,
   "metadata": {},
   "outputs": [
    {
     "name": "stdout",
     "output_type": "stream",
     "text": "DDominant:  [0. 0. 0. 0. 0. 0. 0. 0. 0. 0.] Niter:  28\nPSymmetric:  [0. 0. 0. 0. 0. 0. 0. 0. 0. 0.] Niter:  23\ndon't converge\nRandom:  [0.81075754 2.52057467 2.0665217  0.78188964 1.81430634 0.4546695\n 1.42871118 0.04475773 2.83897545 0.5963693 ] Niter:  0\nDDominant:  [0. 0. 0. 0. 0. 0. 0. 0. 0. 0.] Niter:  22\nPSymmetric:  [0. 0. 0. 0. 0. 0. 0. 0. 0. 0.] Niter:  27\ndon't converge\nRandom:  [0.98465121 2.2042164  0.09611676 0.59245988 1.57833379 1.28030354\n 1.76481199 1.4340043  2.9885939  1.00000378] Niter:  0\nDDominant:  [0. 0. 0. 0. 0. 0. 0. 0. 0. 0.] Niter:  25\nPSymmetric:  [0. 0. 0. 0. 0. 0. 0. 0. 0. 0.] Niter:  27\ndon't converge\nRandom:  [5.67939014 3.90833017 1.09557964 4.28201803 0.40121489 5.42195606\n 1.23847474 0.00939071 0.08293836 0.39229512] Niter:  0\nDDominant:  [0. 0. 0. 0. 0. 0. 0. 0. 0. 0.] Niter:  22\nPSymmetric:  [0. 0. 0. 0. 0. 0. 0. 0. 0. 0.] Niter:  23\ndon't converge\nRandom:  [  1.5090538   44.75717273  31.6173864  120.67020884  33.32795666\n  57.29384097   6.96836204  79.20722204   5.08597102  22.10112257] Niter:  0\nDDominant:  [0. 0. 0. 0. 0. 0. 0. 0. 0. 0.] Niter:  22\nPSymmetric:  [0. 0. 0. 0. 0. 0. 0. 0. 0. 0.] Niter:  27\ndon't converge\nRandom:  [1.59036397 0.8604622  0.14602642 0.79794301 1.02363579 0.35052713\n 0.71413695 1.721818   1.14415658 0.57729427] Niter:  0\nDDominant:  [0. 0. 0. 0. 0. 0. 0. 0. 0. 0.] Niter:  25\nPSymmetric:  [0. 0. 0. 0. 0. 0. 0. 0. 0. 0.] Niter:  27\ndon't converge\nRandom:  [ 5.56544962  7.01338641  5.3445608   0.19868498  1.00213694  9.66249257\n 10.75149795  0.07942924  3.44888225 13.1844179 ] Niter:  0\nDDominant:  [0. 0. 0. 0. 0. 0. 0. 0. 0. 0.] Niter:  24\nPSymmetric:  [0. 0. 0. 0. 0. 0. 0. 0. 0. 0.] Niter:  24\ndon't converge\nRandom:  [0.33345719 0.42748526 0.0593757  1.75523969 1.16315974 0.85339852\n 0.9073245  0.51034687 1.30634457 1.76310189] Niter:  0\nDDominant:  [0. 0. 0. 0. 0. 0. 0. 0. 0. 0.] Niter:  24\nPSymmetric:  [0. 0. 0. 0. 0. 0. 0. 0. 0. 0.] Niter:  24\ndon't converge\nRandom:  [0.98972705 1.49834422 0.38285432 1.4925131  0.64454837 0.56675909\n 0.55186704 0.59065421 0.91293294 1.22445382] Niter:  0\nDDominant:  [0. 0. 0. 0. 0. 0. 0. 0. 0. 0.] Niter:  26\nPSymmetric:  [0. 0. 0. 0. 0. 0. 0. 0. 0. 0.] Niter:  25\ndon't converge\nRandom:  [2.5777929  1.25860826 0.75126353 7.0276177  2.9407783  2.77547147\n 0.69224083 0.56768258 4.12085188 1.52225   ] Niter:  0\nDDominant:  [0. 0. 0. 0. 0. 0. 0. 0. 0. 0.] Niter:  26\nPSymmetric:  [0. 0. 0. 0. 0. 0. 0. 0. 0. 0.] Niter:  24\ndon't converge\nRandom:  [3.16644844 1.26045042 4.77037575 0.02681197 0.37744526 1.37862539\n 0.76281798 2.60025895 2.57958886 1.67546326] Niter:  0\n"
    }
   ],
   "source": [
    "#convergence is only guaranteed if the matrix is either diagonally dominant, or symmetric and positive definite\n",
    "for i in range(10):\n",
    "    n = 10\n",
    "    A = rndm.uniform(size=(n, n)) + np.diagflat([5]*n)#diagonally dominant\n",
    "    b = rndm.uniform(size=n)\n",
    "    xx = np.linalg.solve(A,b)\n",
    "    x, k = seidel(A,b)\n",
    "    print('DDominant: ',np.abs(xx-x),'Niter: ', k)\n",
    "\n",
    "    a = np.random.rand(n, n)\n",
    "    M = np.tril(a,-1) + np.tril(a, -1).T + np.diagflat([5]*n)#symmetric and positive definite\n",
    "    xx1 = np.linalg.solve(M,b)\n",
    "    x1,p = seidel(M,b)\n",
    "    print('PSymmetric: ',np.abs(xx1-x1), 'Niter: ', p)\n",
    "\n",
    "    C = rndm.uniform(size=(n, n)) #random won't converge\n",
    "    xx2 = np.linalg.solve(C,b)\n",
    "    x2,u = seidel(C,b)\n",
    "\n",
    "    print('Random: ', np.abs(xx2-x2), 'Niter: ', u)\n"
   ]
  },
  {
   "cell_type": "markdown",
   "metadata": {},
   "source": [
    "# III. Minimum residual scheme"
   ]
  },
  {
   "cell_type": "markdown",
   "metadata": {},
   "source": [
    "### Task III.1\n",
    "\n",
    "Implement the $\\textit{minimum residual}$ scheme: an explicit non-stationary method, where at each step you select the iteration parameter $\\tau_n$ to minimize the residual $\\mathbf{r}_{n+1}$ given $\\mathbf{r}_n$. Test it on a random matrix, study the convergence to the solution, in terms of the norm of the residual and the deviation from the ground truth solution (which you can obtain using a direct method). Study how the iteration parameter $\\tau_n$ changes as iterations progress.\n",
    "\n",
    "(50% of the grade)"
   ]
  },
  {
   "cell_type": "code",
   "execution_count": 282,
   "metadata": {},
   "outputs": [],
   "source": [
    "def min_res(A, b, x0, rtol=1e-16, niter = 5000):\n",
    "    x = x0\n",
    "    n = 0\n",
    "    r_ = np.array([])\n",
    "    tau_ = np.array([])\n",
    "    for i in range(niter):\n",
    "        r = A @ x - b\n",
    "        r_ = np.append(r_, np.linalg.norm(r))\n",
    "        tau = np.dot(r, A @ r)/np.linalg.norm(A @ r)**2 #this I took from lecture\n",
    "        tau_ = np.append(tau_, tau)\n",
    "        x_s = x - tau * r\n",
    "        n += 1\n",
    "        if np.linalg.norm(x_s - x)<= rtol:\n",
    "            break\n",
    "        x = x_s\n",
    "    return x, n, r_[0], r_[n-1], tau_"
   ]
  },
  {
   "cell_type": "code",
   "execution_count": 283,
   "metadata": {},
   "outputs": [
    {
     "name": "stdout",
     "output_type": "stream",
     "text": "DDominant:  [0. 0. 0. 0. 0. 0. 0. 0. 0. 0.] Niter:  38 Starts / Ends: 5.239957853579172e+16\npSymmetric:  [0. 0. 0. 0. 0. 0. 0. 0. 0. 0.] Niter:  407 Starts / Ends: 3.3375497647887492e+16\nRandom:  [2.16955783 0.27641392 0.899283   0.88010188 0.95792678 0.84879165\n 2.05348242 1.11348924 1.26976784 1.57724567] , Niter:  28\nDDominant:  [0. 0. 0. 0. 0. 0. 0. 0. 0. 0.] Niter:  34 Starts / Ends: 6.974753698234969e+16\npSymmetric:  [0. 0. 0. 0. 0. 0. 0. 0. 0. 0.] Niter:  870 Starts / Ends: 2.7939622638932908e+16\nRandom:  [1.25200353 2.17047675 1.14758405 0.55060204 0.5853526  1.74236083\n 2.9316221  2.50334497 0.83888076 0.16045034] , Niter:  36\nDDominant:  [0. 0. 0. 0. 0. 0. 0. 0. 0. 0.] Niter:  38 Starts / Ends: 4.595153145704665e+16\npSymmetric:  [9.24937796 8.16449193 4.50848894 1.67292084 4.37316204 6.78585821\n 4.18286647 1.69301869 5.37537667 7.14151012] Niter:  5000 Starts / Ends: 28.176469639745235\nRandom:  [ 1.95689268  9.64300872  8.44755544 25.51715211  3.51106796  6.68578685\n  3.37695935  0.67780415 12.06456797 23.08858801] , Niter:  25\nDDominant:  [0. 0. 0. 0. 0. 0. 0. 0. 0. 0.] Niter:  37 Starts / Ends: 6.3378504892627016e+16\npSymmetric:  [0. 0. 0. 0. 0. 0. 0. 0. 0. 0.] Niter:  298 Starts / Ends: 3.734763439178257e+16\nRandom:  [1.90217396 1.29407322 1.23009872 3.48917691 4.95121216 3.44478774\n 0.28078878 0.6507321  0.34096804 2.73168566] , Niter:  42\nDDominant:  [0. 0. 0. 0. 0. 0. 0. 0. 0. 0.] Niter:  38 Starts / Ends: 1.0334354359115155e+17\npSymmetric:  [0. 0. 0. 0. 0. 0. 0. 0. 0. 0.] Niter:  224 Starts / Ends: 5.627195068689946e+16\nRandom:  [2.33610884 2.13428803 4.73504677 0.68540132 1.26944807 1.13117327\n 3.59680978 6.23498719 2.43679576 2.57211187] , Niter:  139\nDDominant:  [0. 0. 0. 0. 0. 0. 0. 0. 0. 0.] Niter:  35 Starts / Ends: 1.270159386071237e+17\npSymmetric:  [0. 0. 0. 0. 0. 0. 0. 0. 0. 0.] Niter:  378 Starts / Ends: 5.0562596860818184e+16\nRandom:  [0.18842812 0.63017936 0.47164762 0.5844901  0.13330769 0.47510897\n 0.87126432 0.17839253 0.01322423 0.06831678] , Niter:  27\nDDominant:  [0. 0. 0. 0. 0. 0. 0. 0. 0. 0.] Niter:  44 Starts / Ends: 6.061366608305646e+16\npSymmetric:  [0. 0. 0. 0. 0. 0. 0. 0. 0. 0.] Niter:  529 Starts / Ends: 4.3103814411330584e+16\nRandom:  [0.25289424 0.12005578 0.2546377  0.08221338 0.55981739 0.05565179\n 0.17539738 0.62867292 0.16593033 0.59700323] , Niter:  43\nDDominant:  [0. 0. 0. 0. 0. 0. 0. 0. 0. 0.] Niter:  30 Starts / Ends: 9.21458374626134e+16\npSymmetric:  [0. 0. 0. 0. 0. 0. 0. 0. 0. 0.] Niter:  283 Starts / Ends: 6.022306620673203e+16\nRandom:  [0.63719051 0.53775042 0.80356556 0.96060008 0.10913594 0.3058778\n 2.64996364 3.93034353 1.04064413 4.60670872] , Niter:  34\nDDominant:  [0. 0. 0. 0. 0. 0. 0. 0. 0. 0.] Niter:  36 Starts / Ends: 1.1773598833033226e+17\npSymmetric:  [0.04116994 0.11152489 0.01462501 0.09071527 0.14074484 0.0100793\n 0.10309966 0.15048637 0.08411992 0.00600577] Niter:  5000 Starts / Ends: 566.3764338178529\nRandom:  [2.46817781 1.02537278 1.18872112 1.49089862 1.5420608  1.64440477\n 2.59585185 1.00077224 0.72930365 3.74782093] , Niter:  11\nDDominant:  [0. 0. 0. 0. 0. 0. 0. 0. 0. 0.] Niter:  36 Starts / Ends: 4.673851778089254e+16\npSymmetric:  [0.03611144 0.07954095 0.02310524 0.01631592 0.06540705 0.08338571\n 0.074737   0.02596332 0.01837727 0.07382992] Niter:  5000 Starts / Ends: 860.6625580053943\nRandom:  [1.190262   0.79703459 0.02955691 0.08088289 1.42939616 1.9669486\n 0.03829742 0.79050724 1.03027484 0.28968719] , Niter:  22\n"
    }
   ],
   "source": [
    "for i in range(10):\n",
    "    n = 10\n",
    "    A = rndm.uniform(size=(n, n)) + np.diagflat([5]*n)#diagonally dominant\n",
    "    b = rndm.uniform(size=n)\n",
    "    x0 = np.ones(b.shape[0])\n",
    "    xx = np.linalg.solve(A,b)\n",
    "    x,k, r11, r12 ,tau1 = min_res(A, b, x0)\n",
    "    print('DDominant: ',np.abs(xx-x), 'Niter: ', k, 'Starts / Ends:',r11/r12)\n",
    "\n",
    "    a = np.random.rand(n, n)\n",
    "    M = np.tril(a,-1) + np.tril(a, -1).T + np.diagflat([2]*n)#symmetric and positive definite\n",
    "    xx1 = np.linalg.solve(M,b)\n",
    "    x1, p, r21, r22, tau2 = min_res(M, b, x0)\n",
    "    print('pSymmetric: ',np.abs(xx1-x1), 'Niter: ', p, 'Starts / Ends:',r21/r22)\n",
    "\n",
    "    C = rndm.uniform(size=(n, n)) #random won't converge\n",
    "    xx2 = np.linalg.solve(C,b)\n",
    "    x2, u, r31, r32, tau3 = min_res(C,b, x0)\n",
    "    print('Random: ', np.abs(xx2-x2), ', Niter: ', u)"
   ]
  },
  {
   "cell_type": "code",
   "execution_count": 288,
   "metadata": {},
   "outputs": [
    {
     "name": "stdout",
     "output_type": "stream",
     "text": "DDominant:  [0.10021221 0.19770213 0.12994483 0.14556109 0.13958483 0.14417148\n 0.14528196 0.13932249 0.14939774 0.13512173 0.15283814 0.13190624\n 0.15562344 0.12947468 0.1576949  0.12766819 0.15900707 0.12640468\n 0.15950069 0.12566233 0.15908334 0.12547509 0.15762331 0.12594844\n 0.15495772 0.12730645 0.15094532 0.12999838 0.14566198 0.1348972\n 0.13987657 0.14320113 0.13518349 0.15414038 0.13171023 0.1632178\n 0.12977059 0.16947929 0.12077294]\npSymmetric:  [0.15222089 0.61760824 0.60096177 0.31935747 0.24969548 0.3343445\n 0.25066606 0.33472536 0.25078138 0.33487049 0.2508442  0.33496242\n 0.25088903 0.3350356  0.25092828 0.33510483 0.25096765 0.33517724\n 0.25101001 0.33525661 0.25105698 0.33534526 0.25110963 0.33544477\n 0.25116873 0.33555641 0.25123492 0.33568123 0.25130875 0.33582009\n 0.25139061 0.33597362 0.25148081 0.33614224 0.25157948 0.336326\n 0.25168655 0.33652462 0.25180173 0.33673736 0.25192447 0.33696303\n 0.25205396 0.33719996 0.25218915 0.33744603 0.25232871 0.33769872\n 0.25247116 0.33795522 0.25261485 0.33821253 0.25275808 0.3384676\n 0.25289917 0.33871749 0.25303655 0.33895948 0.25316878 0.33919121\n 0.25329467 0.33941072 0.25341326 0.33961654 0.25352388 0.33980768\n 0.25362611 0.33998359 0.25371978 0.34014416 0.25380493 0.34028963\n 0.25388178 0.34042052 0.25395069 0.34053755 0.25401213 0.34064163\n 0.25406661 0.34073372 0.25411471 0.34081486 0.254157   0.34088608\n 0.25419404 0.34094837 0.2542264  0.34100269 0.25425457 0.34104995\n 0.25427905 0.34109096 0.25430027 0.34112649 0.25431863 0.34115721\n 0.2543345  0.34118374 0.2543482  0.34120662 0.25436    0.34122633\n 0.25437016 0.34124329 0.2543789  0.34125788 0.25438642 0.34127042\n 0.25439287 0.34128118 0.25439841 0.34129043 0.25440317 0.34129836\n 0.25440725 0.34130516 0.25441075 0.34131099 0.25441375 0.34131599\n 0.25441632 0.34132027 0.25441853 0.34132394 0.25442042 0.34132709\n 0.25442203 0.34132978 0.25442342 0.34133209 0.2544246  0.34133406\n 0.25442562 0.34133576 0.25442649 0.3413372  0.25442723 0.34133844\n 0.25442787 0.34133951 0.25442841 0.34134041 0.25442888 0.34134119\n 0.25442928 0.34134186 0.25442962 0.34134243 0.25442992 0.34134292\n 0.25443017 0.34134333 0.25443038 0.34134369 0.25443057 0.341344\n 0.25443072 0.34134426 0.25443086 0.34134449 0.25443097 0.34134467\n 0.25443107 0.34134483 0.25443116 0.34134498 0.25443122 0.34134512\n 0.25443128 0.34134519 0.25443135 0.34134529 0.25443138 0.34134538\n 0.25443142 0.34134544 0.25443144 0.34134551 0.25443146 0.3413456\n 0.25443147 0.34134562 0.2544315  0.34134561 0.25443153 0.34134558\n 0.25443156 0.34134576 0.25443148 0.34134569 0.25443156 0.34134587\n 0.25443156 0.34134592 0.25443148 0.34134592 0.25443145 0.34134598\n 0.25443139 0.34134582 0.25443152 0.34134604 0.25443144 0.34134617\n 0.25443162 0.34134584 0.25443147 0.34134556 0.25443157 0.34134585\n 0.25443202 0.34134492 0.25443165 0.34134623 0.25443047 0.34134582\n 0.25443144 0.34134908 0.25443021 0.34134862 0.25443005 0.34134877\n 0.25442999 0.34134795 0.25442923 0.34134974 0.25442917 0.34135307\n 0.2544297  0.34135493 0.25442756 0.34134594 0.25443228 0.34134456\n 0.25443269 0.3413447  0.2544276  0.34135829 0.25442655 0.34135007\n 0.25442789 0.34133749 0.25443691 0.34134568 0.25443271 0.34134334\n 0.25443344 0.34132062 0.25444594 0.34132443 0.25443888 0.34131703\n 0.25443581 0.34138941 0.25442537 0.3413532  0.25446347 0.34127896\n 0.25444246 0.34130132 0.25442022 0.34134807 0.25440953 0.34142493\n 0.25440383 0.34141619 0.25440777 0.34155898 0.25429962 0.34173339\n 0.25423947 0.34184909 0.25423577 0.34211155 0.25396238 0.34238776\n 0.25397166 0.34215357 0.25403704 0.34227085 0.25415013 0.34115935\n 0.25423797 0.34205595 0.25370577 0.34245987 0.25355509 0.3421327\n 0.25381371 0.34211754 0.25403618 0.34195087 0.25395203 0.34386205\n 0.25322713 0.34240766 0.25372058 0.34284784 0.25306124 0.34262402\n 0.25425003 0.34475325 0.25189407 0.34683991 0.25197163 0.3461119\n 0.25000444 0.35242667 0.25021001 0.35904498 0.24704937 0.34357867\n 0.24691711 0.35974915 0.24509038 0.36507678 0.24896912 0.34949409\n 0.24842238 0.3484975  0.24726482 0.35477261 0.23859137 0.347574\n 0.23584821 0.35237856 0.24205001 0.34777495 0.25194418 0.35705287\n 0.25201583 0.32122994 0.25629986 0.33827489 0.23996779 0.37796544\n 0.22691244 0.36520033 0.28187878 0.31520783 0.26159883 0.28825701\n 0.27422114 0.64776085 0.19460299 0.3646495  0.20618797 0.28698186\n 0.27909651 0.4844381  0.2150118  0.99755127 0.17507965 0.26871541\n 0.27263604 0.6159415  0.32115441 0.18682335 0.58046986 0.16513149\n 0.27393347 0.73834348 0.25110449 0.38533911 0.22677099 0.50033343\n 0.26257432 0.20564347]\nRandom:  [ 0.17196216 -0.14164725  0.02507068 -0.00648064  0.00151667 -0.00036341\n  0.00008659 -0.00002066  0.00000493 -0.00000118  0.00000028 -0.00000007\n  0.00000002 -0.          0.         -0.          0.         -0.\n  0.         -0.          0.         -0.          0.         -0.\n  0.         -0.         -0.        ]\n"
    }
   ],
   "source": [
    "#Now check changing of tau\n",
    "n = 10\n",
    "A = rndm.uniform(size=(n, n)) + np.diagflat([5]*n)#diagonally dominant\n",
    "b = rndm.uniform(size=n)\n",
    "x0 = np.ones(b.shape[0])\n",
    "xx = np.linalg.solve(A,b)\n",
    "x,k, r11, r12 ,tau1 = min_res(A, b, x0)\n",
    "print('DDominant: ',tau1)\n",
    "\n",
    "a = np.random.rand(n, n)\n",
    "M = np.tril(a,-1) + np.tril(a, -1).T + np.diagflat([2]*n)#symmetric and positive definite\n",
    "xx1 = np.linalg.solve(M,b)\n",
    "x1, p, r21, r22, tau2 = min_res(M, b, x0)\n",
    "print('pSymmetric: ',tau2)\n",
    "\n",
    "\n",
    "C = rndm.uniform(size=(n, n)) #random won't converge\n",
    "xx2 = np.linalg.solve(C,b)\n",
    "x2, u, r31, r32, tau3 = min_res(C,b, x0)\n",
    "print('Random: ', tau3)\n",
    "# I can see oscillations between tau(n) and tau(n+1)"
   ]
  },
  {
   "cell_type": "code",
   "execution_count": null,
   "metadata": {},
   "outputs": [],
   "source": []
  }
 ],
 "metadata": {
  "kernelspec": {
   "display_name": "Python 3",
   "language": "python",
   "name": "python3"
  },
  "language_info": {
   "codemirror_mode": {
    "name": "ipython",
    "version": 3
   },
   "file_extension": ".py",
   "mimetype": "text/x-python",
   "name": "python",
   "nbconvert_exporter": "python",
   "pygments_lexer": "ipython3",
   "version": "3.7.4-final"
  }
 },
 "nbformat": 4,
 "nbformat_minor": 2
}