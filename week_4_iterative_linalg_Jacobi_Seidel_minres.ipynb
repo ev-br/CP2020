{
 "cells": [
  {
   "cell_type": "markdown",
   "metadata": {},
   "source": [
    "# Simple iteration for systems of linear equations"
   ]
  },
  {
   "cell_type": "markdown",
   "metadata": {},
   "source": [
    "First, generate a random diagonally dominant matrix, for testing."
   ]
  },
  {
   "cell_type": "code",
   "execution_count": 238,
   "metadata": {},
   "outputs": [],
   "source": [
    "import numpy as np\n",
    "rndm = np.random.RandomState(1234)\n",
    "\n",
    "n = 10\n",
    "A = rndm.uniform(size=(n, n)) + np.diagflat([15]*n)\n",
    "b = rndm.uniform(size=n)"
   ]
  },
  {
   "cell_type": "markdown",
   "metadata": {},
   "source": [
    "# I.  Jacobi iteration\n",
    "\n",
    "Given\n",
    "\n",
    "$$\n",
    "A x = b\n",
    "$$\n",
    "\n",
    "separate the diagonal part $D$,\n",
    "\n",
    "$$ A = D + (A - D) $$\n",
    "\n",
    "and write\n",
    "\n",
    "$$\n",
    "x = D^{-1} (D - A) x + D^{-1} b\\;.\n",
    "$$\n",
    "\n",
    "Then iterate\n",
    "\n",
    "$$\n",
    "x_{n + 1} = B x_{n} + c\\;,\n",
    "$$\n",
    "\n",
    "where \n",
    "\n",
    "$$\n",
    "B = D^{-1} (A - D) \\qquad \\text{and} \\qquad c = D^{-1} b\n",
    "$$\n"
   ]
  },
  {
   "cell_type": "markdown",
   "metadata": {},
   "source": [
    "Let's construct the matrix and the r.h.s. for the Jacobi iteration"
   ]
  },
  {
   "cell_type": "code",
   "execution_count": 239,
   "metadata": {},
   "outputs": [],
   "source": [
    "diag_1d = np.diag(A)\n",
    "\n",
    "B = -A.copy()\n",
    "np.fill_diagonal(B, 0)\n",
    "\n",
    "D = np.diag(diag_1d)\n",
    "invD = np.diag(1./diag_1d)\n",
    "BB = invD @ B \n",
    "c = invD @ b"
   ]
  },
  {
   "cell_type": "code",
   "execution_count": 240,
   "metadata": {},
   "outputs": [],
   "source": [
    "# sanity checks\n",
    "from numpy.testing import assert_allclose\n",
    "\n",
    "assert_allclose(-B + D, A)\n",
    "\n",
    "\n",
    "# xx is a \"ground truth\" solution, compute it using a direct method\n",
    "xx = np.linalg.solve(A, b)\n",
    "\n",
    "np.testing.assert_allclose(A@xx, b)\n",
    "np.testing.assert_allclose(D@xx, B@xx + b)\n",
    "np.testing.assert_allclose(xx, BB@xx + c)"
   ]
  },
  {
   "cell_type": "markdown",
   "metadata": {},
   "source": [
    "Check that $\\| B\\| \\leqslant 1$:"
   ]
  },
  {
   "cell_type": "code",
   "execution_count": 241,
   "metadata": {},
   "outputs": [
    {
     "data": {
      "text/plain": "0.36436161983015336"
     },
     "execution_count": 241,
     "metadata": {},
     "output_type": "execute_result"
    }
   ],
   "source": [
    "np.linalg.norm(BB)"
   ]
  },
  {
   "cell_type": "markdown",
   "metadata": {},
   "source": [
    "### Do the Jacobi iteration"
   ]
  },
  {
   "cell_type": "code",
   "execution_count": 242,
   "metadata": {},
   "outputs": [],
   "source": [
    "n_iter = 50\n",
    "\n",
    "x0 = np.ones(n)\n",
    "x = x0\n",
    "for _ in range(n_iter):\n",
    "    x = BB @ x + c"
   ]
  },
  {
   "cell_type": "code",
   "execution_count": 243,
   "metadata": {},
   "outputs": [
    {
     "data": {
      "text/plain": "array([ 0.,  0.,  0., -0.,  0.,  0., -0.,  0.,  0.,  0.])"
     },
     "execution_count": 243,
     "metadata": {},
     "output_type": "execute_result"
    }
   ],
   "source": [
    "# Check the result:\n",
    "\n",
    "A @ x - b"
   ]
  },
  {
   "cell_type": "markdown",
   "metadata": {},
   "source": [
    "### Task I.1\n",
    "\n",
    "Collect the proof-of-concept above into a single function implementing the Jacobi iteration. This function should receive the r.h.s. matrix $A$, the l.h.s. vector `b`, and the number of iterations to perform.\n",
    "\n",
    "\n",
    "The matrix $A$ in the illustration above is strongly diagonally dominant, by construction. \n",
    "What happens if the diagonal matrix elements of $A$ are made smaller? Check the convergence of the Jacobi iteration, and check the value of the norm of $B$.\n",
    "\n",
    "(20% of the total grade)\n"
   ]
  },
  {
   "cell_type": "code",
   "execution_count": 244,
   "metadata": {},
   "outputs": [],
   "source": [
    "def jacob(A, b, rtol=1e-16, niter = 500):\n",
    "    dgA = np.diag(np.diag(A))\n",
    "    B = A - dgA\n",
    "    x = np.ones(b.shape[0])\n",
    "    dgA_ = np.diag(1/np.diag(dgA))\n",
    "    n = 0\n",
    "    for i in range(niter):\n",
    "        normB = np.linalg.norm(dgA_ @ -B)\n",
    "        if normB > 1: #checking convergence\n",
    "            print(\"don't converge\")\n",
    "            break\n",
    "        x_s = (dgA_ @ -B ) @ x + dgA_ @ b\n",
    "        n +=1\n",
    "        if np.linalg.norm(x_s - x) <= rtol: #elimination of excess iterations\n",
    "            break\n",
    "        else:\n",
    "            x = x_s\n",
    "    return x, n\n"
   ]
  },
  {
   "cell_type": "code",
   "execution_count": 245,
   "metadata": {},
   "outputs": [
    {
     "name": "stdout",
     "output_type": "stream",
     "text": "don't converge\n[1.69028049 0.34674145 1.25212443 0.94810969 0.63289142 1.68956675\n 0.76193901 0.92340856 1.04634973 0.04209147] Diag multiply:  1 Niter:  0\ndon't converge\n[0.84394861 0.88037364 0.66600454 0.80867916 0.7869155  1.14538078\n 0.73429736 1.22672463 1.12557723 0.99134399] Diag multiply:  2 Niter:  0\ndon't converge\n[0.88492617 1.11121635 0.78623234 1.16486714 0.86765002 1.08494476\n 1.04304059 0.83135432 0.76590397 0.91315443] Diag multiply:  3 Niter:  0\ndon't converge\n[1.03429143 1.00009777 0.94169352 0.96024901 1.03918878 1.02263367\n 0.92457748 1.01385928 0.83446026 0.85449813] Diag multiply:  4 Niter:  0\n[0. 0. 0. 0. 0. 0. 0. 0. 0. 0.] Diag multiply:  5 Niter:  169\n[0. 0. 0. 0. 0. 0. 0. 0. 0. 0.] Diag multiply:  6 Niter:  113\n[0. 0. 0. 0. 0. 0. 0. 0. 0. 0.] Diag multiply:  7 Niter:  71\n[0. 0. 0. 0. 0. 0. 0. 0. 0. 0.] Diag multiply:  8 Niter:  66\n[0. 0. 0. 0. 0. 0. 0. 0. 0. 0.] Diag multiply:  9 Niter:  52\n[0. 0. 0. 0. 0. 0. 0. 0. 0. 0.] Diag multiply:  10 Niter:  40\n[0. 0. 0. 0. 0. 0. 0. 0. 0. 0.] Diag multiply:  11 Niter:  42\n[0. 0. 0. 0. 0. 0. 0. 0. 0. 0.] Diag multiply:  12 Niter:  36\n[0. 0. 0. 0. 0. 0. 0. 0. 0. 0.] Diag multiply:  13 Niter:  35\n[0. 0. 0. 0. 0. 0. 0. 0. 0. 0.] Diag multiply:  14 Niter:  33\n[0. 0. 0. 0. 0. 0. 0. 0. 0. 0.] Diag multiply:  15 Niter:  30\n[0. 0. 0. 0. 0. 0. 0. 0. 0. 0.] Diag multiply:  16 Niter:  30\n[0. 0. 0. 0. 0. 0. 0. 0. 0. 0.] Diag multiply:  17 Niter:  30\n[0. 0. 0. 0. 0. 0. 0. 0. 0. 0.] Diag multiply:  18 Niter:  28\n[0. 0. 0. 0. 0. 0. 0. 0. 0. 0.] Diag multiply:  19 Niter:  29\n"
    }
   ],
   "source": [
    "n = 10\n",
    "np.set_printoptions(suppress=True)\n",
    "for l in range(1,20): #we check some dominance of matrix\n",
    "    A = rndm.uniform(size=(n, n)) + np.diagflat([l]*n)\n",
    "    b = rndm.uniform(size=n)\n",
    "    xx = np.linalg.solve(A,b)\n",
    "    x, m = jacob(A,b)\n",
    "    print(np.abs(xx-x),'Diag multiply: ',l, 'Niter: ', m)"
   ]
  },
  {
   "cell_type": "markdown",
   "metadata": {},
   "source": [
    "# II. Seidel's iteration."
   ]
  },
  {
   "cell_type": "markdown",
   "metadata": {},
   "source": [
    "##### Task II.1\n",
    "\n",
    "Implement the Seidel's iteration. \n",
    "\n",
    "Test it on a random matrix. Study the convergence of iterations, relate to the norm of the iteration matrix.\n",
    "\n",
    "(30% of the total grade)"
   ]
  },
  {
   "cell_type": "code",
   "execution_count": 246,
   "metadata": {},
   "outputs": [],
   "source": [
    "def seidel(A, b, rtol = 1e-16, niter= 500):\n",
    "    U = np.triu(A,k=1)\n",
    "    L = np.tril(A,k=0)\n",
    "    L_ = np.linalg.inv(L)\n",
    "    x = np.ones(b.shape[0])\n",
    "    n = 0\n",
    "    for i in range(niter):\n",
    "        normB = np.linalg.norm(L_ @ U)\n",
    "        if normB > 1: #checking convergence\n",
    "            print(\"don't converge\")\n",
    "            break\n",
    "        x_s = L_ @ b - L_@ U @ x\n",
    "        n += 1 \n",
    "        if np.linalg.norm(x_s - x)<= rtol:\n",
    "            break\n",
    "        x = x_s\n",
    "    return x,n"
   ]
  },
  {
   "cell_type": "code",
   "execution_count": 247,
   "metadata": {},
   "outputs": [
    {
     "name": "stdout",
     "output_type": "stream",
     "text": "DDominant:  [0. 0. 0. 0. 0. 0. 0. 0. 0. 0.] Niter:  28\nPSymmetric:  [0. 0. 0. 0. 0. 0. 0. 0. 0. 0.] Niter:  23\ndon't converge\nRandom:  [0.81075754 2.52057467 2.0665217  0.78188964 1.81430634 0.4546695\n 1.42871118 0.04475773 2.83897545 0.5963693 ] Niter:  0\nDDominant:  [0. 0. 0. 0. 0. 0. 0. 0. 0. 0.] Niter:  22\nPSymmetric:  [0. 0. 0. 0. 0. 0. 0. 0. 0. 0.] Niter:  26\ndon't converge\nRandom:  [0.98465121 2.2042164  0.09611676 0.59245988 1.57833379 1.28030354\n 1.76481199 1.4340043  2.9885939  1.00000378] Niter:  0\nDDominant:  [0. 0. 0. 0. 0. 0. 0. 0. 0. 0.] Niter:  25\nPSymmetric:  [0. 0. 0. 0. 0. 0. 0. 0. 0. 0.] Niter:  29\ndon't converge\nRandom:  [5.67939014 3.90833017 1.09557964 4.28201803 0.40121489 5.42195606\n 1.23847474 0.00939071 0.08293836 0.39229512] Niter:  0\nDDominant:  [0. 0. 0. 0. 0. 0. 0. 0. 0. 0.] Niter:  22\nPSymmetric:  [0. 0. 0. 0. 0. 0. 0. 0. 0. 0.] Niter:  24\ndon't converge\nRandom:  [  1.5090538   44.75717273  31.6173864  120.67020884  33.32795666\n  57.29384097   6.96836204  79.20722204   5.08597102  22.10112257] Niter:  0\nDDominant:  [0. 0. 0. 0. 0. 0. 0. 0. 0. 0.] Niter:  22\nPSymmetric:  [0. 0. 0. 0. 0. 0. 0. 0. 0. 0.] Niter:  26\ndon't converge\nRandom:  [1.59036397 0.8604622  0.14602642 0.79794301 1.02363579 0.35052713\n 0.71413695 1.721818   1.14415658 0.57729427] Niter:  0\nDDominant:  [0. 0. 0. 0. 0. 0. 0. 0. 0. 0.] Niter:  25\nPSymmetric:  [0. 0. 0. 0. 0. 0. 0. 0. 0. 0.] Niter:  26\ndon't converge\nRandom:  [ 5.56544962  7.01338641  5.3445608   0.19868498  1.00213694  9.66249257\n 10.75149795  0.07942924  3.44888225 13.1844179 ] Niter:  0\nDDominant:  [0. 0. 0. 0. 0. 0. 0. 0. 0. 0.] Niter:  24\nPSymmetric:  [0. 0. 0. 0. 0. 0. 0. 0. 0. 0.] Niter:  24\ndon't converge\nRandom:  [0.33345719 0.42748526 0.0593757  1.75523969 1.16315974 0.85339852\n 0.9073245  0.51034687 1.30634457 1.76310189] Niter:  0\nDDominant:  [0. 0. 0. 0. 0. 0. 0. 0. 0. 0.] Niter:  24\nPSymmetric:  [0. 0. 0. 0. 0. 0. 0. 0. 0. 0.] Niter:  26\ndon't converge\nRandom:  [0.98972705 1.49834422 0.38285432 1.4925131  0.64454837 0.56675909\n 0.55186704 0.59065421 0.91293294 1.22445382] Niter:  0\nDDominant:  [0. 0. 0. 0. 0. 0. 0. 0. 0. 0.] Niter:  26\nPSymmetric:  [0. 0. 0. 0. 0. 0. 0. 0. 0. 0.] Niter:  24\ndon't converge\nRandom:  [2.5777929  1.25860826 0.75126353 7.0276177  2.9407783  2.77547147\n 0.69224083 0.56768258 4.12085188 1.52225   ] Niter:  0\nDDominant:  [0. 0. 0. 0. 0. 0. 0. 0. 0. 0.] Niter:  26\nPSymmetric:  [0. 0. 0. 0. 0. 0. 0. 0. 0. 0.] Niter:  23\ndon't converge\nRandom:  [3.16644844 1.26045042 4.77037575 0.02681197 0.37744526 1.37862539\n 0.76281798 2.60025895 2.57958886 1.67546326] Niter:  0\n"
    }
   ],
   "source": [
    "#convergence is only guaranteed if the matrix is either diagonally dominant, or symmetric and positive definite\n",
    "for i in range(10):\n",
    "    n = 10\n",
    "    A = rndm.uniform(size=(n, n)) + np.diagflat([5]*n)#diagonally dominant\n",
    "    b = rndm.uniform(size=n)\n",
    "    xx = np.linalg.solve(A,b)\n",
    "    x, k = seidel(A,b)\n",
    "    print('DDominant: ',np.abs(xx-x),'Niter: ', k)\n",
    "\n",
    "    a = np.random.rand(n, n)\n",
    "    M = np.tril(a,-1) + np.tril(a, -1).T + np.diagflat([5]*n)#symmetric and positive definite\n",
    "    xx1 = np.linalg.solve(M,b)\n",
    "    x1,p = seidel(M,b)\n",
    "    print('PSymmetric: ',np.abs(xx1-x1), 'Niter: ', p)\n",
    "\n",
    "    C = rndm.uniform(size=(n, n)) #random won't converge\n",
    "    xx2 = np.linalg.solve(C,b)\n",
    "    x2,u = seidel(C,b)\n",
    "\n",
    "    print('Random: ', np.abs(xx2-x2), 'Niter: ', u)\n"
   ]
  },
  {
   "cell_type": "markdown",
   "metadata": {},
   "source": [
    "# III. Minimum residual scheme"
   ]
  },
  {
   "cell_type": "markdown",
   "metadata": {},
   "source": [
    "### Task III.1\n",
    "\n",
    "Implement the $\\textit{minimum residual}$ scheme: an explicit non-stationary method, where at each step you select the iteration parameter $\\tau_n$ to minimize the residual $\\mathbf{r}_{n+1}$ given $\\mathbf{r}_n$. Test it on a random matrix, study the convergence to the solution, in terms of the norm of the residual and the deviation from the ground truth solution (which you can obtain using a direct method). Study how the iteration parameter $\\tau_n$ changes as iterations progress.\n",
    "\n",
    "(50% of the grade)"
   ]
  },
  {
   "cell_type": "code",
   "execution_count": 248,
   "metadata": {},
   "outputs": [],
   "source": [
    "def min_res(A, b, x0, rtol=1e-16, niter = 5000):\n",
    "    x = x0\n",
    "    n = 0\n",
    "    r_ = np.array([])\n",
    "    for i in range(niter):\n",
    "        r = A @ x - b\n",
    "        r_ = np.append(r_, np.linalg.norm(r))\n",
    "        tau = np.dot(r, A @ r)/np.linalg.norm(A @ r)**2 #this I took from lecture\n",
    "        x_s = x - tau * r\n",
    "        n += 1\n",
    "        if np.linalg.norm(x_s - x)<= rtol:\n",
    "            break\n",
    "        x = x_s\n",
    "    return x, n, r_[0], r_[n-1]"
   ]
  },
  {
   "cell_type": "code",
   "execution_count": 250,
   "metadata": {},
   "outputs": [
    {
     "name": "stdout",
     "output_type": "stream",
     "text": "DDominant:  [0. 0. 0. 0. 0. 0. 0. 0. 0. 0.] Niter:  41 Starts / Ends: 8.168676459837272e+16\npSymmetric:  [0. 0. 0. 0. 0. 0. 0. 0. 0. 0.] Niter:  425 Starts / Ends: 5.217662107505157e+16\nRandom:  [1.56615036 1.72278205 2.77799364 0.37563815 0.57704058 1.98565004\n 1.64372807 2.51556843 0.55966319 1.42618178] , Niter:  15\nDDominant:  [0. 0. 0. 0. 0. 0. 0. 0. 0. 0.] Niter:  34 Starts / Ends: 1.2044812980960003e+17\npSymmetric:  [0. 0. 0. 0. 0. 0. 0. 0. 0. 0.] Niter:  1013 Starts / Ends: 3.877452483174474e+16\nRandom:  [0.07567072 1.24545175 2.22189477 1.75292102 0.71172562 1.11264196\n 0.87253602 1.82292117 2.77911588 0.49331605] , Niter:  9\nDDominant:  [0. 0. 0. 0. 0. 0. 0. 0. 0. 0.] Niter:  37 Starts / Ends: 3.9809057076666936e+16\npSymmetric:  [0. 0. 0. 0. 0. 0. 0. 0. 0. 0.] Niter:  214 Starts / Ends: 7.880490563620981e+16\nRandom:  [0.61681528 0.32587598 0.60642315 1.65580175 1.19628238 0.22615603\n 1.01381782 0.983003   1.89244565 0.13150679] , Niter:  36\nDDominant:  [0. 0. 0. 0. 0. 0. 0. 0. 0. 0.] Niter:  34 Starts / Ends: 6.358305656590921e+16\npSymmetric:  [0. 0. 0. 0. 0. 0. 0. 0. 0. 0.] Niter:  161 Starts / Ends: 4.121498446707172e+16\nRandom:  [ 2.35921033  9.02049296  5.37284569  7.27729104  2.17056609 16.82366846\n  0.03472832  2.22517953  6.34793509  1.30944942] , Niter:  32\nDDominant:  [0. 0. 0. 0. 0. 0. 0. 0. 0. 0.] Niter:  40 Starts / Ends: 7.241690762369728e+16\npSymmetric:  [0. 0. 0. 0. 0. 0. 0. 0. 0. 0.] Niter:  890 Starts / Ends: 2.3062838600127868e+16\nRandom:  [0.07300915 0.3838698  1.93864994 1.26965345 1.81081611 0.61785929\n 1.88403534 2.19413368 0.7456769  1.19249378] , Niter:  36\nDDominant:  [0. 0. 0. 0. 0. 0. 0. 0. 0. 0.] Niter:  40 Starts / Ends: 1.2264432764364504e+17\npSymmetric:  [0. 0. 0. 0. 0. 0. 0. 0. 0. 0.] Niter:  387 Starts / Ends: 3.4144930014632764e+16\nRandom:  [0.19198306 0.05838926 0.20496688 0.17893778 0.19558586 0.17357922\n 0.4496017  0.64007403 0.24135775 0.10473493] , Niter:  28\nDDominant:  [0. 0. 0. 0. 0. 0. 0. 0. 0. 0.] Niter:  34 Starts / Ends: 9.31022223088489e+16\npSymmetric:  [0.00000008 0.00000039 0.0000003  0.00000036 0.00000021 0.00000061\n 0.00000013 0.0000001  0.00000055 0.00000072] Niter:  5000 Starts / Ends: 1572264700.4531665\nRandom:  [0.23781394 0.51988299 0.24910015 0.11873683 0.2924832  0.57956788\n 0.51802566 0.38412673 0.71305486 0.07580932] , Niter:  18\nDDominant:  [0. 0. 0. 0. 0. 0. 0. 0. 0. 0.] Niter:  32 Starts / Ends: 2.4246103027534947e+17\npSymmetric:  [0.00868974 0.00616402 0.00088849 0.00176042 0.00661239 0.00813103\n 0.00172161 0.01079187 0.01166315 0.00763184] Niter:  5000 Starts / Ends: 8027.3895862496465\nRandom:  [ 9.60075936  3.09567487  3.93268778  5.67681122  1.5641893   1.18008404\n  5.07271769  5.7111795  15.82540105  2.23098628] , Niter:  36\nDDominant:  [0. 0. 0. 0. 0. 0. 0. 0. 0. 0.] Niter:  37 Starts / Ends: 5.6920145389802296e+16\npSymmetric:  [0. 0. 0. 0. 0. 0. 0. 0. 0. 0.] Niter:  255 Starts / Ends: 5.514236552919256e+16\nRandom:  [1.53032752 3.80741943 0.59982473 2.11380627 1.70629532 1.6770656\n 2.5665016  0.31554941 4.51071087 4.28675998] , Niter:  56\nDDominant:  [0. 0. 0. 0. 0. 0. 0. 0. 0. 0.] Niter:  38 Starts / Ends: 1.0793289948784723e+17\npSymmetric:  [0. 0. 0. 0. 0. 0. 0. 0. 0. 0.] Niter:  385 Starts / Ends: 5.623062882173055e+16\nRandom:  [0.11364644 0.86453824 0.88013693 0.51118532 0.74158825 1.01020988\n 0.36527366 1.36860593 0.16052501 0.10115809] , Niter:  11\n"
    }
   ],
   "source": [
    "for i in range(10):\n",
    "    n = 10\n",
    "    A = rndm.uniform(size=(n, n)) + np.diagflat([5]*n)#diagonally dominant\n",
    "    b = rndm.uniform(size=n)\n",
    "    x0 = np.ones(b.shape[0])\n",
    "    xx = np.linalg.solve(A,b)\n",
    "    x,k, r11, r12 = min_res(A, b, x0)\n",
    "    print('DDominant: ',np.abs(xx-x), 'Niter: ', k, 'Starts / Ends:',r11/r12)\n",
    "\n",
    "    a = np.random.rand(n, n)\n",
    "    M = np.tril(a,-1) + np.tril(a, -1).T + np.diagflat([2]*n)#symmetric and positive definite\n",
    "    xx1 = np.linalg.solve(M,b)\n",
    "    x1, p, r21, r22 = min_res(M, b, x0)\n",
    "    print('pSymmetric: ',np.abs(xx1-x1), 'Niter: ', p, 'Starts / Ends:',r21/r22)\n",
    "\n",
    "    C = rndm.uniform(size=(n, n)) #random won't converge\n",
    "    xx2 = np.linalg.solve(C,b)\n",
    "    x2, u, r31, r32 = min_res(C,b, x0)\n",
    "    print('Random: ', np.abs(xx2-x2), ', Niter: ', u)"
   ]
  },
  {
   "cell_type": "code",
   "execution_count": null,
   "metadata": {},
   "outputs": [],
   "source": []
  }
 ],
 "metadata": {
  "kernelspec": {
   "display_name": "Python 3",
   "language": "python",
   "name": "python3"
  },
  "language_info": {
   "codemirror_mode": {
    "name": "ipython",
    "version": 3
   },
   "file_extension": ".py",
   "mimetype": "text/x-python",
   "name": "python",
   "nbconvert_exporter": "python",
   "pygments_lexer": "ipython3",
   "version": "3.7.4-final"
  }
 },
 "nbformat": 4,
 "nbformat_minor": 2
}