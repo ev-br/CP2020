{
 "cells": [
  {
   "cell_type": "markdown",
   "metadata": {},
   "source": [
    "# Simple iteration for systems of linear equations"
   ]
  },
  {
   "cell_type": "markdown",
   "metadata": {},
   "source": [
    "First, generate a random diagonally dominant matrix, for testing."
   ]
  },
  {
   "cell_type": "code",
   "execution_count": 238,
   "metadata": {},
   "outputs": [],
   "source": [
    "import numpy as np\n",
    "rndm = np.random.RandomState(1234)\n",
    "\n",
    "n = 10\n",
    "A = rndm.uniform(size=(n, n)) + np.diagflat([15]*n)\n",
    "b = rndm.uniform(size=n)"
   ]
  },
  {
   "cell_type": "markdown",
   "metadata": {},
   "source": [
    "# I.  Jacobi iteration\n",
    "\n",
    "Given\n",
    "\n",
    "$$\n",
    "A x = b\n",
    "$$\n",
    "\n",
    "separate the diagonal part $D$,\n",
    "\n",
    "$$ A = D + (A - D) $$\n",
    "\n",
    "and write\n",
    "\n",
    "$$\n",
    "x = D^{-1} (D - A) x + D^{-1} b\\;.\n",
    "$$\n",
    "\n",
    "Then iterate\n",
    "\n",
    "$$\n",
    "x_{n + 1} = B x_{n} + c\\;,\n",
    "$$\n",
    "\n",
    "where \n",
    "\n",
    "$$\n",
    "B = D^{-1} (A - D) \\qquad \\text{and} \\qquad c = D^{-1} b\n",
    "$$\n"
   ]
  },
  {
   "cell_type": "markdown",
   "metadata": {},
   "source": [
    "Let's construct the matrix and the r.h.s. for the Jacobi iteration"
   ]
  },
  {
   "cell_type": "code",
   "execution_count": 239,
   "metadata": {},
   "outputs": [],
   "source": [
    "diag_1d = np.diag(A)\n",
    "\n",
    "B = -A.copy()\n",
    "np.fill_diagonal(B, 0)\n",
    "\n",
    "D = np.diag(diag_1d)\n",
    "invD = np.diag(1./diag_1d)\n",
    "BB = invD @ B \n",
    "c = invD @ b"
   ]
  },
  {
   "cell_type": "code",
   "execution_count": 240,
   "metadata": {},
   "outputs": [],
   "source": [
    "# sanity checks\n",
    "from numpy.testing import assert_allclose\n",
    "\n",
    "assert_allclose(-B + D, A)\n",
    "\n",
    "\n",
    "# xx is a \"ground truth\" solution, compute it using a direct method\n",
    "xx = np.linalg.solve(A, b)\n",
    "\n",
    "np.testing.assert_allclose(A@xx, b)\n",
    "np.testing.assert_allclose(D@xx, B@xx + b)\n",
    "np.testing.assert_allclose(xx, BB@xx + c)"
   ]
  },
  {
   "cell_type": "markdown",
   "metadata": {},
   "source": [
    "Check that $\\| B\\| \\leqslant 1$:"
   ]
  },
  {
   "cell_type": "code",
   "execution_count": 241,
   "metadata": {},
   "outputs": [
    {
     "data": {
      "text/plain": "0.36436161983015336"
     },
     "execution_count": 241,
     "metadata": {},
     "output_type": "execute_result"
    }
   ],
   "source": [
    "np.linalg.norm(BB)"
   ]
  },
  {
   "cell_type": "markdown",
   "metadata": {},
   "source": [
    "### Do the Jacobi iteration"
   ]
  },
  {
   "cell_type": "code",
   "execution_count": 242,
   "metadata": {},
   "outputs": [],
   "source": [
    "n_iter = 50\n",
    "\n",
    "x0 = np.ones(n)\n",
    "x = x0\n",
    "for _ in range(n_iter):\n",
    "    x = BB @ x + c"
   ]
  },
  {
   "cell_type": "code",
   "execution_count": 243,
   "metadata": {},
   "outputs": [
    {
     "data": {
      "text/plain": "array([ 0.,  0.,  0., -0.,  0.,  0., -0.,  0.,  0.,  0.])"
     },
     "execution_count": 243,
     "metadata": {},
     "output_type": "execute_result"
    }
   ],
   "source": [
    "# Check the result:\n",
    "\n",
    "A @ x - b"
   ]
  },
  {
   "cell_type": "markdown",
   "metadata": {},
   "source": [
    "### Task I.1\n",
    "\n",
    "Collect the proof-of-concept above into a single function implementing the Jacobi iteration. This function should receive the r.h.s. matrix $A$, the l.h.s. vector `b`, and the number of iterations to perform.\n",
    "\n",
    "\n",
    "The matrix $A$ in the illustration above is strongly diagonally dominant, by construction. \n",
    "What happens if the diagonal matrix elements of $A$ are made smaller? Check the convergence of the Jacobi iteration, and check the value of the norm of $B$.\n",
    "\n",
    "(20% of the total grade)\n"
   ]
  },
  {
   "cell_type": "code",
   "execution_count": 244,
   "metadata": {},
   "outputs": [],
   "source": [
    "def jacob(A, b, rtol=1e-16, niter = 500):\n",
    "    dgA = np.diag(np.diag(A))\n",
    "    B = A - dgA\n",
    "    x = np.ones(b.shape[0])\n",
    "    dgA_ = np.diag(1/np.diag(dgA))\n",
    "    n = 0\n",
    "    for i in range(niter):\n",
    "        normB = np.linalg.norm(dgA_ @ -B)\n",
    "        if normB > 1: #checking convergence\n",
    "            print(\"don't converge\")\n",
    "            break\n",
    "        x_s = (dgA_ @ -B ) @ x + dgA_ @ b\n",
    "        n +=1\n",
    "        if np.linalg.norm(x_s - x) <= rtol: #elimination of excess iterations\n",
    "            break\n",
    "        else:\n",
    "            x = x_s\n",
    "    return x, n\n"
   ]
  },
  {
   "cell_type": "code",
   "execution_count": 245,
   "metadata": {},
   "outputs": [
    {
     "name": "stdout",
     "output_type": "stream",
     "text": "don't converge\n[1.69028049 0.34674145 1.25212443 0.94810969 0.63289142 1.68956675\n 0.76193901 0.92340856 1.04634973 0.04209147] Diag multiply:  1 Niter:  0\ndon't converge\n[0.84394861 0.88037364 0.66600454 0.80867916 0.7869155  1.14538078\n 0.73429736 1.22672463 1.12557723 0.99134399] Diag multiply:  2 Niter:  0\ndon't converge\n[0.88492617 1.11121635 0.78623234 1.16486714 0.86765002 1.08494476\n 1.04304059 0.83135432 0.76590397 0.91315443] Diag multiply:  3 Niter:  0\ndon't converge\n[1.03429143 1.00009777 0.94169352 0.96024901 1.03918878 1.02263367\n 0.92457748 1.01385928 0.83446026 0.85449813] Diag multiply:  4 Niter:  0\n[0. 0. 0. 0. 0. 0. 0. 0. 0. 0.] Diag multiply:  5 Niter:  169\n[0. 0. 0. 0. 0. 0. 0. 0. 0. 0.] Diag multiply:  6 Niter:  113\n[0. 0. 0. 0. 0. 0. 0. 0. 0. 0.] Diag multiply:  7 Niter:  71\n[0. 0. 0. 0. 0. 0. 0. 0. 0. 0.] Diag multiply:  8 Niter:  66\n[0. 0. 0. 0. 0. 0. 0. 0. 0. 0.] Diag multiply:  9 Niter:  52\n[0. 0. 0. 0. 0. 0. 0. 0. 0. 0.] Diag multiply:  10 Niter:  40\n[0. 0. 0. 0. 0. 0. 0. 0. 0. 0.] Diag multiply:  11 Niter:  42\n[0. 0. 0. 0. 0. 0. 0. 0. 0. 0.] Diag multiply:  12 Niter:  36\n[0. 0. 0. 0. 0. 0. 0. 0. 0. 0.] Diag multiply:  13 Niter:  35\n[0. 0. 0. 0. 0. 0. 0. 0. 0. 0.] Diag multiply:  14 Niter:  33\n[0. 0. 0. 0. 0. 0. 0. 0. 0. 0.] Diag multiply:  15 Niter:  30\n[0. 0. 0. 0. 0. 0. 0. 0. 0. 0.] Diag multiply:  16 Niter:  30\n[0. 0. 0. 0. 0. 0. 0. 0. 0. 0.] Diag multiply:  17 Niter:  30\n[0. 0. 0. 0. 0. 0. 0. 0. 0. 0.] Diag multiply:  18 Niter:  28\n[0. 0. 0. 0. 0. 0. 0. 0. 0. 0.] Diag multiply:  19 Niter:  29\n"
    }
   ],
   "source": [
    "n = 10\n",
    "np.set_printoptions(suppress=True)\n",
    "for l in range(1,20): #we check some dominance of matrix\n",
    "    A = rndm.uniform(size=(n, n)) + np.diagflat([l]*n)\n",
    "    b = rndm.uniform(size=n)\n",
    "    xx = np.linalg.solve(A,b)\n",
    "    x, m = jacob(A,b)\n",
    "    print(np.abs(xx-x),'Diag multiply: ',l, 'Niter: ', m)"
   ]
  },
  {
   "cell_type": "markdown",
   "metadata": {},
   "source": [
    "# II. Seidel's iteration."
   ]
  },
  {
   "cell_type": "markdown",
   "metadata": {},
   "source": [
    "##### Task II.1\n",
    "\n",
    "Implement the Seidel's iteration. \n",
    "\n",
    "Test it on a random matrix. Study the convergence of iterations, relate to the norm of the iteration matrix.\n",
    "\n",
    "(30% of the total grade)"
   ]
  },
  {
   "cell_type": "code",
   "execution_count": 246,
   "metadata": {},
   "outputs": [],
   "source": [
    "def seidel(A, b, rtol = 1e-16, niter= 500):\n",
    "    U = np.triu(A,k=1)\n",
    "    L = np.tril(A,k=0)\n",
    "    L_ = np.linalg.inv(L)\n",
    "    x = np.ones(b.shape[0])\n",
    "    n = 0\n",
    "    for i in range(niter):\n",
    "        normB = np.linalg.norm(L_ @ U)\n",
    "        if normB > 1: #checking convergence\n",
    "            print(\"don't converge\")\n",
    "            break\n",
    "        x_s = L_ @ b - L_@ U @ x\n",
    "        n += 1 \n",
    "        if np.linalg.norm(x_s - x)<= rtol:\n",
    "            break\n",
    "        x = x_s\n",
    "    return x,n"
   ]
  },
  {
   "cell_type": "code",
   "execution_count": 247,
   "metadata": {},
   "outputs": [
    {
     "name": "stdout",
     "output_type": "stream",
     "text": "DDominant:  [0. 0. 0. 0. 0. 0. 0. 0. 0. 0.] Niter:  28\nPSymmetric:  [0. 0. 0. 0. 0. 0. 0. 0. 0. 0.] Niter:  23\ndon't converge\nRandom:  [0.81075754 2.52057467 2.0665217  0.78188964 1.81430634 0.4546695\n 1.42871118 0.04475773 2.83897545 0.5963693 ] Niter:  0\nDDominant:  [0. 0. 0. 0. 0. 0. 0. 0. 0. 0.] Niter:  22\nPSymmetric:  [0. 0. 0. 0. 0. 0. 0. 0. 0. 0.] Niter:  26\ndon't converge\nRandom:  [0.98465121 2.2042164  0.09611676 0.59245988 1.57833379 1.28030354\n 1.76481199 1.4340043  2.9885939  1.00000378] Niter:  0\nDDominant:  [0. 0. 0. 0. 0. 0. 0. 0. 0. 0.] Niter:  25\nPSymmetric:  [0. 0. 0. 0. 0. 0. 0. 0. 0. 0.] Niter:  29\ndon't converge\nRandom:  [5.67939014 3.90833017 1.09557964 4.28201803 0.40121489 5.42195606\n 1.23847474 0.00939071 0.08293836 0.39229512] Niter:  0\nDDominant:  [0. 0. 0. 0. 0. 0. 0. 0. 0. 0.] Niter:  22\nPSymmetric:  [0. 0. 0. 0. 0. 0. 0. 0. 0. 0.] Niter:  24\ndon't converge\nRandom:  [  1.5090538   44.75717273  31.6173864  120.67020884  33.32795666\n  57.29384097   6.96836204  79.20722204   5.08597102  22.10112257] Niter:  0\nDDominant:  [0. 0. 0. 0. 0. 0. 0. 0. 0. 0.] Niter:  22\nPSymmetric:  [0. 0. 0. 0. 0. 0. 0. 0. 0. 0.] Niter:  26\ndon't converge\nRandom:  [1.59036397 0.8604622  0.14602642 0.79794301 1.02363579 0.35052713\n 0.71413695 1.721818   1.14415658 0.57729427] Niter:  0\nDDominant:  [0. 0. 0. 0. 0. 0. 0. 0. 0. 0.] Niter:  25\nPSymmetric:  [0. 0. 0. 0. 0. 0. 0. 0. 0. 0.] Niter:  26\ndon't converge\nRandom:  [ 5.56544962  7.01338641  5.3445608   0.19868498  1.00213694  9.66249257\n 10.75149795  0.07942924  3.44888225 13.1844179 ] Niter:  0\nDDominant:  [0. 0. 0. 0. 0. 0. 0. 0. 0. 0.] Niter:  24\nPSymmetric:  [0. 0. 0. 0. 0. 0. 0. 0. 0. 0.] Niter:  24\ndon't converge\nRandom:  [0.33345719 0.42748526 0.0593757  1.75523969 1.16315974 0.85339852\n 0.9073245  0.51034687 1.30634457 1.76310189] Niter:  0\nDDominant:  [0. 0. 0. 0. 0. 0. 0. 0. 0. 0.] Niter:  24\nPSymmetric:  [0. 0. 0. 0. 0. 0. 0. 0. 0. 0.] Niter:  26\ndon't converge\nRandom:  [0.98972705 1.49834422 0.38285432 1.4925131  0.64454837 0.56675909\n 0.55186704 0.59065421 0.91293294 1.22445382] Niter:  0\nDDominant:  [0. 0. 0. 0. 0. 0. 0. 0. 0. 0.] Niter:  26\nPSymmetric:  [0. 0. 0. 0. 0. 0. 0. 0. 0. 0.] Niter:  24\ndon't converge\nRandom:  [2.5777929  1.25860826 0.75126353 7.0276177  2.9407783  2.77547147\n 0.69224083 0.56768258 4.12085188 1.52225   ] Niter:  0\nDDominant:  [0. 0. 0. 0. 0. 0. 0. 0. 0. 0.] Niter:  26\nPSymmetric:  [0. 0. 0. 0. 0. 0. 0. 0. 0. 0.] Niter:  23\ndon't converge\nRandom:  [3.16644844 1.26045042 4.77037575 0.02681197 0.37744526 1.37862539\n 0.76281798 2.60025895 2.57958886 1.67546326] Niter:  0\n"
    }
   ],
   "source": [
    "#convergence is only guaranteed if the matrix is either diagonally dominant, or symmetric and positive definite\n",
    "for i in range(10):\n",
    "    n = 10\n",
    "    A = rndm.uniform(size=(n, n)) + np.diagflat([5]*n)#diagonally dominant\n",
    "    b = rndm.uniform(size=n)\n",
    "    xx = np.linalg.solve(A,b)\n",
    "    x, k = seidel(A,b)\n",
    "    print('DDominant: ',np.abs(xx-x),'Niter: ', k)\n",
    "\n",
    "    a = np.random.rand(n, n)\n",
    "    M = np.tril(a,-1) + np.tril(a, -1).T + np.diagflat([5]*n)#symmetric and positive definite\n",
    "    xx1 = np.linalg.solve(M,b)\n",
    "    x1,p = seidel(M,b)\n",
    "    print('PSymmetric: ',np.abs(xx1-x1), 'Niter: ', p)\n",
    "\n",
    "    C = rndm.uniform(size=(n, n)) #random won't converge\n",
    "    xx2 = np.linalg.solve(C,b)\n",
    "    x2,u = seidel(C,b)\n",
    "\n",
    "    print('Random: ', np.abs(xx2-x2), 'Niter: ', u)\n"
   ]
  },
  {
   "cell_type": "markdown",
   "metadata": {},
   "source": [
    "# III. Minimum residual scheme"
   ]
  },
  {
   "cell_type": "markdown",
   "metadata": {},
   "source": [
    "### Task III.1\n",
    "\n",
    "Implement the $\\textit{minimum residual}$ scheme: an explicit non-stationary method, where at each step you select the iteration parameter $\\tau_n$ to minimize the residual $\\mathbf{r}_{n+1}$ given $\\mathbf{r}_n$. Test it on a random matrix, study the convergence to the solution, in terms of the norm of the residual and the deviation from the ground truth solution (which you can obtain using a direct method). Study how the iteration parameter $\\tau_n$ changes as iterations progress.\n",
    "\n",
    "(50% of the grade)"
   ]
  },
  {
   "cell_type": "code",
   "execution_count": 248,
   "metadata": {},
   "outputs": [],
   "source": [
    "def min_res(A, b, x0, rtol=1e-16, niter = 5000):\n",
    "    x = x0\n",
    "    n = 0\n",
    "    r_ = np.array([])\n",
    "    for i in range(niter):\n",
    "        r = A @ x - b\n",
    "        r_ = np.append(r_, np.linalg.norm(r))\n",
    "        tau = np.dot(r, A @ r)/np.linalg.norm(A @ r)**2 #this I took from lecture\n",
    "        x_s = x - tau * r\n",
    "        n += 1\n",
    "        if np.linalg.norm(x_s - x)<= rtol:\n",
    "            break\n",
    "        x = x_s\n",
    "    return x, n, r_[0], r_[n-1]"
   ]
  },
  {
   "cell_type": "code",
   "execution_count": 249,
   "metadata": {},
   "outputs": [
    {
     "name": "stdout",
     "output_type": "stream",
     "text": "DDominant:  [0. 0. 0. 0. 0. 0. 0. 0. 0. 0.] Niter:  38 Starts - Ends: 5.239957853579172e+16\npSymmetric:  [0.00000001 0.00000002 0.         0.00000002 0.00000001 0.00000001\n 0.         0.00000002 0.00000002 0.00000002] Niter:  5000 Starts - Ends: 32924856387.68607\nRandom:  [2.16955783 0.27641392 0.899283   0.88010188 0.95792678 0.84879165\n 2.05348242 1.11348924 1.26976784 1.57724567] , Niter:  28\nDDominant: [0. 0. 0. 0. 0. 0. 0. 0. 0. 0.] Niter:  34 Starts - Ends: 6.974753698234969e+16\npSymmetric:  [0. 0. 0. 0. 0. 0. 0. 0. 0. 0.] Niter:  669 Starts - Ends: 3.804301069748981e+16\nRandom:  [1.25200353 2.17047675 1.14758405 0.55060204 0.5853526  1.74236083\n 2.9316221  2.50334497 0.83888076 0.16045034] , Niter:  36\nDDominant:  [0. 0. 0. 0. 0. 0. 0. 0. 0. 0.] Niter:  38 Starts - Ends: 4.595153145704665e+16\npSymmetric:  [0. 0. 0. 0. 0. 0. 0. 0. 0. 0.] Niter:  671 Starts - Ends: 4.1962356448885096e+16\nRandom:  [ 1.95689268  9.64300872  8.44755544 25.51715211  3.51106796  6.68578685\n  3.37695935  0.67780415 12.06456797 23.08858801] , Niter:  25\nDDominant:  [0. 0. 0. 0. 0. 0. 0. 0. 0. 0.] Niter:  37 Starts - Ends: 6.3378504892627016e+16\npSymmetric:  [0.00000002 0.00000007 0.00000005 0.00000003 0.00000006 0.00000004\n 0.00000006 0.00000004 0.00000005 0.00000004] Niter:  5000 Starts - Ends: 280240977.9436888\nRandom:  [1.90217396 1.29407322 1.23009872 3.48917691 4.95121216 3.44478774\n 0.28078878 0.6507321  0.34096804 2.73168566] , Niter:  42\nDDominant:  [0. 0. 0. 0. 0. 0. 0. 0. 0. 0.] Niter:  38 Starts - Ends: 1.0334354359115155e+17\npSymmetric:  [0. 0. 0. 0. 0. 0. 0. 0. 0. 0.] Niter:  747 Starts - Ends: 4.951173730092916e+16\nRandom:  [2.33610884 2.13428803 4.73504677 0.68540132 1.26944807 1.13117327\n 3.59680978 6.23498719 2.43679576 2.57211187] , Niter:  139\nDDominant:  [0. 0. 0. 0. 0. 0. 0. 0. 0. 0.] Niter:  35 Starts - Ends: 1.270159386071237e+17\npSymmetric:  [0. 0. 0. 0. 0. 0. 0. 0. 0. 0.] Niter:  347 Starts - Ends: 3.5065531844756996e+16\nRandom:  [0.18842812 0.63017936 0.47164762 0.5844901  0.13330769 0.47510897\n 0.87126432 0.17839253 0.01322423 0.06831678] , Niter:  27\nDDominant:  [0. 0. 0. 0. 0. 0. 0. 0. 0. 0.] Niter:  44 Starts - Ends: 6.061366608305646e+16\npSymmetric:  [0. 0. 0. 0. 0. 0. 0. 0. 0. 0.] Niter:  834 Starts - Ends: 3.411214610970667e+16\nRandom:  [0.25289424 0.12005578 0.2546377  0.08221338 0.55981739 0.05565179\n 0.17539738 0.62867292 0.16593033 0.59700323] , Niter:  43\nDDominant:  [0. 0. 0. 0. 0. 0. 0. 0. 0. 0.] Niter:  30 Starts - Ends: 9.21458374626134e+16\npSymmetric:  [0. 0. 0. 0. 0. 0. 0. 0. 0. 0.] Niter:  420 Starts - Ends: 2.172545061135669e+16\nRandom:  [0.63719051 0.53775042 0.80356556 0.96060008 0.10913594 0.3058778\n 2.64996364 3.93034353 1.04064413 4.60670872] , Niter:  34\nDDominant:  [0. 0. 0. 0. 0. 0. 0. 0. 0. 0.] Niter:  36 Starts - Ends: 1.1773598833033226e+17\npSymmetric:  [0. 0. 0. 0. 0. 0. 0. 0. 0. 0.] Niter:  1443 Starts - Ends: 1.0374308910589042e+16\nRandom:  [2.46817781 1.02537278 1.18872112 1.49089862 1.5420608  1.64440477\n 2.59585185 1.00077224 0.72930365 3.74782093] , Niter:  11\nDDominant:  [0. 0. 0. 0. 0. 0. 0. 0. 0. 0.] Niter:  36 Starts - Ends: 4.673851778089254e+16\npSymmetric:  [0. 0. 0. 0. 0. 0. 0. 0. 0. 0.] Niter:  269 Starts - Ends: 5.430070137629612e+16\nRandom:  [1.190262   0.79703459 0.02955691 0.08088289 1.42939616 1.9669486\n 0.03829742 0.79050724 1.03027484 0.28968719] , Niter:  22\n"
    }
   ],
   "source": [
    "for i in range(10):\n",
    "    n = 10\n",
    "    A = rndm.uniform(size=(n, n)) + np.diagflat([5]*n)#diagonally dominant\n",
    "    b = rndm.uniform(size=n)\n",
    "    x0 = np.ones(b.shape[0])\n",
    "    xx = np.linalg.solve(A,b)\n",
    "    x,k, r11, r12 = min_res(A, b, x0)\n",
    "    print('DDominant: ',np.abs(xx-x), 'Niter: ', k, 'Starts - Ends:',r11/r12)\n",
    "\n",
    "    a = np.random.rand(n, n)\n",
    "    M = np.tril(a,-1) + np.tril(a, -1).T + np.diagflat([2]*n)#symmetric and positive definite\n",
    "    xx1 = np.linalg.solve(M,b)\n",
    "    x1, p, r21, r22 = min_res(M, b, x0)\n",
    "    print('pSymmetric: ',np.abs(xx1-x1), 'Niter: ', p, 'Starts - Ends:',r21/r22)\n",
    "\n",
    "    C = rndm.uniform(size=(n, n)) #random won't converge\n",
    "    xx2 = np.linalg.solve(C,b)\n",
    "    x2, u, r31, r32 = min_res(C,b, x0)\n",
    "    print('Random: ', np.abs(xx2-x2), ', Niter: ', u)"
   ]
  },
  {
   "cell_type": "code",
   "execution_count": null,
   "metadata": {},
   "outputs": [],
   "source": []
  }
 ],
 "metadata": {
  "kernelspec": {
   "display_name": "Python 3",
   "language": "python",
   "name": "python3"
  },
  "language_info": {
   "codemirror_mode": {
    "name": "ipython",
    "version": 3
   },
   "file_extension": ".py",
   "mimetype": "text/x-python",
   "name": "python",
   "nbconvert_exporter": "python",
   "pygments_lexer": "ipython3",
   "version": "3.7.4-final"
  }
 },
 "nbformat": 4,
 "nbformat_minor": 2
}