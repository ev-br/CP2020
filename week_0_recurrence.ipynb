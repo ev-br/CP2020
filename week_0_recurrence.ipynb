{
 "cells": [
  {
   "cell_type": "markdown",
   "metadata": {},
   "source": [
    "Compute integrals of the form\n",
    "\n",
    "$$\n",
    "I_n = \\int_0^1 x^n e^{1-x}\\, dx\\;.\n",
    "$$\n",
    "\n",
    "Integrating by parts, we obtain a recurrence relation\n",
    "\n",
    "$$\n",
    "I_n = n I_{n-1} - 1 \\;,\n",
    "$$\n",
    "\n",
    "with the initial condition\n",
    "\n",
    "$$\n",
    "I_0 = e - 1\\;.\n",
    "$$"
   ]
  },
  {
   "cell_type": "markdown",
   "metadata": {},
   "source": [
    "These integrals can be computed using symbolic maths with `sympy`:"
   ]
  },
  {
   "cell_type": "code",
   "execution_count": 1,
   "metadata": {},
   "outputs": [],
   "source": [
    "import sympy\n",
    "import numpy as np\n",
    "x = sympy.Symbol('x')\n",
    "N = 25\n",
    "exact = [float(sympy.integrate(x**n * sympy.exp(1 - x), (x, 0, 1))) for n in range(N)]"
   ]
  },
  {
   "cell_type": "markdown",
   "metadata": {},
   "source": [
    "Use the recurrence relation to compute these integrals  from $n=0$ up to $n = 24$ inclusive. \n",
    "\n",
    "\n",
    "First, use the upwards recursion, from $n=1$ upwards. Your code below must product a list of the 25 values of the integrals."
   ]
  },
  {
   "cell_type": "code",
   "execution_count": 2,
   "metadata": {},
   "outputs": [],
   "source": [
    "def upwards_recursion(n):\n",
    "    I_ = np.array([])\n",
    "    I = np.e - 1\n",
    "    I_ = np.append(I_,I)\n",
    "    for i in range(1,n):\n",
    "        I = i*I -1\n",
    "        #print(I)\n",
    "        I_ = np.append(I_,I)\n",
    "    return I_.tolist()"
   ]
  },
  {
   "cell_type": "markdown",
   "metadata": {},
   "source": [
    "Compare your results with the exact values. Discuss"
   ]
  },
  {
   "cell_type": "code",
   "execution_count": 3,
   "metadata": {},
   "outputs": [
    {
     "name": "stdout",
     "output_type": "stream",
     "text": "1.718281828459045 1.7182818284590453\n0.7182818284590451 0.7182818284590452\n0.4365636569180902 0.43656365691809046\n0.30969097075427054 0.30969097075427143\n0.23876388301708218 0.23876388301708565\n0.1938194150854109 0.19381941508542824\n0.16291649051246537 0.16291649051256946\n0.1404154335872576 0.14041543358798622\n0.12332346869806088 0.12332346870388973\n0.1099112182825479 0.10991121833500754\n0.09911218282547907 0.0991121833500754\n0.09023401108026974 0.09023401685082952\n0.08280813296323686 0.08280820220995427\n0.07650572852207915 0.07650662872940558\n0.07108019930910814 0.07109280221167809\n0.06620298963662208 0.0663920331751714\n0.05924783418595325 0.06227253080274239\n0.007213181161205284 0.05863302364662064\n-0.8701627390983049 0.05539442563917152\n-17.533092042867793 0.052494087144258815\n-351.66184085735586 0.049881742885176245\n-7385.898658004473 0.04751660058870116\n-162490.7704760984 0.04536521295142559\n-3737288.7209502636 0.04339989788278872\n-89694930.30280632 0.041597549186929206\n"
    },
    {
     "ename": "AssertionError",
     "evalue": "\nNot equal to tolerance rtol=1e-07, atol=0\n\nMismatch: 52%\nMax absolute difference: 89694930.34440386\nMax relative difference: 2.15625517e+09\n x: array([ 1.718282e+00,  7.182818e-01,  4.365637e-01,  3.096910e-01,\n        2.387639e-01,  1.938194e-01,  1.629165e-01,  1.404154e-01,\n        1.233235e-01,  1.099112e-01,  9.911218e-02,  9.023401e-02,...\n y: array([1.718282, 0.718282, 0.436564, 0.309691, 0.238764, 0.193819,\n       0.162916, 0.140415, 0.123323, 0.109911, 0.099112, 0.090234,\n       0.082808, 0.076507, 0.071093, 0.066392, 0.062273, 0.058633,...",
     "output_type": "error",
     "traceback": [
      "\u001b[0;31m---------------------------------------------------------------------------\u001b[0m",
      "\u001b[0;31mAssertionError\u001b[0m                            Traceback (most recent call last)",
      "\u001b[0;32m<ipython-input-3-817130c18039>\u001b[0m in \u001b[0;36m<module>\u001b[0;34m\u001b[0m\n\u001b[1;32m      4\u001b[0m \u001b[0;34m\u001b[0m\u001b[0m\n\u001b[1;32m      5\u001b[0m \u001b[0;32mfrom\u001b[0m \u001b[0mnumpy\u001b[0m\u001b[0;34m.\u001b[0m\u001b[0mtesting\u001b[0m \u001b[0;32mimport\u001b[0m \u001b[0massert_allclose\u001b[0m\u001b[0;34m\u001b[0m\u001b[0;34m\u001b[0m\u001b[0m\n\u001b[0;32m----> 6\u001b[0;31m \u001b[0massert_allclose\u001b[0m\u001b[0;34m(\u001b[0m\u001b[0mvalues\u001b[0m\u001b[0;34m,\u001b[0m \u001b[0mexact\u001b[0m\u001b[0;34m)\u001b[0m\u001b[0;34m\u001b[0m\u001b[0;34m\u001b[0m\u001b[0m\n\u001b[0m",
      "\u001b[0;32m~/anaconda3/lib/python3.7/site-packages/numpy/testing/_private/utils.py\u001b[0m in \u001b[0;36massert_allclose\u001b[0;34m(actual, desired, rtol, atol, equal_nan, err_msg, verbose)\u001b[0m\n\u001b[1;32m   1513\u001b[0m     \u001b[0mheader\u001b[0m \u001b[0;34m=\u001b[0m \u001b[0;34m'Not equal to tolerance rtol=%g, atol=%g'\u001b[0m \u001b[0;34m%\u001b[0m \u001b[0;34m(\u001b[0m\u001b[0mrtol\u001b[0m\u001b[0;34m,\u001b[0m \u001b[0matol\u001b[0m\u001b[0;34m)\u001b[0m\u001b[0;34m\u001b[0m\u001b[0;34m\u001b[0m\u001b[0m\n\u001b[1;32m   1514\u001b[0m     assert_array_compare(compare, actual, desired, err_msg=str(err_msg),\n\u001b[0;32m-> 1515\u001b[0;31m                          verbose=verbose, header=header, equal_nan=equal_nan)\n\u001b[0m\u001b[1;32m   1516\u001b[0m \u001b[0;34m\u001b[0m\u001b[0m\n\u001b[1;32m   1517\u001b[0m \u001b[0;34m\u001b[0m\u001b[0m\n",
      "\u001b[0;32m~/anaconda3/lib/python3.7/site-packages/numpy/testing/_private/utils.py\u001b[0m in \u001b[0;36massert_array_compare\u001b[0;34m(comparison, x, y, err_msg, verbose, header, precision, equal_nan, equal_inf)\u001b[0m\n\u001b[1;32m    839\u001b[0m                                 \u001b[0mverbose\u001b[0m\u001b[0;34m=\u001b[0m\u001b[0mverbose\u001b[0m\u001b[0;34m,\u001b[0m \u001b[0mheader\u001b[0m\u001b[0;34m=\u001b[0m\u001b[0mheader\u001b[0m\u001b[0;34m,\u001b[0m\u001b[0;34m\u001b[0m\u001b[0;34m\u001b[0m\u001b[0m\n\u001b[1;32m    840\u001b[0m                                 names=('x', 'y'), precision=precision)\n\u001b[0;32m--> 841\u001b[0;31m             \u001b[0;32mraise\u001b[0m \u001b[0mAssertionError\u001b[0m\u001b[0;34m(\u001b[0m\u001b[0mmsg\u001b[0m\u001b[0;34m)\u001b[0m\u001b[0;34m\u001b[0m\u001b[0;34m\u001b[0m\u001b[0m\n\u001b[0m\u001b[1;32m    842\u001b[0m     \u001b[0;32mexcept\u001b[0m \u001b[0mValueError\u001b[0m\u001b[0;34m:\u001b[0m\u001b[0;34m\u001b[0m\u001b[0;34m\u001b[0m\u001b[0m\n\u001b[1;32m    843\u001b[0m         \u001b[0;32mimport\u001b[0m \u001b[0mtraceback\u001b[0m\u001b[0;34m\u001b[0m\u001b[0;34m\u001b[0m\u001b[0m\n",
      "\u001b[0;31mAssertionError\u001b[0m: \nNot equal to tolerance rtol=1e-07, atol=0\n\nMismatch: 52%\nMax absolute difference: 89694930.34440386\nMax relative difference: 2.15625517e+09\n x: array([ 1.718282e+00,  7.182818e-01,  4.365637e-01,  3.096910e-01,\n        2.387639e-01,  1.938194e-01,  1.629165e-01,  1.404154e-01,\n        1.233235e-01,  1.099112e-01,  9.911218e-02,  9.023401e-02,...\n y: array([1.718282, 0.718282, 0.436564, 0.309691, 0.238764, 0.193819,\n       0.162916, 0.140415, 0.123323, 0.109911, 0.099112, 0.090234,\n       0.082808, 0.076507, 0.071093, 0.066392, 0.062273, 0.058633,..."
     ]
    }
   ],
   "source": [
    "values = upwards_recursion(25)\n",
    "for value, exact_value in zip(values, exact):\n",
    "    print(value, exact_value)\n",
    "\n",
    "from numpy.testing import assert_allclose\n",
    "assert_allclose(values, exact)"
   ]
  },
  {
   "cell_type": "code",
   "execution_count": 9,
   "metadata": {},
   "outputs": [
    {
     "data": {
      "text/plain": "'Мы копим ошибку в факториале, который накапливается в итерационном процессе'"
     },
     "execution_count": 9,
     "metadata": {},
     "output_type": "execute_result"
    }
   ],
   "source": [
    " \"Мы копим ошибку в факториале, который накапливается в итерационном процессе\"\n",
    "\n"
   ]
  },
  {
   "cell_type": "markdown",
   "metadata": {},
   "source": [
    "Next, use the downwards recursion. Your code below must produce a list of the 25 values of the integrals, from 0 to 24."
   ]
  },
  {
   "cell_type": "code",
   "execution_count": 6,
   "metadata": {},
   "outputs": [],
   "source": [
    "def downwards_recursion(n):\n",
    "    I_ = np.array([])\n",
    "    I = 0\n",
    "    for i in range(n, 0, -1):\n",
    "        I = (I + 1)/i\n",
    "        I_ = np.append(I_, I)\n",
    "        I__ = np.flip(I_)\n",
    "    return I__.tolist()"
   ]
  },
  {
   "cell_type": "markdown",
   "metadata": {
    "collapsed": true
   },
   "source": [
    "Repeat the comparison with the exact values. Discuss."
   ]
  },
  {
   "cell_type": "code",
   "execution_count": 7,
   "metadata": {},
   "outputs": [
    {
     "name": "stdout",
     "output_type": "stream",
     "text": "1.718281828459045 1.7182818284590453\n0.7182818284590452 0.7182818284590452\n0.43656365691809046 0.43656365691809046\n0.30969097075427143 0.30969097075427143\n0.23876388301708565 0.23876388301708565\n0.19381941508542824 0.19381941508542824\n0.16291649051256946 0.16291649051256946\n0.14041543358798622 0.14041543358798622\n0.12332346870388972 0.12332346870388973\n0.10991121833500754 0.10991121833500754\n0.09911218335007542 0.0991121833500754\n0.09023401685082953 0.09023401685082952\n0.08280820220995427 0.08280820220995427\n0.07650662872940557 0.07650662872940558\n0.07109280221167787 0.07109280221167809\n0.06639203317516804 0.0663920331751714\n0.06227253080268852 0.06227253080274239\n0.05863302364570481 0.05863302364662064\n0.05539442562268649 0.05539442563917152\n0.052494086831043354 0.052494087144258815\n0.049881736620867055 0.049881742885176245\n0.047516469038208164 0.04751660058870116\n0.045362318840579716 0.04536521295142559\n0.043333333333333335 0.04339989788278872\n0.04 0.041597549186929206\n"
    },
    {
     "ename": "AssertionError",
     "evalue": "\nNot equal to tolerance rtol=1e-07, atol=0\n\nMismatch: 20%\nMax absolute difference: 0.00159755\nMax relative difference: 0.03840489\n x: array([1.718282, 0.718282, 0.436564, 0.309691, 0.238764, 0.193819,\n       0.162916, 0.140415, 0.123323, 0.109911, 0.099112, 0.090234,\n       0.082808, 0.076507, 0.071093, 0.066392, 0.062273, 0.058633,...\n y: array([1.718282, 0.718282, 0.436564, 0.309691, 0.238764, 0.193819,\n       0.162916, 0.140415, 0.123323, 0.109911, 0.099112, 0.090234,\n       0.082808, 0.076507, 0.071093, 0.066392, 0.062273, 0.058633,...",
     "output_type": "error",
     "traceback": [
      "\u001b[0;31m---------------------------------------------------------------------------\u001b[0m",
      "\u001b[0;31mAssertionError\u001b[0m                            Traceback (most recent call last)",
      "\u001b[0;32m<ipython-input-7-baa20218cc48>\u001b[0m in \u001b[0;36m<module>\u001b[0;34m\u001b[0m\n\u001b[1;32m      4\u001b[0m \u001b[0;34m\u001b[0m\u001b[0m\n\u001b[1;32m      5\u001b[0m \u001b[0;32mfrom\u001b[0m \u001b[0mnumpy\u001b[0m\u001b[0;34m.\u001b[0m\u001b[0mtesting\u001b[0m \u001b[0;32mimport\u001b[0m \u001b[0massert_allclose\u001b[0m\u001b[0;34m\u001b[0m\u001b[0;34m\u001b[0m\u001b[0m\n\u001b[0;32m----> 6\u001b[0;31m \u001b[0massert_allclose\u001b[0m\u001b[0;34m(\u001b[0m\u001b[0mvalues\u001b[0m\u001b[0;34m,\u001b[0m \u001b[0mexact\u001b[0m\u001b[0;34m)\u001b[0m\u001b[0;34m\u001b[0m\u001b[0;34m\u001b[0m\u001b[0m\n\u001b[0m",
      "\u001b[0;32m~/anaconda3/lib/python3.7/site-packages/numpy/testing/_private/utils.py\u001b[0m in \u001b[0;36massert_allclose\u001b[0;34m(actual, desired, rtol, atol, equal_nan, err_msg, verbose)\u001b[0m\n\u001b[1;32m   1513\u001b[0m     \u001b[0mheader\u001b[0m \u001b[0;34m=\u001b[0m \u001b[0;34m'Not equal to tolerance rtol=%g, atol=%g'\u001b[0m \u001b[0;34m%\u001b[0m \u001b[0;34m(\u001b[0m\u001b[0mrtol\u001b[0m\u001b[0;34m,\u001b[0m \u001b[0matol\u001b[0m\u001b[0;34m)\u001b[0m\u001b[0;34m\u001b[0m\u001b[0;34m\u001b[0m\u001b[0m\n\u001b[1;32m   1514\u001b[0m     assert_array_compare(compare, actual, desired, err_msg=str(err_msg),\n\u001b[0;32m-> 1515\u001b[0;31m                          verbose=verbose, header=header, equal_nan=equal_nan)\n\u001b[0m\u001b[1;32m   1516\u001b[0m \u001b[0;34m\u001b[0m\u001b[0m\n\u001b[1;32m   1517\u001b[0m \u001b[0;34m\u001b[0m\u001b[0m\n",
      "\u001b[0;32m~/anaconda3/lib/python3.7/site-packages/numpy/testing/_private/utils.py\u001b[0m in \u001b[0;36massert_array_compare\u001b[0;34m(comparison, x, y, err_msg, verbose, header, precision, equal_nan, equal_inf)\u001b[0m\n\u001b[1;32m    839\u001b[0m                                 \u001b[0mverbose\u001b[0m\u001b[0;34m=\u001b[0m\u001b[0mverbose\u001b[0m\u001b[0;34m,\u001b[0m \u001b[0mheader\u001b[0m\u001b[0;34m=\u001b[0m\u001b[0mheader\u001b[0m\u001b[0;34m,\u001b[0m\u001b[0;34m\u001b[0m\u001b[0;34m\u001b[0m\u001b[0m\n\u001b[1;32m    840\u001b[0m                                 names=('x', 'y'), precision=precision)\n\u001b[0;32m--> 841\u001b[0;31m             \u001b[0;32mraise\u001b[0m \u001b[0mAssertionError\u001b[0m\u001b[0;34m(\u001b[0m\u001b[0mmsg\u001b[0m\u001b[0;34m)\u001b[0m\u001b[0;34m\u001b[0m\u001b[0;34m\u001b[0m\u001b[0m\n\u001b[0m\u001b[1;32m    842\u001b[0m     \u001b[0;32mexcept\u001b[0m \u001b[0mValueError\u001b[0m\u001b[0;34m:\u001b[0m\u001b[0;34m\u001b[0m\u001b[0;34m\u001b[0m\u001b[0m\n\u001b[1;32m    843\u001b[0m         \u001b[0;32mimport\u001b[0m \u001b[0mtraceback\u001b[0m\u001b[0;34m\u001b[0m\u001b[0;34m\u001b[0m\u001b[0m\n",
      "\u001b[0;31mAssertionError\u001b[0m: \nNot equal to tolerance rtol=1e-07, atol=0\n\nMismatch: 20%\nMax absolute difference: 0.00159755\nMax relative difference: 0.03840489\n x: array([1.718282, 0.718282, 0.436564, 0.309691, 0.238764, 0.193819,\n       0.162916, 0.140415, 0.123323, 0.109911, 0.099112, 0.090234,\n       0.082808, 0.076507, 0.071093, 0.066392, 0.062273, 0.058633,...\n y: array([1.718282, 0.718282, 0.436564, 0.309691, 0.238764, 0.193819,\n       0.162916, 0.140415, 0.123323, 0.109911, 0.099112, 0.090234,\n       0.082808, 0.076507, 0.071093, 0.066392, 0.062273, 0.058633,..."
     ]
    }
   ],
   "source": [
    "values = downwards_recursion(25)\n",
    "for value, exact_value in zip(values, exact):\n",
    "    print(value, exact_value)\n",
    "\n",
    "from numpy.testing import assert_allclose\n",
    "assert_allclose(values, exact)"
   ]
  },
  {
   "cell_type": "code",
   "execution_count": null,
   "metadata": {},
   "outputs": [],
   "source": []
  }
 ],
 "metadata": {
  "kernelspec": {
   "display_name": "Python 3",
   "language": "python",
   "name": "python3"
  },
  "language_info": {
   "codemirror_mode": {
    "name": "ipython",
    "version": 3
   },
   "file_extension": ".py",
   "mimetype": "text/x-python",
   "name": "python",
   "nbconvert_exporter": "python",
   "pygments_lexer": "ipython3",
   "version": "3.7.4-final"
  }
 },
 "nbformat": 4,
 "nbformat_minor": 2
}