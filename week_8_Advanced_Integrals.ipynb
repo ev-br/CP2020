{
 "cells": [
  {
   "cell_type": "markdown",
   "metadata": {},
   "source": [
    "## Часть 1. Гауссовы квадратуры\n",
    "\n",
    "Метод Гауссовых квадратур является одним из методов численного интегрирования, который позволяет увеличить точность интегрирования, используя ортогональные полиномы и их корни в качестве узлов.\n",
    "\n",
    "$$\n",
    "\\int_a^b \\!  w(x)\\, f(x)\\, dx \\approx \\sum_{k=1}^n w_k \\, f(x_k) \\;,\n",
    "$$\n",
    "\n",
    "здесь $\\omega$ - функция весов, которая определят базис ортогональных полиномов, чьи корни используются в качестве узлов интегрирования. Если функция $f(x)$ является полиномом, тогда такой метод интегрирования даст *точное* решение интеграла."
   ]
  },
  {
   "cell_type": "markdown",
   "metadata": {},
   "source": [
    "For example, let's calculate the following integral:\n",
    "$$\n",
    "\\int_{-1}^1 (7x^3 - 8 x^2 - 3 x + 3) dx  \n",
    "$$\n",
    "\n",
    "Here function is already polynomial, so we put the weight function $\\omega(x) = 1$. Then the calculation of the integral reduces to the sum in the polynomials roots witch corresponding to the weight function $\\omega(x) = 1$. For example, here https://dlmf.nist.gov/18.3 you may see which basis of polynomials corresponds to your weight function.\n",
    "\n",
    "You may see, that Legendre polynomials correspond to our weight function. Now go to the documentation https://docs.scipy.org/doc/scipy/reference/special.html#orthogonal-polynomials. Here, the function *roots_legendre* immediately gives you the roots of the Legendre polynomial and weight at this roots (for Legendre polynomials all these weight are ones)."
   ]
  },
  {
   "cell_type": "markdown",
   "metadata": {},
   "source": [
    "###  Задание 1.1"
   ]
  },
  {
   "cell_type": "markdown",
   "metadata": {},
   "source": [
    "1. Посчитайте точное значение интеграла ([1](#mjx-eqn-eq1)) \"руками\". Вспомните этот результат, когда будете сравнивать с численным решением."
   ]
  },
  {
   "cell_type": "markdown",
   "metadata": {},
   "source": [
    "$$\n",
    "\\int_{-1}^1 (7x^3 - 8 x^2 - 3 x + 3) dx  = \\int_{-1}^1 (- 8 x^2 + 3)dx = -8 \\frac{x^3}{3}|_{-1}^{1} + 3x|_{-1}^{1} = \\frac{2}{3}\n",
    "$$"
   ]
  },
  {
   "cell_type": "markdown",
   "metadata": {},
   "source": [
    "2. Посчитайте значение интеграла ([1](#mjx-eqn-eq1)), используя обычный метод интегрирования на равномерной сетке (например, написанный вами в week_6_calculus). Оцените количество узлов, необходимых для достижения относительной точности $10^{-10}$."
   ]
  },
  {
   "cell_type": "code",
   "execution_count": 2,
   "metadata": {},
   "outputs": [
    {
     "output_type": "stream",
     "name": "stdout",
     "text": "0.6666666667 -- numerical value, 1048576 -- number of nodes\n"
    }
   ],
   "source": [
    "from math import log\n",
    "import numpy as np\n",
    "from matplotlib import pyplot as plt\n",
    "\n",
    "def midpoint_rule(func, a, b, eps):\n",
    "    I_n = np.array([(b-a)*func((a+b)/2)])\n",
    "    n = 2\n",
    "    while True:\n",
    "        x_n = np.linspace(a,b,n+1)\n",
    "        h = np.array([])\n",
    "        Q = np.zeros(n)\n",
    "        i = 0\n",
    "        h = x_n[1]-x_n[0]\n",
    "        while i < n:\n",
    "            Q[i]= h*func((x_n[i+1]+x_n[i])/2)\n",
    "            i += 1 \n",
    "        I = np.sum(Q)\n",
    "        I_n = np.append(I_n,I)\n",
    "        if np.abs(I_n[int(np.log2(n))-1]-I_n[int(np.log2(n/2))-1])< eps:\n",
    "            break\n",
    "        n *= 2\n",
    "    return round(I_n[int(np.log2(n/2))-1],-int(np.log10(eps))), I_n, I_n.shape[0]\n",
    "\n",
    "def int_f(x):\n",
    "    return 7*x**3-8*x**2-3*x+3\n",
    "\n",
    "print(midpoint_rule(int_f,-1,1,1e-10)[0],\"-- numerical value,\",2**(midpoint_rule(int_f,-1,1,1e-10)[2]-1),\"-- number of nodes\")"
   ]
  },
  {
   "cell_type": "markdown",
   "metadata": {},
   "source": [
    "3. Посчитайте значение интеграла ([1](#mjx-eqn-eq1)), используя корни полинома Лежандра степени от 1 до 6 в качестве узлов (чтобы получить корни и веса используйте scipy.special.roots_legendre)"
   ]
  },
  {
   "cell_type": "code",
   "execution_count": 3,
   "metadata": {},
   "outputs": [
    {
     "output_type": "stream",
     "name": "stdout",
     "text": "[6.         0.66666667 0.66666667 0.66666667 0.66666667 0.66666667]\n"
    }
   ],
   "source": [
    "from scipy.special import roots_legendre, roots_chebyt, roots_sh_legendre\n",
    "from scipy.linalg import solve\n",
    "\n",
    "integ = np.array([])\n",
    "for j in range(1,7):\n",
    "    nodes, weights = roots_legendre(j)\n",
    "    integ=np.append(integ, (int_f(nodes) * weights).sum())\n",
    "print(integ)"
   ]
  },
  {
   "cell_type": "markdown",
   "metadata": {},
   "source": [
    "Сравните количество узлов, необходимых для достижения одинаковой точности в обоих чисенных методах.\n",
    "\n",
    "(20% итоговой оценки)"
   ]
  },
  {
   "cell_type": "code",
   "execution_count": 4,
   "metadata": {},
   "outputs": [
    {
     "output_type": "stream",
     "name": "stdout",
     "text": "0.66666667 -- numerical value, 131072 -- number of nodes Midpoint for eps = 1e-8\n2 -- number of Legendre nodes for eps = 1e-8\n"
    }
   ],
   "source": [
    "print(midpoint_rule(int_f,-1,1,1e-8)[0],\"-- numerical value,\",2**(midpoint_rule(int_f,-1,1,1e-8)[2]-1),\"-- number of nodes Midpoint for eps = 1e-8\")\n",
    "print(2,\"-- number of Legendre nodes for eps = 1e-8\")"
   ]
  },
  {
   "cell_type": "markdown",
   "metadata": {},
   "source": [
    "###  Задание 1.2\n",
    "\n",
    "Вычислите значение того же интеграла, но на интервале от 0 до 10.\n",
    "\n",
    "$$\n",
    "\\int_{0}^{10} (7x^3 - 8 x^2 - 3 x + 3) dx \n",
    "$$\n",
    "\n",
    "Заметим, что больше нельзя использовать полиномы Лежанда, потому что они определены на интервале (-1, 1). Однако всегда можно произвести *аффинное преобразование* (преобразование не меняет область интегрирования) для того, чтобы перейти к желаемой системе координат.\n",
    "\n",
    "(20% итоговой оценки)"
   ]
  },
  {
   "cell_type": "markdown",
   "metadata": {},
   "source": [
    "$$\n",
    "I = \\int_{0}^{10} (7x^3 - 8 x^2 - 3 x + 3) dx, \\; \\xi = \\frac{x}{5}-1, \\; I=5\\int_{-1}^{1} (7(5\\xi+5)^3 - 8 (5\\xi+5)^2 - 3 (5\\xi+5) + 3) d\\xi\n",
    "$$"
   ]
  },
  {
   "cell_type": "code",
   "execution_count": 5,
   "metadata": {},
   "outputs": [
    {
     "output_type": "stream",
     "name": "stdout",
     "text": "14713.333333333336\n1.8189894035458565e-12\n"
    }
   ],
   "source": [
    "def int_f2(x):\n",
    "    return 7*(5*x+5)**3-8*(5*x+5)**2-3*(5*x+5)+3\n",
    "\n",
    "nodes2, weights2 = roots_legendre(2)\n",
    "integ1 = (int_f2(nodes2) * weights2).sum()\n",
    "\n",
    "print(5*integ1)\n",
    "print(np.abs(44140/3-5*integ1)) #comparing with analytical value"
   ]
  },
  {
   "cell_type": "markdown",
   "metadata": {},
   "source": [
    "Сравните результат с точным значением интеграла."
   ]
  },
  {
   "cell_type": "markdown",
   "metadata": {},
   "source": [
    "### Задание 1.3\n",
    "\n",
    "Вычислите значение следующиего интеграла:\n",
    "$$\n",
    "\\int_{0}^{2\\pi} \\frac{cos(x) dx }{\\sqrt{4\\pi^2 - x^2}} \n",
    "$$\n",
    "используя соответствующий базис ортогональных полиномов.\n",
    "Найдите степень полинома (количество узлов), при которой точность превысит ошибку плавающей точки.\n",
    "\n",
    "(20% итоговой оценки)"
   ]
  },
  {
   "cell_type": "markdown",
   "metadata": {},
   "source": [
    "$$\n",
    "\\int_{0}^{1} \\frac{cos(2\\pi x) dx }{\\sqrt{1 - x^2}} = \\frac{1}{2}\\int_{-1}^{1} \\frac{cos(2\\pi x) dx }{\\sqrt{1 - x^2}}\n",
    "$$\n",
    "I will use Chebyshev Polynomials of First Kind."
   ]
  },
  {
   "cell_type": "code",
   "execution_count": 6,
   "metadata": {},
   "outputs": [
    {
     "output_type": "stream",
     "name": "stdout",
     "text": "0.0 , number of nodes--- 1\n5.551115123125783e-17 , number of nodes--- 19\n5.551115123125783e-17 , number of nodes--- 26\n0.0 , number of nodes--- 27\n0.3460101588122643\n"
    }
   ],
   "source": [
    "def func1(x):\n",
    "    return np.cos(2*np.pi*x)\n",
    "\n",
    "\n",
    "integr = np.array([])\n",
    "for j in range(1,28):\n",
    "    nodes3, weights3 = roots_chebyt(j)\n",
    "    integr=np.append(integr, (func1(nodes3) * weights3).sum())\n",
    "    if (np.abs(integr[j-1]/2-integr[j-2]/2) <1e-16):\n",
    "        print(np.abs(integr[j-1]/2-integr[j-2]/2),', number of nodes---',j)\n",
    "print(integr[j-1]/2)"
   ]
  },
  {
   "cell_type": "markdown",
   "metadata": {},
   "source": [
    "## Часть 2. Уравение Фредгольма\n",
    "\n",
    "Существует два типа уравнений Фредгольма: \n",
    "\n",
    "1. Уравение Фредгольма первого рода:\n",
    "$$\n",
    "\\int_a^b \\! K(x, t)\\, \\color{red}{f(t)} \\,dt = g(x)\n",
    "$$\n",
    "\n",
    "2. Уравнение Фредгольма второго рода:\n",
    "$$\n",
    "\\lambda \\int_a^b\\! K(x, t)\\, \\color{red}{f(t)} \\, dt + g(x) = \\color{red}{f(x)}\n",
    "$$\n",
    "\n",
    "Здесь функция $f(x)$ неизвестна, $K(x, t)$ - ядро уравнения, заданная функция $g(x)$ и $\\lambda$ - рациональное число.\n",
    "С точки зрения вычислений, уравение Фредгольма первого рода крайне неустойчиво. Далее мы рассмотрим только уравнение второго рода."
   ]
  },
  {
   "cell_type": "markdown",
   "metadata": {},
   "source": [
    "Основная идея - аппроксимировать интеграл некой квадратурной формулой\n",
    "\n",
    "$$\n",
    "\\int_a^b \\! \\xi(t)\\, dt \\approx \\sum_j^N w_j\\, \\xi(t_j)\n",
    "$$\n",
    "\n",
    "с подходящими весами $w_j$ и узлами $t_j$, $j=1, \\dots, N$. Точность аппроксимации контролируется $N$."
   ]
  },
  {
   "cell_type": "markdown",
   "metadata": {},
   "source": [
    "Таким образом, уравнение Фредгольма приближается следующим образом:\n",
    "\n",
    "$$\n",
    "\\lambda \\sum_j w_j\\, K(x, t_j)\\, \\color{red}{f(t_j)} + g(x) = \\color{red}{f(x)}\n",
    "$$\n",
    "\n",
    "Отметим, что $x$ - непрерывная переменная, в то время, как $t$ - дискретная."
   ]
  },
  {
   "cell_type": "markdown",
   "metadata": {},
   "source": [
    "Оценивая данное уравнение на сетке $x = t_k$, получаем\n",
    "\n",
    "$$\n",
    "\\lambda \\sum_j w_j \\, K_{k, j}\\, \\color{red}{f_j} + g_k = \\color{red}{f_k}\n",
    "$$\n",
    "\n",
    "где $f_j \\equiv f(t_j)$, $g_j \\equiv g(t_j)$ and $K_{k, j} \\equiv K(t_k, t_j)$. Это ничто иное, как система линейных алгебраических уравнений на вектор $\\color{red}{f_j}$.\n",
    "\n",
    "Ее решение выдает значение неизвестной функции $f(x)$ в дискретных точках $x=t_j$ для $j=1, \\dots, N$."
   ]
  },
  {
   "cell_type": "markdown",
   "metadata": {},
   "source": [
    "### Задание 2.1\n",
    "\n",
    "Решите предложенное уравнение Фредгольма второго рода\n",
    "\n",
    "$$\n",
    "f(x) = \\sin(\\pi x)  + \\frac{1}{2} \\int_0^1\\! f(t) \\, dt\n",
    "$$\n",
    "\n",
    "Здесь $a, b = 0, 1$, $\\lambda = \\dfrac{1}{2}$, ядро $K(x, t) = 1$ и правая часть - $g(x) = \\sin(\\pi x)$.\n",
    "\n",
    "Точное решение (Сборник задач по интегральным уравнениям, 2006, стр. 5):\n",
    "\n",
    "$$\n",
    "f(x) = \\sin(\\pi x) + \\frac{2}{\\pi}\n",
    "$$"
   ]
  },
  {
   "cell_type": "markdown",
   "metadata": {},
   "source": [
    "Для нахождения интеграла воспользуйтесь Гауссовой квадратурой с весовой функцией $w(x) = 1$ на $(0, 1)$. Посмотрите на http://dlmf.nist.gov/18.3, и найдите соответствующую функцию в *scipy.special* (обратите внимание на область интегрирования).\n",
    "\n",
    "Сравните полученные значения функции с точным решением для разных значений $N$. На каком $N$ можно остановиться?\n",
    "\n",
    "(20% итоговой оценки)"
   ]
  },
  {
   "cell_type": "code",
   "execution_count": 31,
   "metadata": {},
   "outputs": [],
   "source": [
    "a, b = 0, 1\n",
    "\n",
    "lmbd = 0.5\n",
    "\n",
    "def K(x, t):\n",
    "    return 1\n",
    "\n",
    "def g(x):\n",
    "    return np.sin(np.pi*x)\n",
    "\n",
    "def solve_e1(N):\n",
    "    x, w = roots_sh_legendre(N)\n",
    "    Wmat = np.zeros((N, N))\n",
    "    for i in range(N):\n",
    "        for j in range(N):\n",
    "            Wmat[i, j] = w[j] * K(x[i], x[j])\n",
    "\n",
    "\n",
    "    lhs = lmbd*Wmat - np.eye(N)\n",
    "    rhs = -g(x)\n",
    "    \n",
    "    solv = solve(lhs, rhs)\n",
    "    return x, solv\n"
   ]
  },
  {
   "cell_type": "code",
   "execution_count": 33,
   "metadata": {},
   "outputs": [
    {
     "output_type": "display_data",
     "data": {
      "text/plain": "<Figure size 576x576 with 1 Axes>",
      "image/svg+xml": "<?xml version=\"1.0\" encoding=\"utf-8\" standalone=\"no\"?>\n<!DOCTYPE svg PUBLIC \"-//W3C//DTD SVG 1.1//EN\"\n  \"http://www.w3.org/Graphics/SVG/1.1/DTD/svg11.dtd\">\n<!-- Created with matplotlib (https://matplotlib.org/) -->\n<svg height=\"469.106192pt\" version=\"1.1\" viewBox=\"0 0 495.7 469.106192\" width=\"495.7pt\" xmlns=\"http://www.w3.org/2000/svg\" xmlns:xlink=\"http://www.w3.org/1999/xlink\">\n <defs>\n  <style type=\"text/css\">\n*{stroke-linecap:butt;stroke-linejoin:round;}\n  </style>\n </defs>\n <g id=\"figure_1\">\n  <g id=\"patch_1\">\n   <path d=\"M 0 469.106192 \nL 495.7 469.106192 \nL 495.7 0 \nL 0 0 \nz\n\" style=\"fill:none;\"/>\n  </g>\n  <g id=\"axes_1\">\n   <g id=\"patch_2\">\n    <path d=\"M 42.1 445.228067 \nL 488.5 445.228067 \nL 488.5 10.348067 \nL 42.1 10.348067 \nz\n\" style=\"fill:#ffffff;\"/>\n   </g>\n   <g id=\"matplotlib.axis_1\">\n    <g id=\"xtick_1\">\n     <g id=\"line2d_1\">\n      <path clip-path=\"url(#p4e5de8c7ba)\" d=\"M 93.153286 445.228067 \nL 93.153286 10.348067 \n\" style=\"fill:none;stroke:#b0b0b0;stroke-linecap:square;stroke-width:0.8;\"/>\n     </g>\n     <g id=\"line2d_2\">\n      <defs>\n       <path d=\"M 0 0 \nL 0 3.5 \n\" id=\"m8e0555ad12\" style=\"stroke:#000000;stroke-width:0.8;\"/>\n      </defs>\n      <g>\n       <use style=\"stroke:#000000;stroke-width:0.8;\" x=\"93.153286\" xlink:href=\"#m8e0555ad12\" y=\"445.228067\"/>\n      </g>\n     </g>\n     <g id=\"text_1\">\n      <!-- $\\mathdefault{10^{-2}}$ -->\n      <defs>\n       <path d=\"M 12.40625 8.296875 \nL 28.515625 8.296875 \nL 28.515625 63.921875 \nL 10.984375 60.40625 \nL 10.984375 69.390625 \nL 28.421875 72.90625 \nL 38.28125 72.90625 \nL 38.28125 8.296875 \nL 54.390625 8.296875 \nL 54.390625 0 \nL 12.40625 0 \nz\n\" id=\"DejaVuSans-49\"/>\n       <path d=\"M 31.78125 66.40625 \nQ 24.171875 66.40625 20.328125 58.90625 \nQ 16.5 51.421875 16.5 36.375 \nQ 16.5 21.390625 20.328125 13.890625 \nQ 24.171875 6.390625 31.78125 6.390625 \nQ 39.453125 6.390625 43.28125 13.890625 \nQ 47.125 21.390625 47.125 36.375 \nQ 47.125 51.421875 43.28125 58.90625 \nQ 39.453125 66.40625 31.78125 66.40625 \nz\nM 31.78125 74.21875 \nQ 44.046875 74.21875 50.515625 64.515625 \nQ 56.984375 54.828125 56.984375 36.375 \nQ 56.984375 17.96875 50.515625 8.265625 \nQ 44.046875 -1.421875 31.78125 -1.421875 \nQ 19.53125 -1.421875 13.0625 8.265625 \nQ 6.59375 17.96875 6.59375 36.375 \nQ 6.59375 54.828125 13.0625 64.515625 \nQ 19.53125 74.21875 31.78125 74.21875 \nz\n\" id=\"DejaVuSans-48\"/>\n       <path d=\"M 10.59375 35.5 \nL 73.1875 35.5 \nL 73.1875 27.203125 \nL 10.59375 27.203125 \nz\n\" id=\"DejaVuSans-8722\"/>\n       <path d=\"M 19.1875 8.296875 \nL 53.609375 8.296875 \nL 53.609375 0 \nL 7.328125 0 \nL 7.328125 8.296875 \nQ 12.9375 14.109375 22.625 23.890625 \nQ 32.328125 33.6875 34.8125 36.53125 \nQ 39.546875 41.84375 41.421875 45.53125 \nQ 43.3125 49.21875 43.3125 52.78125 \nQ 43.3125 58.59375 39.234375 62.25 \nQ 35.15625 65.921875 28.609375 65.921875 \nQ 23.96875 65.921875 18.8125 64.3125 \nQ 13.671875 62.703125 7.8125 59.421875 \nL 7.8125 69.390625 \nQ 13.765625 71.78125 18.9375 73 \nQ 24.125 74.21875 28.421875 74.21875 \nQ 39.75 74.21875 46.484375 68.546875 \nQ 53.21875 62.890625 53.21875 53.421875 \nQ 53.21875 48.921875 51.53125 44.890625 \nQ 49.859375 40.875 45.40625 35.40625 \nQ 44.1875 33.984375 37.640625 27.21875 \nQ 31.109375 20.453125 19.1875 8.296875 \nz\n\" id=\"DejaVuSans-50\"/>\n      </defs>\n      <g transform=\"translate(81.403286 459.826504)scale(0.1 -0.1)\">\n       <use transform=\"translate(0 0.765625)\" xlink:href=\"#DejaVuSans-49\"/>\n       <use transform=\"translate(63.623047 0.765625)\" xlink:href=\"#DejaVuSans-48\"/>\n       <use transform=\"translate(128.203125 39.046875)scale(0.7)\" xlink:href=\"#DejaVuSans-8722\"/>\n       <use transform=\"translate(186.855469 39.046875)scale(0.7)\" xlink:href=\"#DejaVuSans-50\"/>\n      </g>\n     </g>\n    </g>\n    <g id=\"xtick_2\">\n     <g id=\"line2d_3\">\n      <path clip-path=\"url(#p4e5de8c7ba)\" d=\"M 280.961839 445.228067 \nL 280.961839 10.348067 \n\" style=\"fill:none;stroke:#b0b0b0;stroke-linecap:square;stroke-width:0.8;\"/>\n     </g>\n     <g id=\"line2d_4\">\n      <g>\n       <use style=\"stroke:#000000;stroke-width:0.8;\" x=\"280.961839\" xlink:href=\"#m8e0555ad12\" y=\"445.228067\"/>\n      </g>\n     </g>\n     <g id=\"text_2\">\n      <!-- $\\mathdefault{10^{-1}}$ -->\n      <g transform=\"translate(269.211839 459.826504)scale(0.1 -0.1)\">\n       <use transform=\"translate(0 0.684375)\" xlink:href=\"#DejaVuSans-49\"/>\n       <use transform=\"translate(63.623047 0.684375)\" xlink:href=\"#DejaVuSans-48\"/>\n       <use transform=\"translate(128.203125 38.965625)scale(0.7)\" xlink:href=\"#DejaVuSans-8722\"/>\n       <use transform=\"translate(186.855469 38.965625)scale(0.7)\" xlink:href=\"#DejaVuSans-49\"/>\n      </g>\n     </g>\n    </g>\n    <g id=\"xtick_3\">\n     <g id=\"line2d_5\">\n      <path clip-path=\"url(#p4e5de8c7ba)\" d=\"M 468.770393 445.228067 \nL 468.770393 10.348067 \n\" style=\"fill:none;stroke:#b0b0b0;stroke-linecap:square;stroke-width:0.8;\"/>\n     </g>\n     <g id=\"line2d_6\">\n      <g>\n       <use style=\"stroke:#000000;stroke-width:0.8;\" x=\"468.770393\" xlink:href=\"#m8e0555ad12\" y=\"445.228067\"/>\n      </g>\n     </g>\n     <g id=\"text_3\">\n      <!-- $\\mathdefault{10^{0}}$ -->\n      <g transform=\"translate(459.970393 459.826504)scale(0.1 -0.1)\">\n       <use transform=\"translate(0 0.765625)\" xlink:href=\"#DejaVuSans-49\"/>\n       <use transform=\"translate(63.623047 0.765625)\" xlink:href=\"#DejaVuSans-48\"/>\n       <use transform=\"translate(128.203125 39.046875)scale(0.7)\" xlink:href=\"#DejaVuSans-48\"/>\n      </g>\n     </g>\n    </g>\n    <g id=\"xtick_4\">\n     <g id=\"line2d_7\">\n      <defs>\n       <path d=\"M 0 0 \nL 0 2 \n\" id=\"m5abc728af8\" style=\"stroke:#000000;stroke-width:0.6;\"/>\n      </defs>\n      <g>\n       <use style=\"stroke:#000000;stroke-width:0.6;\" x=\"51.488193\" xlink:href=\"#m5abc728af8\" y=\"445.228067\"/>\n      </g>\n     </g>\n    </g>\n    <g id=\"xtick_5\">\n     <g id=\"line2d_8\">\n      <g>\n       <use style=\"stroke:#000000;stroke-width:0.6;\" x=\"64.061373\" xlink:href=\"#m5abc728af8\" y=\"445.228067\"/>\n      </g>\n     </g>\n    </g>\n    <g id=\"xtick_6\">\n     <g id=\"line2d_9\">\n      <g>\n       <use style=\"stroke:#000000;stroke-width:0.6;\" x=\"74.952756\" xlink:href=\"#m5abc728af8\" y=\"445.228067\"/>\n      </g>\n     </g>\n    </g>\n    <g id=\"xtick_7\">\n     <g id=\"line2d_10\">\n      <g>\n       <use style=\"stroke:#000000;stroke-width:0.6;\" x=\"84.559638\" xlink:href=\"#m5abc728af8\" y=\"445.228067\"/>\n      </g>\n     </g>\n    </g>\n    <g id=\"xtick_8\">\n     <g id=\"line2d_11\">\n      <g>\n       <use style=\"stroke:#000000;stroke-width:0.6;\" x=\"149.689294\" xlink:href=\"#m5abc728af8\" y=\"445.228067\"/>\n      </g>\n     </g>\n    </g>\n    <g id=\"xtick_9\">\n     <g id=\"line2d_12\">\n      <g>\n       <use style=\"stroke:#000000;stroke-width:0.6;\" x=\"182.760738\" xlink:href=\"#m5abc728af8\" y=\"445.228067\"/>\n      </g>\n     </g>\n    </g>\n    <g id=\"xtick_10\">\n     <g id=\"line2d_13\">\n      <g>\n       <use style=\"stroke:#000000;stroke-width:0.6;\" x=\"206.225302\" xlink:href=\"#m5abc728af8\" y=\"445.228067\"/>\n      </g>\n     </g>\n    </g>\n    <g id=\"xtick_11\">\n     <g id=\"line2d_14\">\n      <g>\n       <use style=\"stroke:#000000;stroke-width:0.6;\" x=\"224.425831\" xlink:href=\"#m5abc728af8\" y=\"445.228067\"/>\n      </g>\n     </g>\n    </g>\n    <g id=\"xtick_12\">\n     <g id=\"line2d_15\">\n      <g>\n       <use style=\"stroke:#000000;stroke-width:0.6;\" x=\"239.296747\" xlink:href=\"#m5abc728af8\" y=\"445.228067\"/>\n      </g>\n     </g>\n    </g>\n    <g id=\"xtick_13\">\n     <g id=\"line2d_16\">\n      <g>\n       <use style=\"stroke:#000000;stroke-width:0.6;\" x=\"251.869926\" xlink:href=\"#m5abc728af8\" y=\"445.228067\"/>\n      </g>\n     </g>\n    </g>\n    <g id=\"xtick_14\">\n     <g id=\"line2d_17\">\n      <g>\n       <use style=\"stroke:#000000;stroke-width:0.6;\" x=\"262.76131\" xlink:href=\"#m5abc728af8\" y=\"445.228067\"/>\n      </g>\n     </g>\n    </g>\n    <g id=\"xtick_15\">\n     <g id=\"line2d_18\">\n      <g>\n       <use style=\"stroke:#000000;stroke-width:0.6;\" x=\"272.368191\" xlink:href=\"#m5abc728af8\" y=\"445.228067\"/>\n      </g>\n     </g>\n    </g>\n    <g id=\"xtick_16\">\n     <g id=\"line2d_19\">\n      <g>\n       <use style=\"stroke:#000000;stroke-width:0.6;\" x=\"337.497847\" xlink:href=\"#m5abc728af8\" y=\"445.228067\"/>\n      </g>\n     </g>\n    </g>\n    <g id=\"xtick_17\">\n     <g id=\"line2d_20\">\n      <g>\n       <use style=\"stroke:#000000;stroke-width:0.6;\" x=\"370.569292\" xlink:href=\"#m5abc728af8\" y=\"445.228067\"/>\n      </g>\n     </g>\n    </g>\n    <g id=\"xtick_18\">\n     <g id=\"line2d_21\">\n      <g>\n       <use style=\"stroke:#000000;stroke-width:0.6;\" x=\"394.033856\" xlink:href=\"#m5abc728af8\" y=\"445.228067\"/>\n      </g>\n     </g>\n    </g>\n    <g id=\"xtick_19\">\n     <g id=\"line2d_22\">\n      <g>\n       <use style=\"stroke:#000000;stroke-width:0.6;\" x=\"412.234385\" xlink:href=\"#m5abc728af8\" y=\"445.228067\"/>\n      </g>\n     </g>\n    </g>\n    <g id=\"xtick_20\">\n     <g id=\"line2d_23\">\n      <g>\n       <use style=\"stroke:#000000;stroke-width:0.6;\" x=\"427.1053\" xlink:href=\"#m5abc728af8\" y=\"445.228067\"/>\n      </g>\n     </g>\n    </g>\n    <g id=\"xtick_21\">\n     <g id=\"line2d_24\">\n      <g>\n       <use style=\"stroke:#000000;stroke-width:0.6;\" x=\"439.67848\" xlink:href=\"#m5abc728af8\" y=\"445.228067\"/>\n      </g>\n     </g>\n    </g>\n    <g id=\"xtick_22\">\n     <g id=\"line2d_25\">\n      <g>\n       <use style=\"stroke:#000000;stroke-width:0.6;\" x=\"450.569864\" xlink:href=\"#m5abc728af8\" y=\"445.228067\"/>\n      </g>\n     </g>\n    </g>\n    <g id=\"xtick_23\">\n     <g id=\"line2d_26\">\n      <g>\n       <use style=\"stroke:#000000;stroke-width:0.6;\" x=\"460.176745\" xlink:href=\"#m5abc728af8\" y=\"445.228067\"/>\n      </g>\n     </g>\n    </g>\n   </g>\n   <g id=\"matplotlib.axis_2\">\n    <g id=\"ytick_1\">\n     <g id=\"line2d_27\">\n      <path clip-path=\"url(#p4e5de8c7ba)\" d=\"M 42.1 399.00465 \nL 488.5 399.00465 \n\" style=\"fill:none;stroke:#b0b0b0;stroke-linecap:square;stroke-width:0.8;\"/>\n     </g>\n     <g id=\"line2d_28\">\n      <defs>\n       <path d=\"M 0 0 \nL -3.5 0 \n\" id=\"m19c9447aa9\" style=\"stroke:#000000;stroke-width:0.8;\"/>\n      </defs>\n      <g>\n       <use style=\"stroke:#000000;stroke-width:0.8;\" x=\"42.1\" xlink:href=\"#m19c9447aa9\" y=\"399.00465\"/>\n      </g>\n     </g>\n     <g id=\"text_4\">\n      <!-- $\\mathdefault{10^{-15}}$ -->\n      <defs>\n       <path d=\"M 10.796875 72.90625 \nL 49.515625 72.90625 \nL 49.515625 64.59375 \nL 19.828125 64.59375 \nL 19.828125 46.734375 \nQ 21.96875 47.46875 24.109375 47.828125 \nQ 26.265625 48.1875 28.421875 48.1875 \nQ 40.625 48.1875 47.75 41.5 \nQ 54.890625 34.8125 54.890625 23.390625 \nQ 54.890625 11.625 47.5625 5.09375 \nQ 40.234375 -1.421875 26.90625 -1.421875 \nQ 22.3125 -1.421875 17.546875 -0.640625 \nQ 12.796875 0.140625 7.71875 1.703125 \nL 7.71875 11.625 \nQ 12.109375 9.234375 16.796875 8.0625 \nQ 21.484375 6.890625 26.703125 6.890625 \nQ 35.15625 6.890625 40.078125 11.328125 \nQ 45.015625 15.765625 45.015625 23.390625 \nQ 45.015625 31 40.078125 35.4375 \nQ 35.15625 39.890625 26.703125 39.890625 \nQ 22.75 39.890625 18.8125 39.015625 \nQ 14.890625 38.140625 10.796875 36.28125 \nz\n\" id=\"DejaVuSans-53\"/>\n      </defs>\n      <g transform=\"translate(7.2 402.803869)scale(0.1 -0.1)\">\n       <use transform=\"translate(0 0.684375)\" xlink:href=\"#DejaVuSans-49\"/>\n       <use transform=\"translate(63.623047 0.684375)\" xlink:href=\"#DejaVuSans-48\"/>\n       <use transform=\"translate(128.203125 38.965625)scale(0.7)\" xlink:href=\"#DejaVuSans-8722\"/>\n       <use transform=\"translate(186.855469 38.965625)scale(0.7)\" xlink:href=\"#DejaVuSans-49\"/>\n       <use transform=\"translate(231.391602 38.965625)scale(0.7)\" xlink:href=\"#DejaVuSans-53\"/>\n      </g>\n     </g>\n    </g>\n    <g id=\"ytick_2\">\n     <g id=\"line2d_29\">\n      <path clip-path=\"url(#p4e5de8c7ba)\" d=\"M 42.1 343.575303 \nL 488.5 343.575303 \n\" style=\"fill:none;stroke:#b0b0b0;stroke-linecap:square;stroke-width:0.8;\"/>\n     </g>\n     <g id=\"line2d_30\">\n      <g>\n       <use style=\"stroke:#000000;stroke-width:0.8;\" x=\"42.1\" xlink:href=\"#m19c9447aa9\" y=\"343.575303\"/>\n      </g>\n     </g>\n     <g id=\"text_5\">\n      <!-- $\\mathdefault{10^{-13}}$ -->\n      <defs>\n       <path d=\"M 40.578125 39.3125 \nQ 47.65625 37.796875 51.625 33 \nQ 55.609375 28.21875 55.609375 21.1875 \nQ 55.609375 10.40625 48.1875 4.484375 \nQ 40.765625 -1.421875 27.09375 -1.421875 \nQ 22.515625 -1.421875 17.65625 -0.515625 \nQ 12.796875 0.390625 7.625 2.203125 \nL 7.625 11.71875 \nQ 11.71875 9.328125 16.59375 8.109375 \nQ 21.484375 6.890625 26.8125 6.890625 \nQ 36.078125 6.890625 40.9375 10.546875 \nQ 45.796875 14.203125 45.796875 21.1875 \nQ 45.796875 27.640625 41.28125 31.265625 \nQ 36.765625 34.90625 28.71875 34.90625 \nL 20.21875 34.90625 \nL 20.21875 43.015625 \nL 29.109375 43.015625 \nQ 36.375 43.015625 40.234375 45.921875 \nQ 44.09375 48.828125 44.09375 54.296875 \nQ 44.09375 59.90625 40.109375 62.90625 \nQ 36.140625 65.921875 28.71875 65.921875 \nQ 24.65625 65.921875 20.015625 65.03125 \nQ 15.375 64.15625 9.8125 62.3125 \nL 9.8125 71.09375 \nQ 15.4375 72.65625 20.34375 73.4375 \nQ 25.25 74.21875 29.59375 74.21875 \nQ 40.828125 74.21875 47.359375 69.109375 \nQ 53.90625 64.015625 53.90625 55.328125 \nQ 53.90625 49.265625 50.4375 45.09375 \nQ 46.96875 40.921875 40.578125 39.3125 \nz\n\" id=\"DejaVuSans-51\"/>\n      </defs>\n      <g transform=\"translate(7.2 347.374522)scale(0.1 -0.1)\">\n       <use transform=\"translate(0 0.765625)\" xlink:href=\"#DejaVuSans-49\"/>\n       <use transform=\"translate(63.623047 0.765625)\" xlink:href=\"#DejaVuSans-48\"/>\n       <use transform=\"translate(128.203125 39.046875)scale(0.7)\" xlink:href=\"#DejaVuSans-8722\"/>\n       <use transform=\"translate(186.855469 39.046875)scale(0.7)\" xlink:href=\"#DejaVuSans-49\"/>\n       <use transform=\"translate(231.391602 39.046875)scale(0.7)\" xlink:href=\"#DejaVuSans-51\"/>\n      </g>\n     </g>\n    </g>\n    <g id=\"ytick_3\">\n     <g id=\"line2d_31\">\n      <path clip-path=\"url(#p4e5de8c7ba)\" d=\"M 42.1 288.145955 \nL 488.5 288.145955 \n\" style=\"fill:none;stroke:#b0b0b0;stroke-linecap:square;stroke-width:0.8;\"/>\n     </g>\n     <g id=\"line2d_32\">\n      <g>\n       <use style=\"stroke:#000000;stroke-width:0.8;\" x=\"42.1\" xlink:href=\"#m19c9447aa9\" y=\"288.145955\"/>\n      </g>\n     </g>\n     <g id=\"text_6\">\n      <!-- $\\mathdefault{10^{-11}}$ -->\n      <g transform=\"translate(7.2 291.945174)scale(0.1 -0.1)\">\n       <use transform=\"translate(0 0.684375)\" xlink:href=\"#DejaVuSans-49\"/>\n       <use transform=\"translate(63.623047 0.684375)\" xlink:href=\"#DejaVuSans-48\"/>\n       <use transform=\"translate(128.203125 38.965625)scale(0.7)\" xlink:href=\"#DejaVuSans-8722\"/>\n       <use transform=\"translate(186.855469 38.965625)scale(0.7)\" xlink:href=\"#DejaVuSans-49\"/>\n       <use transform=\"translate(231.391602 38.965625)scale(0.7)\" xlink:href=\"#DejaVuSans-49\"/>\n      </g>\n     </g>\n    </g>\n    <g id=\"ytick_4\">\n     <g id=\"line2d_33\">\n      <path clip-path=\"url(#p4e5de8c7ba)\" d=\"M 42.1 232.716608 \nL 488.5 232.716608 \n\" style=\"fill:none;stroke:#b0b0b0;stroke-linecap:square;stroke-width:0.8;\"/>\n     </g>\n     <g id=\"line2d_34\">\n      <g>\n       <use style=\"stroke:#000000;stroke-width:0.8;\" x=\"42.1\" xlink:href=\"#m19c9447aa9\" y=\"232.716608\"/>\n      </g>\n     </g>\n     <g id=\"text_7\">\n      <!-- $\\mathdefault{10^{-9}}$ -->\n      <defs>\n       <path d=\"M 10.984375 1.515625 \nL 10.984375 10.5 \nQ 14.703125 8.734375 18.5 7.8125 \nQ 22.3125 6.890625 25.984375 6.890625 \nQ 35.75 6.890625 40.890625 13.453125 \nQ 46.046875 20.015625 46.78125 33.40625 \nQ 43.953125 29.203125 39.59375 26.953125 \nQ 35.25 24.703125 29.984375 24.703125 \nQ 19.046875 24.703125 12.671875 31.3125 \nQ 6.296875 37.9375 6.296875 49.421875 \nQ 6.296875 60.640625 12.9375 67.421875 \nQ 19.578125 74.21875 30.609375 74.21875 \nQ 43.265625 74.21875 49.921875 64.515625 \nQ 56.59375 54.828125 56.59375 36.375 \nQ 56.59375 19.140625 48.40625 8.859375 \nQ 40.234375 -1.421875 26.421875 -1.421875 \nQ 22.703125 -1.421875 18.890625 -0.6875 \nQ 15.09375 0.046875 10.984375 1.515625 \nz\nM 30.609375 32.421875 \nQ 37.25 32.421875 41.125 36.953125 \nQ 45.015625 41.5 45.015625 49.421875 \nQ 45.015625 57.28125 41.125 61.84375 \nQ 37.25 66.40625 30.609375 66.40625 \nQ 23.96875 66.40625 20.09375 61.84375 \nQ 16.21875 57.28125 16.21875 49.421875 \nQ 16.21875 41.5 20.09375 36.953125 \nQ 23.96875 32.421875 30.609375 32.421875 \nz\n\" id=\"DejaVuSans-57\"/>\n      </defs>\n      <g transform=\"translate(11.6 236.515827)scale(0.1 -0.1)\">\n       <use transform=\"translate(0 0.765625)\" xlink:href=\"#DejaVuSans-49\"/>\n       <use transform=\"translate(63.623047 0.765625)\" xlink:href=\"#DejaVuSans-48\"/>\n       <use transform=\"translate(128.203125 39.046875)scale(0.7)\" xlink:href=\"#DejaVuSans-8722\"/>\n       <use transform=\"translate(186.855469 39.046875)scale(0.7)\" xlink:href=\"#DejaVuSans-57\"/>\n      </g>\n     </g>\n    </g>\n    <g id=\"ytick_5\">\n     <g id=\"line2d_35\">\n      <path clip-path=\"url(#p4e5de8c7ba)\" d=\"M 42.1 177.287261 \nL 488.5 177.287261 \n\" style=\"fill:none;stroke:#b0b0b0;stroke-linecap:square;stroke-width:0.8;\"/>\n     </g>\n     <g id=\"line2d_36\">\n      <g>\n       <use style=\"stroke:#000000;stroke-width:0.8;\" x=\"42.1\" xlink:href=\"#m19c9447aa9\" y=\"177.287261\"/>\n      </g>\n     </g>\n     <g id=\"text_8\">\n      <!-- $\\mathdefault{10^{-7}}$ -->\n      <defs>\n       <path d=\"M 8.203125 72.90625 \nL 55.078125 72.90625 \nL 55.078125 68.703125 \nL 28.609375 0 \nL 18.3125 0 \nL 43.21875 64.59375 \nL 8.203125 64.59375 \nz\n\" id=\"DejaVuSans-55\"/>\n      </defs>\n      <g transform=\"translate(11.6 181.08648)scale(0.1 -0.1)\">\n       <use transform=\"translate(0 0.684375)\" xlink:href=\"#DejaVuSans-49\"/>\n       <use transform=\"translate(63.623047 0.684375)\" xlink:href=\"#DejaVuSans-48\"/>\n       <use transform=\"translate(128.203125 38.965625)scale(0.7)\" xlink:href=\"#DejaVuSans-8722\"/>\n       <use transform=\"translate(186.855469 38.965625)scale(0.7)\" xlink:href=\"#DejaVuSans-55\"/>\n      </g>\n     </g>\n    </g>\n    <g id=\"ytick_6\">\n     <g id=\"line2d_37\">\n      <path clip-path=\"url(#p4e5de8c7ba)\" d=\"M 42.1 121.857913 \nL 488.5 121.857913 \n\" style=\"fill:none;stroke:#b0b0b0;stroke-linecap:square;stroke-width:0.8;\"/>\n     </g>\n     <g id=\"line2d_38\">\n      <g>\n       <use style=\"stroke:#000000;stroke-width:0.8;\" x=\"42.1\" xlink:href=\"#m19c9447aa9\" y=\"121.857913\"/>\n      </g>\n     </g>\n     <g id=\"text_9\">\n      <!-- $\\mathdefault{10^{-5}}$ -->\n      <g transform=\"translate(11.6 125.657132)scale(0.1 -0.1)\">\n       <use transform=\"translate(0 0.684375)\" xlink:href=\"#DejaVuSans-49\"/>\n       <use transform=\"translate(63.623047 0.684375)\" xlink:href=\"#DejaVuSans-48\"/>\n       <use transform=\"translate(128.203125 38.965625)scale(0.7)\" xlink:href=\"#DejaVuSans-8722\"/>\n       <use transform=\"translate(186.855469 38.965625)scale(0.7)\" xlink:href=\"#DejaVuSans-53\"/>\n      </g>\n     </g>\n    </g>\n    <g id=\"ytick_7\">\n     <g id=\"line2d_39\">\n      <path clip-path=\"url(#p4e5de8c7ba)\" d=\"M 42.1 66.428566 \nL 488.5 66.428566 \n\" style=\"fill:none;stroke:#b0b0b0;stroke-linecap:square;stroke-width:0.8;\"/>\n     </g>\n     <g id=\"line2d_40\">\n      <g>\n       <use style=\"stroke:#000000;stroke-width:0.8;\" x=\"42.1\" xlink:href=\"#m19c9447aa9\" y=\"66.428566\"/>\n      </g>\n     </g>\n     <g id=\"text_10\">\n      <!-- $\\mathdefault{10^{-3}}$ -->\n      <g transform=\"translate(11.6 70.227785)scale(0.1 -0.1)\">\n       <use transform=\"translate(0 0.765625)\" xlink:href=\"#DejaVuSans-49\"/>\n       <use transform=\"translate(63.623047 0.765625)\" xlink:href=\"#DejaVuSans-48\"/>\n       <use transform=\"translate(128.203125 39.046875)scale(0.7)\" xlink:href=\"#DejaVuSans-8722\"/>\n       <use transform=\"translate(186.855469 39.046875)scale(0.7)\" xlink:href=\"#DejaVuSans-51\"/>\n      </g>\n     </g>\n    </g>\n    <g id=\"ytick_8\">\n     <g id=\"line2d_41\">\n      <path clip-path=\"url(#p4e5de8c7ba)\" d=\"M 42.1 10.999219 \nL 488.5 10.999219 \n\" style=\"fill:none;stroke:#b0b0b0;stroke-linecap:square;stroke-width:0.8;\"/>\n     </g>\n     <g id=\"line2d_42\">\n      <g>\n       <use style=\"stroke:#000000;stroke-width:0.8;\" x=\"42.1\" xlink:href=\"#m19c9447aa9\" y=\"10.999219\"/>\n      </g>\n     </g>\n     <g id=\"text_11\">\n      <!-- $\\mathdefault{10^{-1}}$ -->\n      <g transform=\"translate(11.6 14.798438)scale(0.1 -0.1)\">\n       <use transform=\"translate(0 0.684375)\" xlink:href=\"#DejaVuSans-49\"/>\n       <use transform=\"translate(63.623047 0.684375)\" xlink:href=\"#DejaVuSans-48\"/>\n       <use transform=\"translate(128.203125 38.965625)scale(0.7)\" xlink:href=\"#DejaVuSans-8722\"/>\n       <use transform=\"translate(186.855469 38.965625)scale(0.7)\" xlink:href=\"#DejaVuSans-49\"/>\n      </g>\n     </g>\n    </g>\n   </g>\n   <g id=\"line2d_43\">\n    <path clip-path=\"url(#p4e5de8c7ba)\" d=\"M 341.990342 30.11534 \nL 449.406983 30.11534 \n\" style=\"fill:none;stroke:#1f77b4;stroke-linecap:square;stroke-opacity:0.5;stroke-width:5;\"/>\n   </g>\n   <g id=\"line2d_44\">\n    <path clip-path=\"url(#p4e5de8c7ba)\" d=\"M 290.7148 76.252715 \nL 412.234385 76.252715 \nL 459.017432 76.252715 \n\" style=\"fill:none;stroke:#ff7f0e;stroke-linecap:square;stroke-opacity:0.5;stroke-width:5;\"/>\n   </g>\n   <g id=\"line2d_45\">\n    <path clip-path=\"url(#p4e5de8c7ba)\" d=\"M 251.205208 130.152242 \nL 378.345535 130.152242 \nL 436.104599 130.152242 \nL 462.901035 130.152242 \n\" style=\"fill:none;stroke:#2ca02c;stroke-linecap:square;stroke-opacity:0.5;stroke-width:5;\"/>\n   </g>\n   <g id=\"line2d_46\">\n    <path clip-path=\"url(#p4e5de8c7ba)\" d=\"M 219.22281 189.887335 \nL 349.168383 189.887335 \nL 412.234385 189.887335 \nL 447.371269 189.887335 \nL 464.851557 189.887335 \n\" style=\"fill:none;stroke:#d62728;stroke-linecap:square;stroke-opacity:0.5;stroke-width:5;\"/>\n   </g>\n   <g id=\"line2d_47\">\n    <path clip-path=\"url(#p4e5de8c7ba)\" d=\"M 192.404449 254.302852 \nL 323.951475 254.30286 \nL 389.998214 254.30286 \nL 429.688899 254.30286 \nL 453.631968 254.302844 \nL 465.968788 254.302852 \n\" style=\"fill:none;stroke:#9467bd;stroke-linecap:square;stroke-opacity:0.5;stroke-width:5;\"/>\n   </g>\n   <g id=\"line2d_48\">\n    <path clip-path=\"url(#p4e5de8c7ba)\" d=\"M 169.332242 322.636102 \nL 301.87961 322.636102 \nL 369.770804 322.636102 \nL 412.234385 322.640796 \nL 440.018311 322.640796 \nL 457.483336 322.636102 \nL 466.668043 322.638449 \n\" style=\"fill:none;stroke:#8c564b;stroke-linecap:square;stroke-opacity:0.5;stroke-width:5;\"/>\n   </g>\n   <g id=\"line2d_49\">\n    <path clip-path=\"url(#p4e5de8c7ba)\" d=\"M 149.096094 399.014274 \nL 282.310115 397.74612 \nL 351.423206 400.43195 \nL 395.705533 400.43195 \nL 425.971506 400.43195 \nL 446.6825 403.894586 \nL 460.025551 399.014274 \nL 467.134636 397.74612 \n\" style=\"fill:none;stroke:#e377c2;stroke-linecap:square;stroke-opacity:0.5;stroke-width:5;\"/>\n   </g>\n   <g id=\"line2d_50\">\n    <path clip-path=\"url(#p4e5de8c7ba)\" d=\"M 131.079307 425.460794 \nL 264.759871 417.117846 \nL 334.724657 417.117846 \nL 380.266337 417.117846 \nL 380.328429 470.106192 \nM 435.097108 470.106192 \nL 435.141602 417.117846 \nL 435.172887 470.106192 \nM 461.776051 470.106192 \nL 461.793313 425.460794 \nL 467.461454 425.460794 \n\" style=\"fill:none;stroke:#7f7f7f;stroke-linecap:square;stroke-opacity:0.5;stroke-width:5;\"/>\n   </g>\n   <g id=\"line2d_51\">\n    <path clip-path=\"url(#p4e5de8c7ba)\" d=\"M 114.845524 402.039178 \nL 248.865334 402.039178 \nL 319.447673 400.43195 \nL 365.898277 403.894586 \nL 399.0866 400.43195 \nL 423.554082 403.894586 \nL 441.601258 400.43195 \nL 454.520725 400.43195 \nL 463.072957 402.039178 \nL 467.699243 402.039178 \n\" style=\"fill:none;stroke:#bcbd22;stroke-linecap:square;stroke-opacity:0.5;stroke-width:5;\"/>\n   </g>\n   <g id=\"line2d_52\">\n    <path clip-path=\"url(#p4e5de8c7ba)\" d=\"M 100.075008 425.460794 \nL 100.294816 470.106192 \nM 305.255712 470.106192 \nL 305.393704 417.117846 \nL 305.485243 470.106192 \nM 386.550055 470.106192 \nL 386.616277 417.117846 \nL 386.666036 470.106192 \nM 456.928036 470.106192 \nL 456.948646 417.117846 \nL 464.029412 425.460794 \nL 467.877644 425.460794 \n\" style=\"fill:none;stroke:#17becf;stroke-linecap:square;stroke-opacity:0.5;stroke-width:5;\"/>\n   </g>\n   <g id=\"line2d_53\">\n    <path clip-path=\"url(#p4e5de8c7ba)\" d=\"M 86.526646 406.089069 \nL 220.996532 402.039178 \nL 292.39592 408.774898 \nL 340.043702 403.894586 \nL 374.829091 403.894586 \nL 401.321241 403.894586 \nL 421.858187 403.894586 \nL 437.782471 403.894586 \nL 449.920787 400.43195 \nL 458.8014 403.894586 \nL 464.763252 406.089069 \nL 468.014909 403.894586 \n\" style=\"fill:none;stroke:#1f77b4;stroke-linecap:square;stroke-opacity:0.5;stroke-width:5;\"/>\n   </g>\n   <g id=\"line2d_54\">\n    <path clip-path=\"url(#p4e5de8c7ba)\" d=\"M 74.014207 412.237534 \nL 208.637827 408.774898 \nL 280.315708 408.774898 \nL 328.370172 408.774898 \nL 363.695494 408.774898 \nL 390.867809 408.774898 \nL 412.234385 400.43195 \nL 429.14972 403.894586 \nL 442.455847 403.894586 \nL 452.700656 417.117846 \nL 460.248222 412.237534 \nL 465.338692 408.774898 \nL 468.12278 406.089069 \n\" style=\"fill:none;stroke:#ff7f0e;stroke-linecap:square;stroke-opacity:0.5;stroke-width:5;\"/>\n   </g>\n   <g id=\"line2d_55\">\n    <path clip-path=\"url(#p4e5de8c7ba)\" d=\"M 62.390909 425.460794 \nL 197.137508 425.460794 \nL 269.037956 425.460794 \nL 317.416933 417.117846 \nL 353.172171 417.117846 \nL 380.884526 417.117846 \nL 380.927301 470.106192 \nM 420.569007 470.106192 \nL 420.603378 417.117846 \nL 434.824334 408.774898 \nL 446.130806 417.117846 \nL 446.147843 470.106192 \nM 461.389474 470.106192 \nL 461.40011 425.460794 \nL 465.79832 417.117846 \nL 468.209091 417.117846 \n\" style=\"fill:none;stroke:#2ca02c;stroke-linecap:square;stroke-opacity:0.5;stroke-width:5;\"/>\n   </g>\n   <g id=\"patch_3\">\n    <path d=\"M 42.1 445.228067 \nL 42.1 10.348067 \n\" style=\"fill:none;stroke:#000000;stroke-linecap:square;stroke-linejoin:miter;stroke-width:0.8;\"/>\n   </g>\n   <g id=\"patch_4\">\n    <path d=\"M 488.5 445.228067 \nL 488.5 10.348067 \n\" style=\"fill:none;stroke:#000000;stroke-linecap:square;stroke-linejoin:miter;stroke-width:0.8;\"/>\n   </g>\n   <g id=\"patch_5\">\n    <path d=\"M 42.1 445.228067 \nL 488.5 445.228067 \n\" style=\"fill:none;stroke:#000000;stroke-linecap:square;stroke-linejoin:miter;stroke-width:0.8;\"/>\n   </g>\n   <g id=\"patch_6\">\n    <path d=\"M 42.1 10.348067 \nL 488.5 10.348067 \n\" style=\"fill:none;stroke:#000000;stroke-linecap:square;stroke-linejoin:miter;stroke-width:0.8;\"/>\n   </g>\n   <g id=\"legend_1\">\n    <g id=\"patch_7\">\n     <path d=\"M 49.1 209.163692 \nL 180.3625 209.163692 \nQ 182.3625 209.163692 182.3625 207.163692 \nL 182.3625 17.348067 \nQ 182.3625 15.348067 180.3625 15.348067 \nL 49.1 15.348067 \nQ 47.1 15.348067 47.1 17.348067 \nL 47.1 207.163692 \nQ 47.1 209.163692 49.1 209.163692 \nz\n\" style=\"fill:#ffffff;opacity:0.8;stroke:#cccccc;stroke-linejoin:miter;\"/>\n    </g>\n    <g id=\"line2d_56\">\n     <path d=\"M 51.1 23.446504 \nL 71.1 23.446504 \n\" style=\"fill:none;stroke:#1f77b4;stroke-linecap:square;stroke-opacity:0.5;stroke-width:5;\"/>\n    </g>\n    <g id=\"line2d_57\"/>\n    <g id=\"text_12\">\n     <!-- difference for N=2 -->\n     <defs>\n      <path d=\"M 45.40625 46.390625 \nL 45.40625 75.984375 \nL 54.390625 75.984375 \nL 54.390625 0 \nL 45.40625 0 \nL 45.40625 8.203125 \nQ 42.578125 3.328125 38.25 0.953125 \nQ 33.9375 -1.421875 27.875 -1.421875 \nQ 17.96875 -1.421875 11.734375 6.484375 \nQ 5.515625 14.40625 5.515625 27.296875 \nQ 5.515625 40.1875 11.734375 48.09375 \nQ 17.96875 56 27.875 56 \nQ 33.9375 56 38.25 53.625 \nQ 42.578125 51.265625 45.40625 46.390625 \nz\nM 14.796875 27.296875 \nQ 14.796875 17.390625 18.875 11.75 \nQ 22.953125 6.109375 30.078125 6.109375 \nQ 37.203125 6.109375 41.296875 11.75 \nQ 45.40625 17.390625 45.40625 27.296875 \nQ 45.40625 37.203125 41.296875 42.84375 \nQ 37.203125 48.484375 30.078125 48.484375 \nQ 22.953125 48.484375 18.875 42.84375 \nQ 14.796875 37.203125 14.796875 27.296875 \nz\n\" id=\"DejaVuSans-100\"/>\n      <path d=\"M 9.421875 54.6875 \nL 18.40625 54.6875 \nL 18.40625 0 \nL 9.421875 0 \nz\nM 9.421875 75.984375 \nL 18.40625 75.984375 \nL 18.40625 64.59375 \nL 9.421875 64.59375 \nz\n\" id=\"DejaVuSans-105\"/>\n      <path d=\"M 37.109375 75.984375 \nL 37.109375 68.5 \nL 28.515625 68.5 \nQ 23.6875 68.5 21.796875 66.546875 \nQ 19.921875 64.59375 19.921875 59.515625 \nL 19.921875 54.6875 \nL 34.71875 54.6875 \nL 34.71875 47.703125 \nL 19.921875 47.703125 \nL 19.921875 0 \nL 10.890625 0 \nL 10.890625 47.703125 \nL 2.296875 47.703125 \nL 2.296875 54.6875 \nL 10.890625 54.6875 \nL 10.890625 58.5 \nQ 10.890625 67.625 15.140625 71.796875 \nQ 19.390625 75.984375 28.609375 75.984375 \nz\n\" id=\"DejaVuSans-102\"/>\n      <path d=\"M 56.203125 29.59375 \nL 56.203125 25.203125 \nL 14.890625 25.203125 \nQ 15.484375 15.921875 20.484375 11.0625 \nQ 25.484375 6.203125 34.421875 6.203125 \nQ 39.59375 6.203125 44.453125 7.46875 \nQ 49.3125 8.734375 54.109375 11.28125 \nL 54.109375 2.78125 \nQ 49.265625 0.734375 44.1875 -0.34375 \nQ 39.109375 -1.421875 33.890625 -1.421875 \nQ 20.796875 -1.421875 13.15625 6.1875 \nQ 5.515625 13.8125 5.515625 26.8125 \nQ 5.515625 40.234375 12.765625 48.109375 \nQ 20.015625 56 32.328125 56 \nQ 43.359375 56 49.78125 48.890625 \nQ 56.203125 41.796875 56.203125 29.59375 \nz\nM 47.21875 32.234375 \nQ 47.125 39.59375 43.09375 43.984375 \nQ 39.0625 48.390625 32.421875 48.390625 \nQ 24.90625 48.390625 20.390625 44.140625 \nQ 15.875 39.890625 15.1875 32.171875 \nz\n\" id=\"DejaVuSans-101\"/>\n      <path d=\"M 41.109375 46.296875 \nQ 39.59375 47.171875 37.8125 47.578125 \nQ 36.03125 48 33.890625 48 \nQ 26.265625 48 22.1875 43.046875 \nQ 18.109375 38.09375 18.109375 28.8125 \nL 18.109375 0 \nL 9.078125 0 \nL 9.078125 54.6875 \nL 18.109375 54.6875 \nL 18.109375 46.1875 \nQ 20.953125 51.171875 25.484375 53.578125 \nQ 30.03125 56 36.53125 56 \nQ 37.453125 56 38.578125 55.875 \nQ 39.703125 55.765625 41.0625 55.515625 \nz\n\" id=\"DejaVuSans-114\"/>\n      <path d=\"M 54.890625 33.015625 \nL 54.890625 0 \nL 45.90625 0 \nL 45.90625 32.71875 \nQ 45.90625 40.484375 42.875 44.328125 \nQ 39.84375 48.1875 33.796875 48.1875 \nQ 26.515625 48.1875 22.3125 43.546875 \nQ 18.109375 38.921875 18.109375 30.90625 \nL 18.109375 0 \nL 9.078125 0 \nL 9.078125 54.6875 \nL 18.109375 54.6875 \nL 18.109375 46.1875 \nQ 21.34375 51.125 25.703125 53.5625 \nQ 30.078125 56 35.796875 56 \nQ 45.21875 56 50.046875 50.171875 \nQ 54.890625 44.34375 54.890625 33.015625 \nz\n\" id=\"DejaVuSans-110\"/>\n      <path d=\"M 48.78125 52.59375 \nL 48.78125 44.1875 \nQ 44.96875 46.296875 41.140625 47.34375 \nQ 37.3125 48.390625 33.40625 48.390625 \nQ 24.65625 48.390625 19.8125 42.84375 \nQ 14.984375 37.3125 14.984375 27.296875 \nQ 14.984375 17.28125 19.8125 11.734375 \nQ 24.65625 6.203125 33.40625 6.203125 \nQ 37.3125 6.203125 41.140625 7.25 \nQ 44.96875 8.296875 48.78125 10.40625 \nL 48.78125 2.09375 \nQ 45.015625 0.34375 40.984375 -0.53125 \nQ 36.96875 -1.421875 32.421875 -1.421875 \nQ 20.0625 -1.421875 12.78125 6.34375 \nQ 5.515625 14.109375 5.515625 27.296875 \nQ 5.515625 40.671875 12.859375 48.328125 \nQ 20.21875 56 33.015625 56 \nQ 37.15625 56 41.109375 55.140625 \nQ 45.0625 54.296875 48.78125 52.59375 \nz\n\" id=\"DejaVuSans-99\"/>\n      <path id=\"DejaVuSans-32\"/>\n      <path d=\"M 30.609375 48.390625 \nQ 23.390625 48.390625 19.1875 42.75 \nQ 14.984375 37.109375 14.984375 27.296875 \nQ 14.984375 17.484375 19.15625 11.84375 \nQ 23.34375 6.203125 30.609375 6.203125 \nQ 37.796875 6.203125 41.984375 11.859375 \nQ 46.1875 17.53125 46.1875 27.296875 \nQ 46.1875 37.015625 41.984375 42.703125 \nQ 37.796875 48.390625 30.609375 48.390625 \nz\nM 30.609375 56 \nQ 42.328125 56 49.015625 48.375 \nQ 55.71875 40.765625 55.71875 27.296875 \nQ 55.71875 13.875 49.015625 6.21875 \nQ 42.328125 -1.421875 30.609375 -1.421875 \nQ 18.84375 -1.421875 12.171875 6.21875 \nQ 5.515625 13.875 5.515625 27.296875 \nQ 5.515625 40.765625 12.171875 48.375 \nQ 18.84375 56 30.609375 56 \nz\n\" id=\"DejaVuSans-111\"/>\n      <path d=\"M 9.8125 72.90625 \nL 23.09375 72.90625 \nL 55.421875 11.921875 \nL 55.421875 72.90625 \nL 64.984375 72.90625 \nL 64.984375 0 \nL 51.703125 0 \nL 19.390625 60.984375 \nL 19.390625 0 \nL 9.8125 0 \nz\n\" id=\"DejaVuSans-78\"/>\n      <path d=\"M 10.59375 45.40625 \nL 73.1875 45.40625 \nL 73.1875 37.203125 \nL 10.59375 37.203125 \nz\nM 10.59375 25.484375 \nL 73.1875 25.484375 \nL 73.1875 17.1875 \nL 10.59375 17.1875 \nz\n\" id=\"DejaVuSans-61\"/>\n     </defs>\n     <g transform=\"translate(79.1 26.946504)scale(0.1 -0.1)\">\n      <use xlink:href=\"#DejaVuSans-100\"/>\n      <use x=\"63.476562\" xlink:href=\"#DejaVuSans-105\"/>\n      <use x=\"91.259766\" xlink:href=\"#DejaVuSans-102\"/>\n      <use x=\"126.464844\" xlink:href=\"#DejaVuSans-102\"/>\n      <use x=\"161.669922\" xlink:href=\"#DejaVuSans-101\"/>\n      <use x=\"223.193359\" xlink:href=\"#DejaVuSans-114\"/>\n      <use x=\"264.275391\" xlink:href=\"#DejaVuSans-101\"/>\n      <use x=\"325.798828\" xlink:href=\"#DejaVuSans-110\"/>\n      <use x=\"389.177734\" xlink:href=\"#DejaVuSans-99\"/>\n      <use x=\"444.158203\" xlink:href=\"#DejaVuSans-101\"/>\n      <use x=\"505.681641\" xlink:href=\"#DejaVuSans-32\"/>\n      <use x=\"537.46875\" xlink:href=\"#DejaVuSans-102\"/>\n      <use x=\"572.673828\" xlink:href=\"#DejaVuSans-111\"/>\n      <use x=\"633.855469\" xlink:href=\"#DejaVuSans-114\"/>\n      <use x=\"674.96875\" xlink:href=\"#DejaVuSans-32\"/>\n      <use x=\"706.755859\" xlink:href=\"#DejaVuSans-78\"/>\n      <use x=\"781.560547\" xlink:href=\"#DejaVuSans-61\"/>\n      <use x=\"865.349609\" xlink:href=\"#DejaVuSans-50\"/>\n     </g>\n    </g>\n    <g id=\"line2d_58\">\n     <path d=\"M 51.1 38.124629 \nL 71.1 38.124629 \n\" style=\"fill:none;stroke:#ff7f0e;stroke-linecap:square;stroke-opacity:0.5;stroke-width:5;\"/>\n    </g>\n    <g id=\"line2d_59\"/>\n    <g id=\"text_13\">\n     <!-- difference for N=3 -->\n     <g transform=\"translate(79.1 41.624629)scale(0.1 -0.1)\">\n      <use xlink:href=\"#DejaVuSans-100\"/>\n      <use x=\"63.476562\" xlink:href=\"#DejaVuSans-105\"/>\n      <use x=\"91.259766\" xlink:href=\"#DejaVuSans-102\"/>\n      <use x=\"126.464844\" xlink:href=\"#DejaVuSans-102\"/>\n      <use x=\"161.669922\" xlink:href=\"#DejaVuSans-101\"/>\n      <use x=\"223.193359\" xlink:href=\"#DejaVuSans-114\"/>\n      <use x=\"264.275391\" xlink:href=\"#DejaVuSans-101\"/>\n      <use x=\"325.798828\" xlink:href=\"#DejaVuSans-110\"/>\n      <use x=\"389.177734\" xlink:href=\"#DejaVuSans-99\"/>\n      <use x=\"444.158203\" xlink:href=\"#DejaVuSans-101\"/>\n      <use x=\"505.681641\" xlink:href=\"#DejaVuSans-32\"/>\n      <use x=\"537.46875\" xlink:href=\"#DejaVuSans-102\"/>\n      <use x=\"572.673828\" xlink:href=\"#DejaVuSans-111\"/>\n      <use x=\"633.855469\" xlink:href=\"#DejaVuSans-114\"/>\n      <use x=\"674.96875\" xlink:href=\"#DejaVuSans-32\"/>\n      <use x=\"706.755859\" xlink:href=\"#DejaVuSans-78\"/>\n      <use x=\"781.560547\" xlink:href=\"#DejaVuSans-61\"/>\n      <use x=\"865.349609\" xlink:href=\"#DejaVuSans-51\"/>\n     </g>\n    </g>\n    <g id=\"line2d_60\">\n     <path d=\"M 51.1 52.802754 \nL 71.1 52.802754 \n\" style=\"fill:none;stroke:#2ca02c;stroke-linecap:square;stroke-opacity:0.5;stroke-width:5;\"/>\n    </g>\n    <g id=\"line2d_61\"/>\n    <g id=\"text_14\">\n     <!-- difference for N=4 -->\n     <defs>\n      <path d=\"M 37.796875 64.3125 \nL 12.890625 25.390625 \nL 37.796875 25.390625 \nz\nM 35.203125 72.90625 \nL 47.609375 72.90625 \nL 47.609375 25.390625 \nL 58.015625 25.390625 \nL 58.015625 17.1875 \nL 47.609375 17.1875 \nL 47.609375 0 \nL 37.796875 0 \nL 37.796875 17.1875 \nL 4.890625 17.1875 \nL 4.890625 26.703125 \nz\n\" id=\"DejaVuSans-52\"/>\n     </defs>\n     <g transform=\"translate(79.1 56.302754)scale(0.1 -0.1)\">\n      <use xlink:href=\"#DejaVuSans-100\"/>\n      <use x=\"63.476562\" xlink:href=\"#DejaVuSans-105\"/>\n      <use x=\"91.259766\" xlink:href=\"#DejaVuSans-102\"/>\n      <use x=\"126.464844\" xlink:href=\"#DejaVuSans-102\"/>\n      <use x=\"161.669922\" xlink:href=\"#DejaVuSans-101\"/>\n      <use x=\"223.193359\" xlink:href=\"#DejaVuSans-114\"/>\n      <use x=\"264.275391\" xlink:href=\"#DejaVuSans-101\"/>\n      <use x=\"325.798828\" xlink:href=\"#DejaVuSans-110\"/>\n      <use x=\"389.177734\" xlink:href=\"#DejaVuSans-99\"/>\n      <use x=\"444.158203\" xlink:href=\"#DejaVuSans-101\"/>\n      <use x=\"505.681641\" xlink:href=\"#DejaVuSans-32\"/>\n      <use x=\"537.46875\" xlink:href=\"#DejaVuSans-102\"/>\n      <use x=\"572.673828\" xlink:href=\"#DejaVuSans-111\"/>\n      <use x=\"633.855469\" xlink:href=\"#DejaVuSans-114\"/>\n      <use x=\"674.96875\" xlink:href=\"#DejaVuSans-32\"/>\n      <use x=\"706.755859\" xlink:href=\"#DejaVuSans-78\"/>\n      <use x=\"781.560547\" xlink:href=\"#DejaVuSans-61\"/>\n      <use x=\"865.349609\" xlink:href=\"#DejaVuSans-52\"/>\n     </g>\n    </g>\n    <g id=\"line2d_62\">\n     <path d=\"M 51.1 67.480879 \nL 71.1 67.480879 \n\" style=\"fill:none;stroke:#d62728;stroke-linecap:square;stroke-opacity:0.5;stroke-width:5;\"/>\n    </g>\n    <g id=\"line2d_63\"/>\n    <g id=\"text_15\">\n     <!-- difference for N=5 -->\n     <g transform=\"translate(79.1 70.980879)scale(0.1 -0.1)\">\n      <use xlink:href=\"#DejaVuSans-100\"/>\n      <use x=\"63.476562\" xlink:href=\"#DejaVuSans-105\"/>\n      <use x=\"91.259766\" xlink:href=\"#DejaVuSans-102\"/>\n      <use x=\"126.464844\" xlink:href=\"#DejaVuSans-102\"/>\n      <use x=\"161.669922\" xlink:href=\"#DejaVuSans-101\"/>\n      <use x=\"223.193359\" xlink:href=\"#DejaVuSans-114\"/>\n      <use x=\"264.275391\" xlink:href=\"#DejaVuSans-101\"/>\n      <use x=\"325.798828\" xlink:href=\"#DejaVuSans-110\"/>\n      <use x=\"389.177734\" xlink:href=\"#DejaVuSans-99\"/>\n      <use x=\"444.158203\" xlink:href=\"#DejaVuSans-101\"/>\n      <use x=\"505.681641\" xlink:href=\"#DejaVuSans-32\"/>\n      <use x=\"537.46875\" xlink:href=\"#DejaVuSans-102\"/>\n      <use x=\"572.673828\" xlink:href=\"#DejaVuSans-111\"/>\n      <use x=\"633.855469\" xlink:href=\"#DejaVuSans-114\"/>\n      <use x=\"674.96875\" xlink:href=\"#DejaVuSans-32\"/>\n      <use x=\"706.755859\" xlink:href=\"#DejaVuSans-78\"/>\n      <use x=\"781.560547\" xlink:href=\"#DejaVuSans-61\"/>\n      <use x=\"865.349609\" xlink:href=\"#DejaVuSans-53\"/>\n     </g>\n    </g>\n    <g id=\"line2d_64\">\n     <path d=\"M 51.1 82.159004 \nL 71.1 82.159004 \n\" style=\"fill:none;stroke:#9467bd;stroke-linecap:square;stroke-opacity:0.5;stroke-width:5;\"/>\n    </g>\n    <g id=\"line2d_65\"/>\n    <g id=\"text_16\">\n     <!-- difference for N=6 -->\n     <defs>\n      <path d=\"M 33.015625 40.375 \nQ 26.375 40.375 22.484375 35.828125 \nQ 18.609375 31.296875 18.609375 23.390625 \nQ 18.609375 15.53125 22.484375 10.953125 \nQ 26.375 6.390625 33.015625 6.390625 \nQ 39.65625 6.390625 43.53125 10.953125 \nQ 47.40625 15.53125 47.40625 23.390625 \nQ 47.40625 31.296875 43.53125 35.828125 \nQ 39.65625 40.375 33.015625 40.375 \nz\nM 52.59375 71.296875 \nL 52.59375 62.3125 \nQ 48.875 64.0625 45.09375 64.984375 \nQ 41.3125 65.921875 37.59375 65.921875 \nQ 27.828125 65.921875 22.671875 59.328125 \nQ 17.53125 52.734375 16.796875 39.40625 \nQ 19.671875 43.65625 24.015625 45.921875 \nQ 28.375 48.1875 33.59375 48.1875 \nQ 44.578125 48.1875 50.953125 41.515625 \nQ 57.328125 34.859375 57.328125 23.390625 \nQ 57.328125 12.15625 50.6875 5.359375 \nQ 44.046875 -1.421875 33.015625 -1.421875 \nQ 20.359375 -1.421875 13.671875 8.265625 \nQ 6.984375 17.96875 6.984375 36.375 \nQ 6.984375 53.65625 15.1875 63.9375 \nQ 23.390625 74.21875 37.203125 74.21875 \nQ 40.921875 74.21875 44.703125 73.484375 \nQ 48.484375 72.75 52.59375 71.296875 \nz\n\" id=\"DejaVuSans-54\"/>\n     </defs>\n     <g transform=\"translate(79.1 85.659004)scale(0.1 -0.1)\">\n      <use xlink:href=\"#DejaVuSans-100\"/>\n      <use x=\"63.476562\" xlink:href=\"#DejaVuSans-105\"/>\n      <use x=\"91.259766\" xlink:href=\"#DejaVuSans-102\"/>\n      <use x=\"126.464844\" xlink:href=\"#DejaVuSans-102\"/>\n      <use x=\"161.669922\" xlink:href=\"#DejaVuSans-101\"/>\n      <use x=\"223.193359\" xlink:href=\"#DejaVuSans-114\"/>\n      <use x=\"264.275391\" xlink:href=\"#DejaVuSans-101\"/>\n      <use x=\"325.798828\" xlink:href=\"#DejaVuSans-110\"/>\n      <use x=\"389.177734\" xlink:href=\"#DejaVuSans-99\"/>\n      <use x=\"444.158203\" xlink:href=\"#DejaVuSans-101\"/>\n      <use x=\"505.681641\" xlink:href=\"#DejaVuSans-32\"/>\n      <use x=\"537.46875\" xlink:href=\"#DejaVuSans-102\"/>\n      <use x=\"572.673828\" xlink:href=\"#DejaVuSans-111\"/>\n      <use x=\"633.855469\" xlink:href=\"#DejaVuSans-114\"/>\n      <use x=\"674.96875\" xlink:href=\"#DejaVuSans-32\"/>\n      <use x=\"706.755859\" xlink:href=\"#DejaVuSans-78\"/>\n      <use x=\"781.560547\" xlink:href=\"#DejaVuSans-61\"/>\n      <use x=\"865.349609\" xlink:href=\"#DejaVuSans-54\"/>\n     </g>\n    </g>\n    <g id=\"line2d_66\">\n     <path d=\"M 51.1 96.837129 \nL 71.1 96.837129 \n\" style=\"fill:none;stroke:#8c564b;stroke-linecap:square;stroke-opacity:0.5;stroke-width:5;\"/>\n    </g>\n    <g id=\"line2d_67\"/>\n    <g id=\"text_17\">\n     <!-- difference for N=7 -->\n     <g transform=\"translate(79.1 100.337129)scale(0.1 -0.1)\">\n      <use xlink:href=\"#DejaVuSans-100\"/>\n      <use x=\"63.476562\" xlink:href=\"#DejaVuSans-105\"/>\n      <use x=\"91.259766\" xlink:href=\"#DejaVuSans-102\"/>\n      <use x=\"126.464844\" xlink:href=\"#DejaVuSans-102\"/>\n      <use x=\"161.669922\" xlink:href=\"#DejaVuSans-101\"/>\n      <use x=\"223.193359\" xlink:href=\"#DejaVuSans-114\"/>\n      <use x=\"264.275391\" xlink:href=\"#DejaVuSans-101\"/>\n      <use x=\"325.798828\" xlink:href=\"#DejaVuSans-110\"/>\n      <use x=\"389.177734\" xlink:href=\"#DejaVuSans-99\"/>\n      <use x=\"444.158203\" xlink:href=\"#DejaVuSans-101\"/>\n      <use x=\"505.681641\" xlink:href=\"#DejaVuSans-32\"/>\n      <use x=\"537.46875\" xlink:href=\"#DejaVuSans-102\"/>\n      <use x=\"572.673828\" xlink:href=\"#DejaVuSans-111\"/>\n      <use x=\"633.855469\" xlink:href=\"#DejaVuSans-114\"/>\n      <use x=\"674.96875\" xlink:href=\"#DejaVuSans-32\"/>\n      <use x=\"706.755859\" xlink:href=\"#DejaVuSans-78\"/>\n      <use x=\"781.560547\" xlink:href=\"#DejaVuSans-61\"/>\n      <use x=\"865.349609\" xlink:href=\"#DejaVuSans-55\"/>\n     </g>\n    </g>\n    <g id=\"line2d_68\">\n     <path d=\"M 51.1 111.515254 \nL 71.1 111.515254 \n\" style=\"fill:none;stroke:#e377c2;stroke-linecap:square;stroke-opacity:0.5;stroke-width:5;\"/>\n    </g>\n    <g id=\"line2d_69\"/>\n    <g id=\"text_18\">\n     <!-- difference for N=8 -->\n     <defs>\n      <path d=\"M 31.78125 34.625 \nQ 24.75 34.625 20.71875 30.859375 \nQ 16.703125 27.09375 16.703125 20.515625 \nQ 16.703125 13.921875 20.71875 10.15625 \nQ 24.75 6.390625 31.78125 6.390625 \nQ 38.8125 6.390625 42.859375 10.171875 \nQ 46.921875 13.96875 46.921875 20.515625 \nQ 46.921875 27.09375 42.890625 30.859375 \nQ 38.875 34.625 31.78125 34.625 \nz\nM 21.921875 38.8125 \nQ 15.578125 40.375 12.03125 44.71875 \nQ 8.5 49.078125 8.5 55.328125 \nQ 8.5 64.0625 14.71875 69.140625 \nQ 20.953125 74.21875 31.78125 74.21875 \nQ 42.671875 74.21875 48.875 69.140625 \nQ 55.078125 64.0625 55.078125 55.328125 \nQ 55.078125 49.078125 51.53125 44.71875 \nQ 48 40.375 41.703125 38.8125 \nQ 48.828125 37.15625 52.796875 32.3125 \nQ 56.78125 27.484375 56.78125 20.515625 \nQ 56.78125 9.90625 50.3125 4.234375 \nQ 43.84375 -1.421875 31.78125 -1.421875 \nQ 19.734375 -1.421875 13.25 4.234375 \nQ 6.78125 9.90625 6.78125 20.515625 \nQ 6.78125 27.484375 10.78125 32.3125 \nQ 14.796875 37.15625 21.921875 38.8125 \nz\nM 18.3125 54.390625 \nQ 18.3125 48.734375 21.84375 45.5625 \nQ 25.390625 42.390625 31.78125 42.390625 \nQ 38.140625 42.390625 41.71875 45.5625 \nQ 45.3125 48.734375 45.3125 54.390625 \nQ 45.3125 60.0625 41.71875 63.234375 \nQ 38.140625 66.40625 31.78125 66.40625 \nQ 25.390625 66.40625 21.84375 63.234375 \nQ 18.3125 60.0625 18.3125 54.390625 \nz\n\" id=\"DejaVuSans-56\"/>\n     </defs>\n     <g transform=\"translate(79.1 115.015254)scale(0.1 -0.1)\">\n      <use xlink:href=\"#DejaVuSans-100\"/>\n      <use x=\"63.476562\" xlink:href=\"#DejaVuSans-105\"/>\n      <use x=\"91.259766\" xlink:href=\"#DejaVuSans-102\"/>\n      <use x=\"126.464844\" xlink:href=\"#DejaVuSans-102\"/>\n      <use x=\"161.669922\" xlink:href=\"#DejaVuSans-101\"/>\n      <use x=\"223.193359\" xlink:href=\"#DejaVuSans-114\"/>\n      <use x=\"264.275391\" xlink:href=\"#DejaVuSans-101\"/>\n      <use x=\"325.798828\" xlink:href=\"#DejaVuSans-110\"/>\n      <use x=\"389.177734\" xlink:href=\"#DejaVuSans-99\"/>\n      <use x=\"444.158203\" xlink:href=\"#DejaVuSans-101\"/>\n      <use x=\"505.681641\" xlink:href=\"#DejaVuSans-32\"/>\n      <use x=\"537.46875\" xlink:href=\"#DejaVuSans-102\"/>\n      <use x=\"572.673828\" xlink:href=\"#DejaVuSans-111\"/>\n      <use x=\"633.855469\" xlink:href=\"#DejaVuSans-114\"/>\n      <use x=\"674.96875\" xlink:href=\"#DejaVuSans-32\"/>\n      <use x=\"706.755859\" xlink:href=\"#DejaVuSans-78\"/>\n      <use x=\"781.560547\" xlink:href=\"#DejaVuSans-61\"/>\n      <use x=\"865.349609\" xlink:href=\"#DejaVuSans-56\"/>\n     </g>\n    </g>\n    <g id=\"line2d_70\">\n     <path d=\"M 51.1 126.193379 \nL 71.1 126.193379 \n\" style=\"fill:none;stroke:#7f7f7f;stroke-linecap:square;stroke-opacity:0.5;stroke-width:5;\"/>\n    </g>\n    <g id=\"line2d_71\"/>\n    <g id=\"text_19\">\n     <!-- difference for N=9 -->\n     <g transform=\"translate(79.1 129.693379)scale(0.1 -0.1)\">\n      <use xlink:href=\"#DejaVuSans-100\"/>\n      <use x=\"63.476562\" xlink:href=\"#DejaVuSans-105\"/>\n      <use x=\"91.259766\" xlink:href=\"#DejaVuSans-102\"/>\n      <use x=\"126.464844\" xlink:href=\"#DejaVuSans-102\"/>\n      <use x=\"161.669922\" xlink:href=\"#DejaVuSans-101\"/>\n      <use x=\"223.193359\" xlink:href=\"#DejaVuSans-114\"/>\n      <use x=\"264.275391\" xlink:href=\"#DejaVuSans-101\"/>\n      <use x=\"325.798828\" xlink:href=\"#DejaVuSans-110\"/>\n      <use x=\"389.177734\" xlink:href=\"#DejaVuSans-99\"/>\n      <use x=\"444.158203\" xlink:href=\"#DejaVuSans-101\"/>\n      <use x=\"505.681641\" xlink:href=\"#DejaVuSans-32\"/>\n      <use x=\"537.46875\" xlink:href=\"#DejaVuSans-102\"/>\n      <use x=\"572.673828\" xlink:href=\"#DejaVuSans-111\"/>\n      <use x=\"633.855469\" xlink:href=\"#DejaVuSans-114\"/>\n      <use x=\"674.96875\" xlink:href=\"#DejaVuSans-32\"/>\n      <use x=\"706.755859\" xlink:href=\"#DejaVuSans-78\"/>\n      <use x=\"781.560547\" xlink:href=\"#DejaVuSans-61\"/>\n      <use x=\"865.349609\" xlink:href=\"#DejaVuSans-57\"/>\n     </g>\n    </g>\n    <g id=\"line2d_72\">\n     <path d=\"M 51.1 140.871504 \nL 71.1 140.871504 \n\" style=\"fill:none;stroke:#bcbd22;stroke-linecap:square;stroke-opacity:0.5;stroke-width:5;\"/>\n    </g>\n    <g id=\"line2d_73\"/>\n    <g id=\"text_20\">\n     <!-- difference for N=10 -->\n     <g transform=\"translate(79.1 144.371504)scale(0.1 -0.1)\">\n      <use xlink:href=\"#DejaVuSans-100\"/>\n      <use x=\"63.476562\" xlink:href=\"#DejaVuSans-105\"/>\n      <use x=\"91.259766\" xlink:href=\"#DejaVuSans-102\"/>\n      <use x=\"126.464844\" xlink:href=\"#DejaVuSans-102\"/>\n      <use x=\"161.669922\" xlink:href=\"#DejaVuSans-101\"/>\n      <use x=\"223.193359\" xlink:href=\"#DejaVuSans-114\"/>\n      <use x=\"264.275391\" xlink:href=\"#DejaVuSans-101\"/>\n      <use x=\"325.798828\" xlink:href=\"#DejaVuSans-110\"/>\n      <use x=\"389.177734\" xlink:href=\"#DejaVuSans-99\"/>\n      <use x=\"444.158203\" xlink:href=\"#DejaVuSans-101\"/>\n      <use x=\"505.681641\" xlink:href=\"#DejaVuSans-32\"/>\n      <use x=\"537.46875\" xlink:href=\"#DejaVuSans-102\"/>\n      <use x=\"572.673828\" xlink:href=\"#DejaVuSans-111\"/>\n      <use x=\"633.855469\" xlink:href=\"#DejaVuSans-114\"/>\n      <use x=\"674.96875\" xlink:href=\"#DejaVuSans-32\"/>\n      <use x=\"706.755859\" xlink:href=\"#DejaVuSans-78\"/>\n      <use x=\"781.560547\" xlink:href=\"#DejaVuSans-61\"/>\n      <use x=\"865.349609\" xlink:href=\"#DejaVuSans-49\"/>\n      <use x=\"928.972656\" xlink:href=\"#DejaVuSans-48\"/>\n     </g>\n    </g>\n    <g id=\"line2d_74\">\n     <path d=\"M 51.1 155.549629 \nL 71.1 155.549629 \n\" style=\"fill:none;stroke:#17becf;stroke-linecap:square;stroke-opacity:0.5;stroke-width:5;\"/>\n    </g>\n    <g id=\"line2d_75\"/>\n    <g id=\"text_21\">\n     <!-- difference for N=11 -->\n     <g transform=\"translate(79.1 159.049629)scale(0.1 -0.1)\">\n      <use xlink:href=\"#DejaVuSans-100\"/>\n      <use x=\"63.476562\" xlink:href=\"#DejaVuSans-105\"/>\n      <use x=\"91.259766\" xlink:href=\"#DejaVuSans-102\"/>\n      <use x=\"126.464844\" xlink:href=\"#DejaVuSans-102\"/>\n      <use x=\"161.669922\" xlink:href=\"#DejaVuSans-101\"/>\n      <use x=\"223.193359\" xlink:href=\"#DejaVuSans-114\"/>\n      <use x=\"264.275391\" xlink:href=\"#DejaVuSans-101\"/>\n      <use x=\"325.798828\" xlink:href=\"#DejaVuSans-110\"/>\n      <use x=\"389.177734\" xlink:href=\"#DejaVuSans-99\"/>\n      <use x=\"444.158203\" xlink:href=\"#DejaVuSans-101\"/>\n      <use x=\"505.681641\" xlink:href=\"#DejaVuSans-32\"/>\n      <use x=\"537.46875\" xlink:href=\"#DejaVuSans-102\"/>\n      <use x=\"572.673828\" xlink:href=\"#DejaVuSans-111\"/>\n      <use x=\"633.855469\" xlink:href=\"#DejaVuSans-114\"/>\n      <use x=\"674.96875\" xlink:href=\"#DejaVuSans-32\"/>\n      <use x=\"706.755859\" xlink:href=\"#DejaVuSans-78\"/>\n      <use x=\"781.560547\" xlink:href=\"#DejaVuSans-61\"/>\n      <use x=\"865.349609\" xlink:href=\"#DejaVuSans-49\"/>\n      <use x=\"928.972656\" xlink:href=\"#DejaVuSans-49\"/>\n     </g>\n    </g>\n    <g id=\"line2d_76\">\n     <path d=\"M 51.1 170.227754 \nL 71.1 170.227754 \n\" style=\"fill:none;stroke:#1f77b4;stroke-linecap:square;stroke-opacity:0.5;stroke-width:5;\"/>\n    </g>\n    <g id=\"line2d_77\"/>\n    <g id=\"text_22\">\n     <!-- difference for N=12 -->\n     <g transform=\"translate(79.1 173.727754)scale(0.1 -0.1)\">\n      <use xlink:href=\"#DejaVuSans-100\"/>\n      <use x=\"63.476562\" xlink:href=\"#DejaVuSans-105\"/>\n      <use x=\"91.259766\" xlink:href=\"#DejaVuSans-102\"/>\n      <use x=\"126.464844\" xlink:href=\"#DejaVuSans-102\"/>\n      <use x=\"161.669922\" xlink:href=\"#DejaVuSans-101\"/>\n      <use x=\"223.193359\" xlink:href=\"#DejaVuSans-114\"/>\n      <use x=\"264.275391\" xlink:href=\"#DejaVuSans-101\"/>\n      <use x=\"325.798828\" xlink:href=\"#DejaVuSans-110\"/>\n      <use x=\"389.177734\" xlink:href=\"#DejaVuSans-99\"/>\n      <use x=\"444.158203\" xlink:href=\"#DejaVuSans-101\"/>\n      <use x=\"505.681641\" xlink:href=\"#DejaVuSans-32\"/>\n      <use x=\"537.46875\" xlink:href=\"#DejaVuSans-102\"/>\n      <use x=\"572.673828\" xlink:href=\"#DejaVuSans-111\"/>\n      <use x=\"633.855469\" xlink:href=\"#DejaVuSans-114\"/>\n      <use x=\"674.96875\" xlink:href=\"#DejaVuSans-32\"/>\n      <use x=\"706.755859\" xlink:href=\"#DejaVuSans-78\"/>\n      <use x=\"781.560547\" xlink:href=\"#DejaVuSans-61\"/>\n      <use x=\"865.349609\" xlink:href=\"#DejaVuSans-49\"/>\n      <use x=\"928.972656\" xlink:href=\"#DejaVuSans-50\"/>\n     </g>\n    </g>\n    <g id=\"line2d_78\">\n     <path d=\"M 51.1 184.905879 \nL 71.1 184.905879 \n\" style=\"fill:none;stroke:#ff7f0e;stroke-linecap:square;stroke-opacity:0.5;stroke-width:5;\"/>\n    </g>\n    <g id=\"line2d_79\"/>\n    <g id=\"text_23\">\n     <!-- difference for N=13 -->\n     <g transform=\"translate(79.1 188.405879)scale(0.1 -0.1)\">\n      <use xlink:href=\"#DejaVuSans-100\"/>\n      <use x=\"63.476562\" xlink:href=\"#DejaVuSans-105\"/>\n      <use x=\"91.259766\" xlink:href=\"#DejaVuSans-102\"/>\n      <use x=\"126.464844\" xlink:href=\"#DejaVuSans-102\"/>\n      <use x=\"161.669922\" xlink:href=\"#DejaVuSans-101\"/>\n      <use x=\"223.193359\" xlink:href=\"#DejaVuSans-114\"/>\n      <use x=\"264.275391\" xlink:href=\"#DejaVuSans-101\"/>\n      <use x=\"325.798828\" xlink:href=\"#DejaVuSans-110\"/>\n      <use x=\"389.177734\" xlink:href=\"#DejaVuSans-99\"/>\n      <use x=\"444.158203\" xlink:href=\"#DejaVuSans-101\"/>\n      <use x=\"505.681641\" xlink:href=\"#DejaVuSans-32\"/>\n      <use x=\"537.46875\" xlink:href=\"#DejaVuSans-102\"/>\n      <use x=\"572.673828\" xlink:href=\"#DejaVuSans-111\"/>\n      <use x=\"633.855469\" xlink:href=\"#DejaVuSans-114\"/>\n      <use x=\"674.96875\" xlink:href=\"#DejaVuSans-32\"/>\n      <use x=\"706.755859\" xlink:href=\"#DejaVuSans-78\"/>\n      <use x=\"781.560547\" xlink:href=\"#DejaVuSans-61\"/>\n      <use x=\"865.349609\" xlink:href=\"#DejaVuSans-49\"/>\n      <use x=\"928.972656\" xlink:href=\"#DejaVuSans-51\"/>\n     </g>\n    </g>\n    <g id=\"line2d_80\">\n     <path d=\"M 51.1 199.584004 \nL 71.1 199.584004 \n\" style=\"fill:none;stroke:#2ca02c;stroke-linecap:square;stroke-opacity:0.5;stroke-width:5;\"/>\n    </g>\n    <g id=\"line2d_81\"/>\n    <g id=\"text_24\">\n     <!-- difference for N=14 -->\n     <g transform=\"translate(79.1 203.084004)scale(0.1 -0.1)\">\n      <use xlink:href=\"#DejaVuSans-100\"/>\n      <use x=\"63.476562\" xlink:href=\"#DejaVuSans-105\"/>\n      <use x=\"91.259766\" xlink:href=\"#DejaVuSans-102\"/>\n      <use x=\"126.464844\" xlink:href=\"#DejaVuSans-102\"/>\n      <use x=\"161.669922\" xlink:href=\"#DejaVuSans-101\"/>\n      <use x=\"223.193359\" xlink:href=\"#DejaVuSans-114\"/>\n      <use x=\"264.275391\" xlink:href=\"#DejaVuSans-101\"/>\n      <use x=\"325.798828\" xlink:href=\"#DejaVuSans-110\"/>\n      <use x=\"389.177734\" xlink:href=\"#DejaVuSans-99\"/>\n      <use x=\"444.158203\" xlink:href=\"#DejaVuSans-101\"/>\n      <use x=\"505.681641\" xlink:href=\"#DejaVuSans-32\"/>\n      <use x=\"537.46875\" xlink:href=\"#DejaVuSans-102\"/>\n      <use x=\"572.673828\" xlink:href=\"#DejaVuSans-111\"/>\n      <use x=\"633.855469\" xlink:href=\"#DejaVuSans-114\"/>\n      <use x=\"674.96875\" xlink:href=\"#DejaVuSans-32\"/>\n      <use x=\"706.755859\" xlink:href=\"#DejaVuSans-78\"/>\n      <use x=\"781.560547\" xlink:href=\"#DejaVuSans-61\"/>\n      <use x=\"865.349609\" xlink:href=\"#DejaVuSans-49\"/>\n      <use x=\"928.972656\" xlink:href=\"#DejaVuSans-52\"/>\n     </g>\n    </g>\n   </g>\n  </g>\n </g>\n <defs>\n  <clipPath id=\"p4e5de8c7ba\">\n   <rect height=\"434.88\" width=\"446.4\" x=\"42.1\" y=\"10.348067\"/>\n  </clipPath>\n </defs>\n</svg>\n",
      "image/png": "[encoded data removed]"
     },
     "metadata": {
      "needs_background": "light"
     }
    }
   ],
   "source": [
    "xx = np.linspace(0, 1, 51)\n",
    "plt.figure(figsize=(8,8)) \n",
    "\n",
    "\n",
    "\n",
    "for N in range(2,15):\n",
    "    x, y = solve_e1(N)\n",
    "    plt.loglog(x, np.abs(np.sin(np.pi*x) + 2./np.pi-y), '-', lw=5, alpha=0.5, label='difference for N=' + str(N))\n",
    "    \n",
    "plt.legend(loc='best')\n",
    "plt.grid()"
   ]
  },
  {
   "cell_type": "markdown",
   "metadata": {},
   "source": [
    "We can see that we can begin from N = 8."
   ]
  },
  {
   "cell_type": "markdown",
   "metadata": {},
   "source": [
    "### Задание 2.2\n",
    "\n",
    "Очевидной проблемой предыдущего результата для $f(x)$ является то, что он возвращает решения на фиксированном наборе точек. Мы не контролируем их точное расположение.\n",
    "\n",
    "1. Для начала, попробуйте интерполировать значения, полученные в предыдущем пункте на равномерной сетке длиной 50. Можете использовать любой метод интерполяции. Сравните интерполяцию с точным значением."
   ]
  },
  {
   "cell_type": "code",
   "execution_count": 34,
   "metadata": {},
   "outputs": [
    {
     "output_type": "error",
     "ename": "SyntaxError",
     "evalue": "invalid syntax (<ipython-input-34-f2bd8ce43e46>, line 14)",
     "traceback": [
      "\u001b[0;36m  File \u001b[0;32m\"<ipython-input-34-f2bd8ce43e46>\"\u001b[0;36m, line \u001b[0;32m14\u001b[0m\n\u001b[0;31m    x_ = np.linspace(np.pi/2, np.pi, 10**3)x_ = np.linspace(np.pi/2, np.pi, 10**3)\u001b[0m\n\u001b[0m                                            ^\u001b[0m\n\u001b[0;31mSyntaxError\u001b[0m\u001b[0;31m:\u001b[0m invalid syntax\n"
     ]
    }
   ],
   "source": [
    "def l_pol(x, x0, y0, m):\n",
    "    l = np.ones_like(x)\n",
    "    for j in range(x0.shape[0]):\n",
    "        if (j != m):\n",
    "            l *= (x-x0[j])/(x0[m]-x0[j])\n",
    "    return l\n",
    "def L_pol(x,x0,y0):\n",
    "    L=0\n",
    "    i = 0\n",
    "    for i in range(x0.shape[0]):\n",
    "        L += y0[i]*l_pol(x,x0,y0,i)\n",
    "    return L\n",
    "\n",
    "x_ = np.linspace(np.pi/2, np.pi, 10**3)x_ = np.linspace(np.pi/2, np.pi, 10**3)\n",
    "x1, y1 = solve_e1(50)\n",
    "plt.plot(x_, L_pol(x_,x1,y1), label = 'Polymonial '+ str(m-1))"
   ]
  },
  {
   "cell_type": "markdown",
   "metadata": {},
   "source": [
    "2. Теперь используйте следующую формулу, чтобы вычислить значение функции на той же равномерной сетке.\n",
    "\n",
    "$$\n",
    "f(x) = g(x) + \\lambda \\sum_j^N w_j\\, K(x, t_j)\\, f(t_j)\n",
    "$$\n",
    "\n",
    "Сравните эту интерполяцию с точным значением, а также с прямым интерполяционным методом.\n",
    "\n",
    "(20% итогой оценки)"
   ]
  },
  {
   "cell_type": "code",
   "execution_count": null,
   "metadata": {},
   "outputs": [],
   "source": [
    "### Напишите код здесь"
   ]
  }
 ],
 "metadata": {
  "kernelspec": {
   "display_name": "Python 3.7.4 64-bit ('base': conda)",
   "language": "python",
   "name": "python37464bitbaseconda8554b98a659b499ab056206ae7f8b3f7"
  },
  "language_info": {
   "codemirror_mode": {
    "name": "ipython",
    "version": 3
   },
   "file_extension": ".py",
   "mimetype": "text/x-python",
   "name": "python",
   "nbconvert_exporter": "python",
   "pygments_lexer": "ipython3",
   "version": "3.7.4-final"
  }
 },
 "nbformat": 4,
 "nbformat_minor": 4
}