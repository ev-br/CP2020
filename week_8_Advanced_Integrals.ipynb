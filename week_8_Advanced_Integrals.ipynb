{
 "cells": [
  {
   "cell_type": "markdown",
   "metadata": {},
   "source": [
    "## Часть 1. Гауссовы квадратуры\n",
    "\n",
    "Метод Гауссовых квадратур является одним из методов численного интегрирования, который позволяет увеличить точность интегрирования, используя ортогональные полиномы и их корни в качестве узлов.\n",
    "\n",
    "$$\n",
    "\\int_a^b \\!  w(x)\\, f(x)\\, dx \\approx \\sum_{k=1}^n w_k \\, f(x_k) \\;,\n",
    "$$\n",
    "\n",
    "здесь $\\omega$ - функция весов, которая определят базис ортогональных полиномов, чьи корни используются в качестве узлов интегрирования. Если функция $f(x)$ является полиномом, тогда такой метод интегрирования даст *точное* решение интеграла."
   ]
  },
  {
   "cell_type": "markdown",
   "metadata": {},
   "source": [
    "For example, let's calculate the following integral:\n",
    "$$\n",
    "\\int_{-1}^1 (7x^3 - 8 x^2 - 3 x + 3) dx  \n",
    "$$\n",
    "\n",
    "Here function is already polynomial, so we put the weight function $\\omega(x) = 1$. Then the calculation of the integral reduces to the sum in the polynomials roots witch corresponding to the weight function $\\omega(x) = 1$. For example, here https://dlmf.nist.gov/18.3 you may see which basis of polynomials corresponds to your weight function.\n",
    "\n",
    "You may see, that Legendre polynomials correspond to our weight function. Now go to the documentation https://docs.scipy.org/doc/scipy/reference/special.html#orthogonal-polynomials. Here, the function *roots_legendre* immediately gives you the roots of the Legendre polynomial and weight at this roots (for Legendre polynomials all these weight are ones)."
   ]
  },
  {
   "cell_type": "markdown",
   "metadata": {},
   "source": [
    "###  Задание 1.1"
   ]
  },
  {
   "cell_type": "markdown",
   "metadata": {},
   "source": [
    "1. Посчитайте точное значение интеграла ([1](#mjx-eqn-eq1)) \"руками\". Вспомните этот результат, когда будете сравнивать с численным решением."
   ]
  },
  {
   "cell_type": "markdown",
   "metadata": {},
   "source": [
    "$$\n",
    "\\int_{-1}^1 (7x^3 - 8 x^2 - 3 x + 3) dx  = \\int_{-1}^1 (- 8 x^2 + 3)dx = -8 \\frac{x^3}{3}|_{-1}^{1} + 3x|_{-1}^{1} = \\frac{2}{3}\n",
    "$$"
   ]
  },
  {
   "cell_type": "markdown",
   "metadata": {},
   "source": [
    "2. Посчитайте значение интеграла ([1](#mjx-eqn-eq1)), используя обычный метод интегрирования на равномерной сетке (например, написанный вами в week_6_calculus). Оцените количество узлов, необходимых для достижения относительной точности $10^{-10}$."
   ]
  },
  {
   "cell_type": "code",
   "execution_count": 9,
   "metadata": {},
   "outputs": [
    {
     "output_type": "stream",
     "name": "stdout",
     "text": "0.6666666667 -- numerical value, 1048576 -- number of nodes\n"
    }
   ],
   "source": [
    "from math import log\n",
    "import numpy as np\n",
    "from matplotlib import pyplot as plt\n",
    "\n",
    "def midpoint_rule(func, a, b, eps):\n",
    "    I_n = np.array([(b-a)*func((a+b)/2)])\n",
    "    n = 2\n",
    "    while True:\n",
    "        x_n = np.linspace(a,b,n+1)\n",
    "        h = np.array([])\n",
    "        Q = np.zeros(n)\n",
    "        i = 0\n",
    "        h = x_n[1]-x_n[0]\n",
    "        while i < n:\n",
    "            Q[i]= h*func((x_n[i+1]+x_n[i])/2)\n",
    "            i += 1 \n",
    "        I = np.sum(Q)\n",
    "        I_n = np.append(I_n,I)\n",
    "        if np.abs(I_n[int(np.log2(n))-1]-I_n[int(np.log2(n/2))-1])< eps:\n",
    "            break\n",
    "        n *= 2\n",
    "    return round(I_n[int(np.log2(n/2))-1],-int(np.log10(eps))), I_n, I_n.shape[0]\n",
    "\n",
    "def int_f(x):\n",
    "    return 7*x**3-8*x**2-3*x+3\n",
    "\n",
    "print(midpoint_rule(int_f,-1,1,1e-10)[0],\"-- numerical value,\",2**(midpoint_rule(int_f,-1,1,1e-10)[2]-1),\"-- number of nodes\")"
   ]
  },
  {
   "cell_type": "markdown",
   "metadata": {},
   "source": [
    "3. Посчитайте значение интеграла ([1](#mjx-eqn-eq1)), используя корни полинома Лежандра степени от 1 до 6 в качестве узлов (чтобы получить корни и веса используйте scipy.special.roots_legendre)"
   ]
  },
  {
   "cell_type": "code",
   "execution_count": 10,
   "metadata": {},
   "outputs": [
    {
     "output_type": "stream",
     "name": "stdout",
     "text": "[6.         0.66666667 0.66666667 0.66666667 0.66666667 0.66666667]\n"
    }
   ],
   "source": [
    "from scipy.special import roots_legendre, roots_chebyt\n",
    "\n",
    "integ = np.array([])\n",
    "for j in range(1,7):\n",
    "    nodes, weights = roots_legendre(j)\n",
    "    integ=np.append(integ, (int_f(nodes) * weights).sum())\n",
    "print(integ)"
   ]
  },
  {
   "cell_type": "markdown",
   "metadata": {},
   "source": [
    "Сравните количество узлов, необходимых для достижения одинаковой точности в обоих чисенных методах.\n",
    "\n",
    "(20% итоговой оценки)"
   ]
  },
  {
   "cell_type": "code",
   "execution_count": 11,
   "metadata": {},
   "outputs": [
    {
     "output_type": "stream",
     "name": "stdout",
     "text": "0.66666667 -- numerical value, 131072 -- number of nodes Midpoint for eps = 1e-8\n2 -- number of Legendre nodes for eps = 1e-8\n"
    }
   ],
   "source": [
    "print(midpoint_rule(int_f,-1,1,1e-8)[0],\"-- numerical value,\",2**(midpoint_rule(int_f,-1,1,1e-8)[2]-1),\"-- number of nodes Midpoint for eps = 1e-8\")\n",
    "print(2,\"-- number of Legendre nodes for eps = 1e-8\")"
   ]
  },
  {
   "cell_type": "markdown",
   "metadata": {},
   "source": [
    "###  Задание 1.2\n",
    "\n",
    "Вычислите значение того же интеграла, но на интервале от 0 до 10.\n",
    "\n",
    "$$\n",
    "\\int_{0}^{10} (7x^3 - 8 x^2 - 3 x + 3) dx \n",
    "$$\n",
    "\n",
    "Заметим, что больше нельзя использовать полиномы Лежанда, потому что они определены на интервале (-1, 1). Однако всегда можно произвести *аффинное преобразование* (преобразование не меняет область интегрирования) для того, чтобы перейти к желаемой системе координат.\n",
    "\n",
    "(20% итоговой оценки)"
   ]
  },
  {
   "cell_type": "markdown",
   "metadata": {},
   "source": [
    "$$\n",
    "I = \\int_{0}^{10} (7x^3 - 8 x^2 - 3 x + 3) dx, \\; \\xi = \\frac{x}{5}-1, \\; I=5\\int_{-1}^{1} (7(5\\xi+5)^3 - 8 (5\\xi+5)^2 - 3 (5\\xi+5) + 3) d\\xi\n",
    "$$"
   ]
  },
  {
   "cell_type": "code",
   "execution_count": 12,
   "metadata": {},
   "outputs": [
    {
     "output_type": "stream",
     "name": "stdout",
     "text": "14713.333333333336\n1.8189894035458565e-12\n"
    }
   ],
   "source": [
    "def int_f2(x):\n",
    "    return 7*(5*x+5)**3-8*(5*x+5)**2-3*(5*x+5)+3\n",
    "\n",
    "nodes2, weights2 = roots_legendre(2)\n",
    "integ1 = (int_f2(nodes2) * weights2).sum()\n",
    "\n",
    "print(5*integ1)\n",
    "print(np.abs(44140/3-5*integ1)) #comparing with analytical value"
   ]
  },
  {
   "cell_type": "markdown",
   "metadata": {},
   "source": [
    "Сравните результат с точным значением интеграла."
   ]
  },
  {
   "cell_type": "markdown",
   "metadata": {},
   "source": [
    "### Задание 1.3\n",
    "\n",
    "Вычислите значение следующиего интеграла:\n",
    "$$\n",
    "\\int_{0}^{2\\pi} \\frac{cos(x) dx }{\\sqrt{4\\pi^2 - x^2}} \n",
    "$$\n",
    "используя соответствующий базис ортогональных полиномов.\n",
    "Найдите степень полинома (количество узлов), при которой точность превысит ошибку плавающей точки.\n",
    "\n",
    "(20% итоговой оценки)"
   ]
  },
  {
   "cell_type": "markdown",
   "metadata": {},
   "source": [
    "$$\n",
    "\\int_{0}^{1} \\frac{cos(2\\pi x) dx }{\\sqrt{1 - x^2}} = \\frac{1}{2}\\int_{-1}^{1} \\frac{cos(2\\pi x) dx }{\\sqrt{1 - x^2}}\n",
    "$$\n",
    "I will use Chebyshev Polynomials of First Kind."
   ]
  },
  {
   "cell_type": "code",
   "execution_count": 13,
   "metadata": {},
   "outputs": [
    {
     "output_type": "stream",
     "name": "stdout",
     "text": "0.6920203176245284\n"
    }
   ],
   "source": [
    "def func1(x):\n",
    "    return np.cos(2*np.pi*x)\n",
    "\n",
    "\n",
    "integr = np.array([])\n",
    "for j in range(1,120):\n",
    "    nodes3, weights3 = roots_chebyt(j)\n",
    "    integr=np.append(integr, (func1(nodes3) * weights3).sum())\n",
    "print(integr[j-1])"
   ]
  },
  {
   "cell_type": "markdown",
   "metadata": {},
   "source": [
    "## Часть 2. Уравение Фредгольма\n",
    "\n",
    "Существует два типа уравнений Фредгольма: \n",
    "\n",
    "1. Уравение Фредгольма первого рода:\n",
    "$$\n",
    "\\int_a^b \\! K(x, t)\\, \\color{blue}{f(t)} \\,dt = g(x)\n",
    "$$\n",
    "\n",
    "2. Уравнение Фредгольма второго рода:\n",
    "$$\n",
    "\\lambda \\int_a^b\\! K(x, t)\\, \\color{blue}{f(t)} \\, dt + g(x) = \\color{blue}{f(x)}\n",
    "$$\n",
    "\n",
    "Здесь функция $f(x)$ неизвестна, $K(x, t)$ - ядро уравнения, заданная функция $g(x)$ и $\\lambda$ - рациональное число.\n",
    "С точки зрения вычислений, уравение Фредгольма первого рода крайне неустойчиво. Далее мы рассмотрим только уравнение второго рода."
   ]
  },
  {
   "cell_type": "markdown",
   "metadata": {},
   "source": [
    "Основная идея - аппроксимировать интеграл некой квадратурной формулой\n",
    "\n",
    "$$\n",
    "\\int_a^b \\! \\xi(t)\\, dt \\approx \\sum_j^N w_j\\, \\xi(t_j)\n",
    "$$\n",
    "\n",
    "с подходящими весами $w_j$ и узлами $t_j$, $j=1, \\dots, N$. Точность аппроксимации контролируется $N$."
   ]
  },
  {
   "cell_type": "markdown",
   "metadata": {},
   "source": [
    "Таким образом, уравнение Фредгольма приближается следующим образом:\n",
    "\n",
    "$$\n",
    "\\lambda \\sum_j w_j\\, K(x, t_j)\\, \\color{blue}{f(t_j)} + g(x) = \\color{blue}{f(x)}\n",
    "$$\n",
    "\n",
    "Отметим, что $x$ - непрерывная переменная, в то время, как $t$ - дискретная."
   ]
  },
  {
   "cell_type": "markdown",
   "metadata": {},
   "source": [
    "Оценивая данное уравнение на сетке $x = t_k$, получаем\n",
    "\n",
    "$$\n",
    "\\lambda \\sum_j w_j \\, K_{k, j}\\, \\color{blue}{f_j} + g_k = \\color{blue}{f_k}\n",
    "$$\n",
    "\n",
    "где $f_j \\equiv f(t_j)$, $g_j \\equiv g(t_j)$ and $K_{k, j} \\equiv K(t_k, t_j)$. Это ничто иное, как система линейных алгебраических уравнений на вектор $\\color{blue}{f_j}$.\n",
    "\n",
    "Ее решение выдает значение неизвестной функции $f(x)$ в дискретных точках $x=t_j$ для $j=1, \\dots, N$."
   ]
  },
  {
   "cell_type": "markdown",
   "metadata": {},
   "source": [
    "### Задание 2.1\n",
    "\n",
    "Решите предложенное уравнение Фредгольма второго рода\n",
    "\n",
    "$$\n",
    "f(x) = \\sin(\\pi x)  + \\frac{1}{2} \\int_0^1\\! f(t) \\, dt\n",
    "$$\n",
    "\n",
    "Здесь $a, b = 0, 1$, $\\lambda = \\dfrac{1}{2}$, ядро $K(x, t) = 1$ и правая часть - $g(x) = \\sin(\\pi x)$.\n",
    "\n",
    "Точное решение (Сборник задач по интегральным уравнениям, 2006, стр. 5):\n",
    "\n",
    "$$\n",
    "f(x) = \\sin(\\pi x) + \\frac{2}{\\pi}\n",
    "$$"
   ]
  },
  {
   "cell_type": "markdown",
   "metadata": {},
   "source": [
    "Для нахождения интеграла воспользуйтесь Гауссовой квадратурой с весовой функцией $w(x) = 1$ на $(0, 1)$. Посмотрите на http://dlmf.nist.gov/18.3, и найдите соответствующую функцию в *scipy.special* (обратите внимание на область интегрирования).\n",
    "\n",
    "Сравните полученные значения функции с точным решением для разных значений $N$. На каком $N$ можно остановиться?\n",
    "\n",
    "(20% итоговой оценки)"
   ]
  },
  {
   "cell_type": "code",
   "execution_count": null,
   "metadata": {},
   "outputs": [],
   "source": [
    "### Напишите код здесь"
   ]
  },
  {
   "cell_type": "markdown",
   "metadata": {},
   "source": [
    "### Задание 2.2\n",
    "\n",
    "Очевидной проблемой предыдущего результата для $f(x)$ является то, что он возвращает решения на фиксированном наборе точек. Мы не контролируем их точное расположение.\n",
    "\n",
    "1. Для начала, попробуйте интерполировать значения, полученные в предыдущем пункте на равномерной сетке длиной 50. Можете использовать любой метод интерполяции. Сравните интерполяцию с точным значением."
   ]
  },
  {
   "cell_type": "code",
   "execution_count": null,
   "metadata": {},
   "outputs": [],
   "source": [
    "### Напишите код здесь"
   ]
  },
  {
   "cell_type": "markdown",
   "metadata": {},
   "source": [
    "2. Теперь используйте следующую формулу, чтобы вычислить значение функции на той же равномерной сетке.\n",
    "\n",
    "$$\n",
    "f(x) = g(x) + \\lambda \\sum_j^N w_j\\, K(x, t_j)\\, f(t_j)\n",
    "$$\n",
    "\n",
    "Сравните эту интерполяцию с точным значением, а также с прямым интерполяционным методом.\n",
    "\n",
    "(20% итогой оценки)"
   ]
  },
  {
   "cell_type": "code",
   "execution_count": null,
   "metadata": {},
   "outputs": [],
   "source": [
    "### Напишите код здесь"
   ]
  }
 ],
 "metadata": {
  "kernelspec": {
   "display_name": "Python 3.7.4 64-bit ('base': conda)",
   "language": "python",
   "name": "python37464bitbaseconda8554b98a659b499ab056206ae7f8b3f7"
  },
  "language_info": {
   "codemirror_mode": {
    "name": "ipython",
    "version": 3
   },
   "file_extension": ".py",
   "mimetype": "text/x-python",
   "name": "python",
   "nbconvert_exporter": "python",
   "pygments_lexer": "ipython3",
   "version": "3.7.4-final"
  }
 },
 "nbformat": 4,
 "nbformat_minor": 4
}