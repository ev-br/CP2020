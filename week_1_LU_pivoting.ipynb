{
 "cells": [
  {
   "cell_type": "markdown",
   "execution_count": null,
   "metadata": {},
   "outputs": [],
   "source": [
    "# I. $LU$ factorization of a square matrix"
   ]
  },
  {
   "cell_type": "markdown",
   "execution_count": null,
   "metadata": {},
   "outputs": [],
   "source": [
    "Consider a simple naive implementation of the LU decomposition. \n",
    "\n",
    "Note that we're using the `numpy` arrays to represent matrices [do **not** use `np.matrix`]."
   ]
  },
  {
   "cell_type": "code",
   "execution_count": 128,
   "metadata": {},
   "outputs": [],
   "source": [
    "import numpy as np\n",
    "\n",
    "def diy_lu(a):\n",
    "    \"\"\"Construct the LU decomposition of the input matrix.\n",
    "    \n",
    "    Naive LU decomposition: work column by column, accumulate elementary triangular matrices.\n",
    "    No pivoting.\n",
    "    \"\"\"\n",
    "    N = a.shape[0]\n",
    "    \n",
    "    u = a.copy()\n",
    "    L = np.eye(N)\n",
    "    for j in range(N-1):\n",
    "        lam = np.eye(N)\n",
    "        gamma = u[j+1:, j] / u[j, j]\n",
    "        lam[j+1:, j] = -gamma\n",
    "        u = lam @ u\n",
    "\n",
    "        lam[j+1:, j] = gamma\n",
    "        L = L @ lam\n",
    "    return L, u"
   ]
  },
  {
   "cell_type": "code",
   "execution_count": 129,
   "metadata": {},
   "outputs": [
    {
     "name": "stdout",
     "output_type": "stream",
     "text": "[[3.    3.    3.    3.    3.    3.   ]\n [3.    1.875 1.364 1.071 0.882 0.75 ]\n [3.    1.364 0.882 0.652 0.517 0.429]\n [3.    1.071 0.652 0.469 0.366 0.3  ]\n [3.    0.882 0.517 0.366 0.283 0.231]\n [3.    0.75  0.429 0.3   0.231 0.188]]\n"
    },
    {
     "data": {
      "text/plain": "6"
     },
     "execution_count": 129,
     "metadata": {},
     "output_type": "execute_result"
    }
   ],
   "source": [
    "# Now, generate a full rank matrix and test the naive implementation\n",
    "\n",
    "import numpy as np\n",
    "\n",
    "N = 6\n",
    "a = np.zeros((N, N), dtype=float)\n",
    "for i in range(N):\n",
    "    for j in range(N):\n",
    "        a[i, j] = 3. / (0.6*i*j + 1)\n",
    "print(a)\n",
    "\n",
    "np.linalg.matrix_rank(a)"
   ]
  },
  {
   "cell_type": "code",
   "execution_count": 130,
   "metadata": {},
   "outputs": [],
   "source": [
    "# Tweak the printing of floating-point numbers, for clarity\n",
    "np.set_printoptions(precision=3)"
   ]
  },
  {
   "cell_type": "code",
   "execution_count": 131,
   "metadata": {},
   "outputs": [
    {
     "name": "stdout",
     "output_type": "stream",
     "text": "[[1.    0.    0.    0.    0.    0.   ]\n [1.    1.    0.    0.    0.    0.   ]\n [1.    1.455 1.    0.    0.    0.   ]\n [1.    1.714 1.742 1.    0.    0.   ]\n [1.    1.882 2.276 2.039 1.    0.   ]\n [1.    2.    2.671 2.944 2.354 1.   ]] \n\n[[ 3.000e+00  3.000e+00  3.000e+00  3.000e+00  3.000e+00  3.000e+00]\n [ 0.000e+00 -1.125e+00 -1.636e+00 -1.929e+00 -2.118e+00 -2.250e+00]\n [ 0.000e+00  0.000e+00  2.625e-01  4.574e-01  5.975e-01  7.013e-01]\n [ 0.000e+00  1.110e-16  0.000e+00 -2.197e-02 -4.480e-02 -6.469e-02]\n [ 0.000e+00 -2.819e-16  0.000e+00  0.000e+00  8.080e-04  1.902e-03]\n [ 0.000e+00  3.369e-16  0.000e+00 -1.541e-18  2.168e-19 -1.585e-05]] \n\n[[ 0.000e+00  0.000e+00  0.000e+00  0.000e+00  0.000e+00  0.000e+00]\n [ 0.000e+00  0.000e+00  0.000e+00  0.000e+00  0.000e+00  0.000e+00]\n [ 0.000e+00  0.000e+00  0.000e+00  2.220e-16 -1.110e-16 -1.665e-16]\n [ 0.000e+00  0.000e+00  2.220e-16 -5.551e-17 -1.665e-16 -1.665e-16]\n [ 0.000e+00  0.000e+00 -1.110e-16  2.776e-16 -2.776e-16  5.551e-17]\n [ 0.000e+00  0.000e+00 -1.665e-16 -1.665e-16  5.551e-17  0.000e+00]]\n"
    }
   ],
   "source": [
    "L, u = diy_lu(a)\n",
    "\n",
    "print(L, \"\\n\")\n",
    "print(u, \"\\n\")\n",
    "\n",
    "# Quick sanity check: L times U must equal the original matrix, up to floating-point errors.\n",
    "print(L@u - a)"
   ]
  },
  {
   "cell_type": "markdown",
   "execution_count": null,
   "metadata": {},
   "outputs": [],
   "source": [
    "# II. The need for pivoting"
   ]
  },
  {
   "cell_type": "markdown",
   "execution_count": null,
   "metadata": {},
   "outputs": [],
   "source": [
    "Let's tweak the matrix a little bit, we only change a single element:"
   ]
  },
  {
   "cell_type": "code",
   "execution_count": 132,
   "metadata": {},
   "outputs": [
    {
     "name": "stdout",
     "output_type": "stream",
     "text": "[[3.    3.    3.    3.    3.    3.   ]\n [3.    3.    1.364 1.071 0.882 0.75 ]\n [3.    1.364 0.882 0.652 0.517 0.429]\n [3.    1.071 0.652 0.469 0.366 0.3  ]\n [3.    0.882 0.517 0.366 0.283 0.231]\n [3.    0.75  0.429 0.3   0.231 0.188]]\n"
    }
   ],
   "source": [
    "a1 = a.copy()\n",
    "a1[1, 1] = 3\n",
    "print(a1)"
   ]
  },
  {
   "cell_type": "markdown",
   "execution_count": null,
   "metadata": {},
   "outputs": [],
   "source": [
    "Resulting matix still has full rank, but the naive LU routine breaks down."
   ]
  },
  {
   "cell_type": "code",
   "execution_count": 133,
   "metadata": {},
   "outputs": [
    {
     "data": {
      "text/plain": "6"
     },
     "execution_count": 133,
     "metadata": {},
     "output_type": "execute_result"
    }
   ],
   "source": [
    "np.linalg.matrix_rank(a1)"
   ]
  },
  {
   "cell_type": "code",
   "execution_count": 134,
   "metadata": {},
   "outputs": [
    {
     "name": "stdout",
     "output_type": "stream",
     "text": "[[nan nan nan nan nan nan]\n [nan nan nan nan nan nan]\n [nan nan nan nan nan nan]\n [nan nan nan nan nan nan]\n [nan nan nan nan nan nan]\n [nan nan nan nan nan nan]] [[nan nan nan nan nan nan]\n [nan nan nan nan nan nan]\n [nan nan nan nan nan nan]\n [nan nan nan nan nan nan]\n [nan nan nan nan nan nan]\n [nan nan nan nan nan nan]]\n"
    }
   ],
   "source": [
    "l, u = diy_lu(a1)\n",
    "\n",
    "print(l, u)"
   ]
  },
  {
   "cell_type": "markdown",
   "execution_count": null,
   "metadata": {},
   "outputs": [],
   "source": [
    "### Test II.1\n",
    "\n",
    "For a naive LU decomposition to work, all leading minors of a matrix should be non-zero. Check if this requirement is satisfied for the two matrices `a` and `a1`.\n",
    "\n",
    "(20% of the grade)"
   ]
  },
  {
   "cell_type": "code",
   "execution_count": 135,
   "metadata": {},
   "outputs": [
    {
     "name": "stdout",
     "output_type": "stream",
     "text": "(True, False)\n"
    }
   ],
   "source": [
    "def minor_check(b):\n",
    "    n = b.shape[0]\n",
    "    for i in range(n, 1, -1):\n",
    "        det = np.linalg.det(b)\n",
    "        if det ==  0:\n",
    "            k = False\n",
    "            break\n",
    "        else : \n",
    "            k = True\n",
    "        b = b[:(i-1),:(i-1)]\n",
    "    return k\n",
    "l = minor_check(a), minor_check(a1)\n",
    "print(l)\n"
   ]
  },
  {
   "cell_type": "markdown",
   "execution_count": null,
   "metadata": {},
   "outputs": [],
   "source": [
    "### Test II.2\n",
    "\n",
    "Modify the `diy_lu` routine to implement column pivoting. Keep track of pivots, you can either construct a permutation matrix, or a swap array (your choice).\n",
    "\n",
    "(40% of the grade)\n",
    "\n",
    "Implement a function to reconstruct the original matrix from a decompositon. Test your routines on the matrices `a` and `a1`.\n",
    "\n",
    "(40% of the grade)"
   ]
  },
  {
   "cell_type": "code",
   "execution_count": 136,
   "metadata": {},
   "outputs": [
    {
     "name": "stdout",
     "output_type": "stream",
     "text": "[[1.    0.    0.    0.    0.    0.   ]\n [1.    1.    0.    0.    0.    0.   ]\n [1.    1.455 1.    0.    0.    0.   ]\n [1.    1.714 1.742 1.    0.    0.   ]\n [1.    1.882 2.276 2.039 1.    0.   ]\n [1.    2.    2.671 2.944 2.354 1.   ]] \n\n[[ 3.000e+00  3.000e+00  3.000e+00  3.000e+00  3.000e+00  3.000e+00]\n [ 0.000e+00 -1.125e+00 -1.636e+00 -1.929e+00 -2.118e+00 -2.250e+00]\n [ 0.000e+00  0.000e+00  2.625e-01  4.574e-01  5.975e-01  7.013e-01]\n [ 0.000e+00  1.110e-16  0.000e+00 -2.197e-02 -4.480e-02 -6.469e-02]\n [ 0.000e+00 -2.819e-16  0.000e+00  0.000e+00  8.080e-04  1.902e-03]\n [ 0.000e+00  3.369e-16  0.000e+00 -1.541e-18  2.168e-19 -1.585e-05]] \n\n[[1. 0. 0. 0. 0. 0.]\n [0. 1. 0. 0. 0. 0.]\n [0. 0. 1. 0. 0. 0.]\n [0. 0. 0. 1. 0. 0.]\n [0. 0. 0. 0. 1. 0.]\n [0. 0. 0. 0. 0. 1.]] \n\n[[1.    0.    0.    0.    0.    0.   ]\n [1.    1.    0.    0.    0.    0.   ]\n [1.    1.294 1.    0.    0.    0.   ]\n [1.    1.435 1.594 1.    0.    0.   ]\n [1.    1.517 1.973 1.915 1.    0.   ]\n [1.    1.571 2.234 2.653 2.251 1.   ]] \n\n[[ 3.000e+00  3.000e+00  3.000e+00  3.000e+00  3.000e+00  3.000e+00]\n [ 0.000e+00 -1.636e+00 -1.929e+00 -2.118e+00 -2.250e+00  0.000e+00]\n [ 0.000e+00  0.000e+00  1.480e-01  2.577e-01  3.403e-01 -1.636e+00]\n [ 0.000e+00 -9.742e-17  0.000e+00 -6.534e-03 -1.415e-02  6.794e-01]\n [ 0.000e+00  1.379e-16  0.000e+00  0.000e+00  1.525e-04 -1.903e-01]\n [ 0.000e+00 -5.186e-17  0.000e+00  2.810e-20  0.000e+00  3.202e-02]] \n\n[[1. 0. 0. 0. 0. 0.]\n [0. 0. 1. 0. 0. 0.]\n [0. 0. 0. 1. 0. 0.]\n [0. 0. 0. 0. 1. 0.]\n [0. 0. 0. 0. 0. 1.]\n [0. 1. 0. 0. 0. 0.]] \n\n"
    }
   ],
   "source": [
    "def diy_lu_mod(a):\n",
    "    N = a.shape[0]\n",
    "    Per = np.eye(N)\n",
    "    u = a.copy()\n",
    "    L = np.eye(N)\n",
    "    det = np.linalg.det(a)\n",
    "    if det == 0:\n",
    "        return False\n",
    "    else:\n",
    "        for j in range(N-1):\n",
    "            dj = np.linalg.det(u[:j+2,:j+2])\n",
    "            while dj == 0:\n",
    "                P0 = np.eye(N)\n",
    "                i = j+1\n",
    "                while i < N-1:\n",
    "                    u[:,[i,i+1]] = u[:,[i+1,i]]\n",
    "                    P0[:,[i,i+1]] = P0[:,[i+1,i]]\n",
    "                    i +=1\n",
    "                Per = Per@P0\n",
    "                dj = np.linalg.det(u[:j+2,:j+2])\n",
    "            lam = np.eye(N)\n",
    "            gamma = u[j+1:, j] / u[j, j]\n",
    "            lam[j+1:, j] = -gamma\n",
    "            u = lam @ u\n",
    "\n",
    "            lam[j+1:, j] = gamma\n",
    "            L = L @ lam\n",
    "    return L, u, Per\n",
    "\n",
    "\n",
    "L, u, P = diy_lu_mod(a)\n",
    "print(L, \"\\n\")\n",
    "print(u, \"\\n\")\n",
    "print(P.T, \"\\n\")\n",
    "\n",
    "L1, u1, P1 = diy_lu_mod(a1)\n",
    "print(L1, \"\\n\")\n",
    "print(u1, \"\\n\")\n",
    "print(P1.T, \"\\n\")"
   ]
  },
  {
   "cell_type": "code",
   "execution_count": 137,
   "metadata": {},
   "outputs": [],
   "source": [
    "def going_back(L,u,p):\n",
    "    return L @ u @ p"
   ]
  },
  {
   "cell_type": "code",
   "execution_count": 138,
   "metadata": {},
   "outputs": [
    {
     "name": "stdout",
     "output_type": "stream",
     "text": "[[3.    3.    3.    3.    3.    3.   ]\n [3.    1.875 1.364 1.071 0.882 0.75 ]\n [3.    1.364 0.882 0.652 0.517 0.429]\n [3.    1.071 0.652 0.469 0.366 0.3  ]\n [3.    0.882 0.517 0.366 0.283 0.231]\n [3.    0.75  0.429 0.3   0.231 0.188]] \n [[ 0.000e+00  0.000e+00  0.000e+00  0.000e+00  0.000e+00  0.000e+00]\n [ 0.000e+00  0.000e+00  0.000e+00  0.000e+00  0.000e+00  0.000e+00]\n [ 0.000e+00  0.000e+00  0.000e+00 -2.220e-16  1.110e-16  1.665e-16]\n [ 0.000e+00  0.000e+00 -2.220e-16  5.551e-17  1.665e-16  1.665e-16]\n [ 0.000e+00  0.000e+00  1.110e-16 -2.776e-16  2.776e-16 -5.551e-17]\n [ 0.000e+00  0.000e+00  1.665e-16  1.665e-16 -5.551e-17  0.000e+00]]\n"
    }
   ],
   "source": [
    "a_ = going_back(L, u, P.T)\n",
    "print(a_, \"\\n\", a - a_)"
   ]
  },
  {
   "cell_type": "code",
   "execution_count": 139,
   "metadata": {},
   "outputs": [
    {
     "name": "stdout",
     "output_type": "stream",
     "text": "[[3.    3.    3.    3.    3.    3.   ]\n [3.    3.    1.364 1.071 0.882 0.75 ]\n [3.    1.364 0.882 0.652 0.517 0.429]\n [3.    1.071 0.652 0.469 0.366 0.3  ]\n [3.    0.882 0.517 0.366 0.283 0.231]\n [3.    0.75  0.429 0.3   0.231 0.187]] \n [[ 0.000e+00  0.000e+00  0.000e+00  0.000e+00  0.000e+00  0.000e+00]\n [ 0.000e+00  0.000e+00  0.000e+00  0.000e+00  0.000e+00  0.000e+00]\n [ 0.000e+00  0.000e+00  0.000e+00 -2.220e-16  1.110e-16  1.665e-16]\n [ 0.000e+00  0.000e+00 -2.220e-16  5.551e-17  1.665e-16  1.665e-16]\n [ 0.000e+00  0.000e+00  1.110e-16  1.665e-16 -1.665e-16 -5.551e-17]\n [ 0.000e+00  0.000e+00  1.665e-16  1.665e-16 -5.551e-17  4.441e-16]]\n"
    }
   ],
   "source": [
    "a1_ = going_back(L1, u1, P1.T)\n",
    "print(a1_, \"\\n\", a1 - a1_)"
   ]
  },
  {
   "cell_type": "code",
   "execution_count": null,
   "metadata": {},
   "outputs": [],
   "source": []
  }
 ],
 "metadata": {
  "kernelspec": {
   "display_name": "Python 3",
   "language": "python",
   "name": "python3"
  },
  "language_info": {
   "codemirror_mode": {
    "name": "ipython",
    "version": 3
   },
   "file_extension": ".py",
   "mimetype": "text/x-python",
   "name": "python",
   "nbconvert_exporter": "python",
   "pygments_lexer": "ipython3",
   "version": "3.7.4-final"
  }
 },
 "nbformat": 4,
 "nbformat_minor": 2
}