{
 "cells": [
  {
   "cell_type": "markdown",
   "execution_count": null,
   "metadata": {},
   "outputs": [],
   "source": [
    "# I. $LU$ factorization of a square matrix"
   ]
  },
  {
   "cell_type": "markdown",
   "execution_count": null,
   "metadata": {},
   "outputs": [],
   "source": [
    "Consider a simple naive implementation of the LU decomposition. \n",
    "\n",
    "Note that we're using the `numpy` arrays to represent matrices [do **not** use `np.matrix`]."
   ]
  },
  {
   "cell_type": "code",
   "execution_count": null,
   "metadata": {},
   "outputs": [],
   "source": [
    "import numpy as np\n",
    "\n",
    "def diy_lu(a):\n",
    "    \"\"\"Construct the LU decomposition of the input matrix.\n",
    "    \n",
    "    Naive LU decomposition: work column by column, accumulate elementary triangular matrices.\n",
    "    No pivoting.\n",
    "    \"\"\"\n",
    "    N = a.shape[0]\n",
    "    \n",
    "    u = a.copy()\n",
    "    L = np.eye(N)\n",
    "    for j in range(N-1):\n",
    "        lam = np.eye(N)\n",
    "        gamma = u[j+1:, j] / u[j, j]\n",
    "        lam[j+1:, j] = -gamma\n",
    "        u = lam @ u\n",
    "\n",
    "        lam[j+1:, j] = gamma\n",
    "        L = L @ lam\n",
    "    return L, u"
   ]
  },
  {
   "cell_type": "code",
   "execution_count": null,
   "metadata": {},
   "outputs": [],
   "source": [
    "# Now, generate a full rank matrix and test the naive implementation\n",
    "\n",
    "import numpy as np\n",
    "\n",
    "N = 6\n",
    "a = np.zeros((N, N), dtype=float)\n",
    "for i in range(N):\n",
    "    for j in range(N):\n",
    "        a[i, j] = 3. / (0.6*i*j + 1)\n",
    "\n",
    "np.linalg.matrix_rank(a)"
   ]
  },
  {
   "cell_type": "code",
   "execution_count": null,
   "metadata": {},
   "outputs": [],
   "source": [
    "# Tweak the printing of floating-point numbers, for clarity\n",
    "np.set_printoptions(precision=3)"
   ]
  },
  {
   "cell_type": "code",
   "execution_count": null,
   "metadata": {},
   "outputs": [],
   "source": [
    "L, u = diy_lu(a)\n",
    "\n",
    "print(L, \"\\n\")\n",
    "print(u, \"\\n\")\n",
    "\n",
    "# Quick sanity check: L times U must equal the original matrix, up to floating-point errors.\n",
    "print(L@u - a)"
   ]
  },
  {
   "cell_type": "markdown",
   "execution_count": null,
   "metadata": {},
   "outputs": [],
   "source": [
    "# II. The need for pivoting"
   ]
  },
  {
   "cell_type": "markdown",
   "execution_count": null,
   "metadata": {},
   "outputs": [],
   "source": [
    "Let's tweak the matrix a little bit, we only change a single element:"
   ]
  },
  {
   "cell_type": "code",
   "execution_count": null,
   "metadata": {},
   "outputs": [],
   "source": [
    "a1 = a.copy()\n",
    "a1[1, 1] = 3"
   ]
  },
  {
   "cell_type": "markdown",
   "execution_count": null,
   "metadata": {},
   "outputs": [],
   "source": [
    "Resulting matix still has full rank, but the naive LU routine breaks down."
   ]
  },
  {
   "cell_type": "code",
   "execution_count": null,
   "metadata": {},
   "outputs": [],
   "source": [
    "np.linalg.matrix_rank(a1)"
   ]
  },
  {
   "cell_type": "code",
   "execution_count": null,
   "metadata": {},
   "outputs": [],
   "source": [
    "l, u = diy_lu(a1)\n",
    "\n",
    "print(l, u)"
   ]
  },
  {
   "cell_type": "markdown",
   "execution_count": null,
   "metadata": {},
   "outputs": [],
   "source": [
    "### Test II.1\n",
    "\n",
    "For a naive LU decomposition to work, all leading minors of a matrix should be non-zero. Check if this requirement is satisfied for the two matrices `a` and `a1`.\n",
    "\n",
    "(20% of the grade)"
   ]
  },
  {
   "cell_type": "code",
   "execution_count": null,
   "metadata": {},
   "outputs": [],
   "source": [
    "def minor_check(b):\n",
    "    n = b.shape[0]\n",
    "    for i in range(n, 1, -1):\n",
    "        det = np.linalg.det(b)\n",
    "        if det ==  0:\n",
    "            k = False\n",
    "            break\n",
    "        else : \n",
    "            k = True\n",
    "        b = b[:(i-1),:(i-1)]\n",
    "    return k\n",
    "l = minor_check(a), minor_check(a1)\n",
    "print(l)\n"
   ]
  },
  {
   "cell_type": "markdown",
   "execution_count": null,
   "metadata": {},
   "outputs": [],
   "source": [
    "### Test II.2\n",
    "\n",
    "Modify the `diy_lu` routine to implement column pivoting. Keep track of pivots, you can either construct a permutation matrix, or a swap array (your choice).\n",
    "\n",
    "(40% of the grade)\n",
    "\n",
    "Implement a function to reconstruct the original matrix from a decompositon. Test your routines on the matrices `a` and `a1`.\n",
    "\n",
    "(40% of the grade)"
   ]
  },
  {
   "cell_type": "code",
   "execution_count": 22,
   "metadata": {},
   "outputs": [
    {
     "output_type": "stream",
     "name": "stdout",
     "text": "[  -inf   -inf]\n [  -inf   -inf]\n [  -inf   -inf]]\n0.0\n[[ 3.     3.   ]\n [-2.118 -1.929]\n [  -inf   -inf]\n [  -inf   -inf]\n [  -inf   -inf]\n [  -inf   -inf]]\n[[ 3.     3.   ]\n [-2.25  -1.929]\n [  -inf   -inf]\n [  -inf   -inf]\n [  -inf   -inf]\n [  -inf   -inf]]\n0.0\n[[ 3.     3.   ]\n [-2.25  -2.118]\n [  -inf   -inf]\n [  -inf   -inf]\n [  -inf   -inf]\n [  -inf   -inf]]\n[[ 3.     3.   ]\n [-1.929 -2.118]\n [  -inf   -inf]\n [  -inf   -inf]\n [  -inf   -inf]\n [  -inf   -inf]]\n0.0\n[[ 3.     3.   ]\n [-1.929 -2.25 ]\n [  -inf   -inf]\n [  -inf   -inf]\n [  -inf   -inf]\n [  -inf   -inf]]\n[[ 3.     3.   ]\n [-2.118 -2.25 ]\n [  -inf   -inf]\n [  -inf   -inf]\n [  -inf   -inf]\n [  -inf   -inf]]\n0.0\n[[ 3.     3.   ]\n [-2.118 -1.929]\n [  -inf   -inf]\n [  -inf   -inf]\n [  -inf   -inf]\n [  -inf   -inf]]\n[[ 3.     3.   ]\n [-2.25  -1.929]\n [  -inf   -inf]\n [  -inf   -inf]\n [  -inf   -inf]\n [  -inf   -inf]]\n0.0\n[[ 3.     3.   ]\n [-2.25  -2.118]\n [  -inf   -inf]\n [  -inf   -inf]\n [  -inf   -inf]\n [  -inf   -inf]]\n[[ 3.     3.   ]\n [-1.929 -2.118]\n [  -inf   -inf]\n [  -inf   -inf]\n [  -inf   -inf]\n [  -inf   -inf]]\n0.0\n[[ 3.     3.   ]\n [-1.929 -2.25 ]\n [  -inf   -inf]\n [  -inf   -inf]\n [  -inf   -inf]\n [  -inf   -inf]]\n[[ 3.     3.   ]\n [-2.118 -2.25 ]\n [  -inf   -inf]\n [  -inf   -inf]\n [  -inf   -inf]\n [  -inf   -inf]]\n0.0\n[[ 3.     3.   ]\n [-2.118 -1.929]\n [  -inf   -inf]\n [  -inf   -inf]\n [  -inf   -inf]\n [  -inf   -inf]]\n[[ 3.     3.   ]\n [-2.25  -1.929]\n [  -inf   -inf]\n [  -inf   -inf]\n [  -inf   -inf]\n [  -inf   -inf]]\n0.0\n[[ 3.     3.   ]\n [-2.25  -2.118]\n [  -inf   -inf]\n [  -inf   -inf]\n [  -inf   -inf]\n [  -inf   -inf]]\n[[ 3.     3.   ]\n [-1.929 -2.118]\n [  -inf   -inf]\n [  -inf   -inf]\n [  -inf   -inf]\n [  -inf   -inf]]\n0.0\n[[ 3.     3.   ]\n [-1.929 -2.25 ]\n [  -inf   -inf]\n [  -inf   -inf]\n [  -inf   -inf]\n [  -inf   -inf]]\n[[ 3.     3.   ]\n [-2.118 -2.25 ]\n [  -inf   -inf]\n [  -inf   -inf]\n [  -inf   -inf]\n [  -inf   -inf]]\n0.0\n[[ 3.     3.   ]\n [-2.118 -1.929]\n [  -inf   -inf]\n [  -inf   -inf]\n [  -inf   -inf]\n [  -inf   -inf]]\n[[ 3.     3.   ]\n [-2.25  -1.929]\n [  -inf   -inf]\n [  -inf   -inf]\n [  -inf   -inf]\n [  -inf   -inf]]\n0.0\n[[ 3.     3.   ]\n [-2.25  -2.118]\n [  -inf   -inf]\n [  -inf   -inf]\n [  -inf   -inf]\n [  -inf   -inf]]\n[[ 3.     3.   ]\n [-1.929 -2.118]\n [  -inf   -inf]\n [  -inf   -inf]\n [  -inf   -inf]\n [  -inf   -inf]]\n0.0\n[[ 3.     3.   ]\n [-1.929 -2.25 ]\n [  -inf   -inf]\n [  -inf   -inf]\n [  -inf   -inf]\n [  -inf   -inf]]\n[[ 3.     3.   ]\n [-2.118 -2.25 ]\n [  -inf   -inf]\n [  -inf   -inf]\n [  -inf   -inf]\n [  -inf   -inf]]\n0.0\n[[ 3.     3.   ]\n [-2.118 -1.929]\n [  -inf   -inf]\n [  -inf   -inf]\n [  -inf   -inf]\n [  -inf   -inf]]\n[[ 3.     3.   ]\n [-2.25  -1.929]\n [  -inf   -inf]\n [  -inf   -inf]\n [  -inf   -inf]\n [  -inf   -inf]]\n0.0\n[[ 3.     3.   ]\n [-2.25  -2.118]\n [  -inf   -inf]\n [  -inf   -inf]\n [  -inf   -inf]\n [  -inf   -inf]]\n[[ 3.     3.   ]\n [-1.929 -2.118]\n [  -inf   -inf]\n [  -inf   -inf]\n [  -inf   -inf]\n [  -inf   -inf]]\n0.0\n[[ 3.     3.   ]\n [-1.929 -2.25 ]\n [  -inf   -inf]\n [  -inf   -inf]\n [  -inf   -inf]\n [  -inf   -inf]]\n[[ 3.     3.   ]\n [-2.118 -2.25 ]\n [  -inf   -inf]\n [  -inf   -inf]\n [  -inf   -inf]\n [  -inf   -inf]]\n0.0\n[[ 3.     3.   ]\n [-2.118 -1.929]\n [  -inf   -inf]\n [  -inf   -inf]\n [  -inf   -inf]\n [  -inf   -inf]]\n[[ 3.     3.   ]\n [-2.25  -1.929]\n [  -inf   -inf]\n [  -inf   -inf]\n [  -inf   -inf]\n [  -inf   -inf]]\n0.0\n[[ 3.     3.   ]\n [-2.25  -2.118]\n [  -inf   -inf]\n [  -inf   -inf]\n [  -inf   -inf]\n [  -inf   -inf]]\n[[ 3.     3.   ]\n [-1.929 -2.118]\n [  -inf   -inf]\n [  -inf   -inf]\n [  -inf   -inf]\n [  -inf   -inf]]\n0.0\n[[ 3.     3.   ]\n [-1.929 -2.25 ]\n [  -inf   -inf]\n [  -inf   -inf]\n [  -inf   -inf]\n [  -inf   -inf]]\n[[ 3.     3.   ]\n [-2.118 -2.25 ]\n [  -inf   -inf]\n [  -inf   -inf]\n [  -inf   -inf]\n [  -inf   -inf]]\n0.0\n[[ 3.     3.   ]\n [-2.118 -1.929]\n [  -inf   -inf]\n [  -inf   -inf]\n [  -inf   -inf]\n [  -inf   -inf]]\n[[ 3.     3.   ]\n [-2.25  -1.929]\n [  -inf   -inf]\n [  -inf   -inf]\n [  -inf   -inf]\n [  -inf   -inf]]\n0.0\n[[ 3.     3.   ]\n [-2.25  -2.118]\n [  -inf   -inf]\n [  -inf   -inf]\n [  -inf   -inf]\n [  -inf   -inf]]\n[[ 3.     3.   ]\n [-1.929 -2.118]\n [  -inf   -inf]\n [  -inf   -inf]\n [  -inf   -inf]\n [  -inf   -inf]]\n0.0\n[[ 3.     3.   ]\n [-1.929 -2.25 ]\n [  -inf   -inf]\n [  -inf   -inf]\n [  -inf   -inf]\n [  -inf   -inf]]\n[[ 3.     3.   ]\n [-2.118 -2.25 ]\n [  -inf   -inf]\n [  -inf   -inf]\n [  -inf   -inf]\n [  -inf   -inf]]\n0.0\n[[ 3.     3.   ]\n [-2.118 -1.929]\n [  -inf   -inf]\n [  -inf   -inf]\n [  -inf   -inf]\n [  -inf   -inf]]\n[[ 3.     3.   ]\n [-2.25  -1.929]\n [  -inf   -inf]\n [  -inf   -inf]\n [  -inf   -inf]\n [  -inf   -inf]]\n0.0\n[[ 3.     3.   ]\n [-2.25  -2.118]\n [  -inf   -inf]\n [  -inf   -inf]\n [  -inf   -inf]\n [  -inf   -inf]]\n[[ 3.     3.   ]\n [-1.929 -2.118]\n [  -inf   -inf]\n [  -inf   -inf]\n [  -inf   -inf]\n [  -inf   -inf]]\n0.0\n[[ 3.     3.   ]\n [-1.929 -2.25 ]\n [  -inf   -inf]\n [  -inf   -inf]\n [  -inf   -inf]\n [  -inf   -inf]]\n[[ 3.     3.   ]\n [-2.118 -2.25 ]\n [  -inf   -inf]\n [  -inf   -inf]\n [  -inf   -inf]\n [  -inf   -inf]]\n0.0\n[[ 3.     3.   ]\n [-2.118 -1.929]\n [  -inf   -inf]\n [  -inf   -inf]\n [  -inf   -inf]\n [  -inf   -inf]]\n[[ 3.     3.   ]\n [-2.25  -1.929]\n [  -inf   -inf]\n [  -inf   -inf]\n [  -inf   -inf]\n [  -inf   -inf]]\n0.0\n[[ 3.     3.   ]\n [-2.25  -2.118]\n [  -inf   -inf]\n [  -inf   -inf]\n [  -inf   -inf]\n [  -inf   -inf]]\n[[ 3.     3.   ]\n [-1.929 -2.118]\n [  -inf   -inf]\n [  -inf   -inf]\n [  -inf   -inf]\n [  -inf   -inf]]\n0.0\n[[ 3.     3.   ]\n [-1.929 -2.25 ]\n [  -inf   -inf]\n [  -inf   -inf]\n [  -inf   -inf]\n [  -inf   -inf]]\n[[ 3.     3.   ]\n [-2.118 -2.25 ]\n [  -inf   -inf]\n [  -inf   -inf]\n [  -inf   -inf]\n [  -inf   -inf]]\n0.0\n[[ 3.     3.   ]\n [-2.118 -1.929]\n [  -inf   -inf]\n [  -inf   -inf]\n [  -inf   -inf]\n [  -inf   -inf]]\n[[ 3.     3.   ]\n [-2.25  -1.929]\n [  -inf   -inf]\n [  -inf   -inf]\n [  -inf   -inf]\n [  -inf   -inf]]\n0.0\n[[ 3.     3.   ]\n [-2.25  -2.118]\n [  -inf   -inf]\n [  -inf   -inf]\n [  -inf   -inf]\n [  -inf   -inf]]\n[[ 3.     3.   ]\n [-1.929 -2.118]\n [  -inf   -inf]\n [  -inf   -inf]\n [  -inf   -inf]\n [  -inf   -inf]]\n0.0\n[[ 3.     3.   ]\n [-1.929 -2.25 ]\n [  -inf   -inf]\n [  -inf   -inf]\n [  -inf   -inf]\n [  -inf   -inf]]\n[[ 3.     3.   ]\n [-2.118 -2.25 ]\n [  -inf   -inf]\n [  -inf   -inf]\n [  -inf   -inf]\n [  -inf   -inf]]\n0.0\n[[ 3.     3.   ]\n [-2.118 -1.929]\n [  -inf   -inf]\n [  -inf   -inf]\n [  -inf   -inf]\n [  -inf   -inf]]\n[[ 3.     3.   ]\n [-2.25  -1.929]\n [  -inf   -inf]\n [  -inf   -inf]\n [  -inf   -inf]\n [  -inf   -inf]]\n0.0\n[[ 3.     3.   ]\n [-2.25  -2.118]\n [  -inf   -inf]\n [  -inf   -inf]\n [  -inf   -inf]\n [  -inf   -inf]]\n[[ 3.     3.   ]\n [-1.929 -2.118]\n [  -inf   -inf]\n [  -inf   -inf]\n [  -inf   -inf]\n [  -inf   -inf]]\n0.0\n[[ 3.     3.   ]\n [-1.929 -2.25 ]\n [  -inf   -inf]\n [  -inf   -inf]\n [  -inf   -inf]\n [  -inf   -inf]]\n[[ 3.     3.   ]\n [-2.118 -2.25 ]\n [  -inf   -inf]\n [  -inf   -inf]\n [  -inf   -inf]\n [  -inf   -inf]]\n0.0\n[[ 3.     3.   ]\n [-2.118 -1.929]\n [  -inf   -inf]\n [  -inf   -inf]\n [  -inf   -inf]\n [  -inf   -inf]]\n[[ 3.     3.   ]\n [-2.25  -1.929]\n [  -inf   -inf]\n [  -inf   -inf]\n [  -inf   -inf]\n [  -inf   -inf]]\n0.0\n[[ 3.     3.   ]\n [-2.25  -2.118]\n [  -inf   -inf]\n [  -inf   -inf]\n [  -inf   -inf]\n [  -inf   -inf]]\n[[ 3.     3.   ]\n [-1.929 -2.118]\n [  -inf   -inf]\n [  -inf   -inf]\n [  -inf   -inf]\n [  -inf   -inf]]\n0.0\n[[ 3.     3.   ]\n [-1.929 -2.25 ]\n [  -inf   -inf]\n [  -inf   -inf]\n [  -inf   -inf]\n [  -inf   -inf]]\n[[ 3.     3.   ]\n [-2.118 -2.25 ]\n [  -inf   -inf]\n [  -inf   -inf]\n [  -inf   -inf]\n [  -inf   -inf]]\n0.0\n[[ 3.     3.   ]\n [-2.118 -1.929]\n [  -inf   -inf]\n [  -inf   -inf]\n [  -inf   -inf]\n [  -inf   -inf]]\n[[ 3.     3.   ]\n [-2.25  -1.929]\n [  -inf   -inf]\n [  -inf   -inf]\n [  -inf   -inf]\n [  -inf   -inf]]\n0.0\n[[ 3.     3.   ]\n [-2.25  -2.118]\n [  -inf   -inf]\n [  -inf   -inf]\n [  -inf   -inf]\n [  -inf   -inf]]\n[[ 3.     3.   ]\n [-1.929 -2.118]\n [  -inf   -inf]\n [  -inf   -inf]\n [  -inf   -inf]\n [  -inf   -inf]]\n0.0\n[[ 3.     3.   ]\n [-1.929 -2.25 ]\n [  -inf   -inf]\n [  -inf   -inf]\n [  -inf   -inf]\n [  -inf   -inf]]\n[[ 3.     3.   ]\n [-2.118 -2.25 ]\n [  -inf   -inf]\n [  -inf   -inf]\n [  -inf   -inf]\n [  -inf   -inf]]\n0.0\n[[ 3.     3.   ]\n [-2.118 -1.929]\n [  -inf   -inf]\n [  -inf   -inf]\n [  -inf   -inf]\n [  -inf   -inf]]\n[[ 3.     3.   ]\n [-2.25  -1.929]\n [  -inf   -inf]\n [  -inf   -inf]\n [  -inf   -inf]\n [  -inf   -inf]]\n0.0\n[[ 3.     3.   ]\n [-2.25  -2.118]\n [  -inf   -inf]\n [  -inf   -inf]\n [  -inf   -inf]\n [  -inf   -inf]]\n[[ 3.     3.   ]\n [-1.929 -2.118]\n [  -inf   -inf]\n [  -inf   -inf]\n [  -inf   -inf]\n [  -inf   -inf]]\n0.0\n[[ 3.     3.   ]\n [-1.929 -2.25 ]\n [  -inf   -inf]\n [  -inf   -inf]\n [  -inf   -inf]\n [  -inf   -inf]]\n[[ 3.     3.   ]\n [-2.118 -2.25 ]\n [  -inf   -inf]\n [  -inf   -inf]\n [  -inf   -inf]\n [  -inf   -inf]]\n0.0\n[[ 3.     3.   ]\n [-2.118 -1.929]\n [  -inf   -inf]\n [  -inf   -inf]\n [  -inf   -inf]\n [  -inf   -inf]]\n[[ 3.     3.   ]\n [-2.25  -1.929]\n [  -inf   -inf]\n [  -inf   -inf]\n [  -inf   -inf]\n [  -inf   -inf]]\n0.0\n[[ 3.     3.   ]\n [-2.25  -2.118]\n [  -inf   -inf]\n [  -inf   -inf]\n [  -inf   -inf]\n [  -inf   -inf]]\n[[ 3.     3.   ]\n [-1.929 -2.118]\n [  -inf   -inf]\n [  -inf   -inf]\n [  -inf   -inf]\n [  -inf   -inf]]\n0.0\n[[ 3.     3.   ]\n [-1.929 -2.25 ]\n [  -inf   -inf]\n [  -inf   -inf]\n [  -inf   -inf]\n [  -inf   -inf]]\n[[ 3.     3.   ]\n [-2.118 -2.25 ]\n [  -inf   -inf]\n [  -inf   -inf]\n [  -inf   -inf]\n [  -inf   -inf]]\n0.0\n[[ 3.     3.   ]\n [-2.118 -1.929]\n [  -inf   -inf]\n [  -inf   -inf]\n [  -inf   -inf]\n [  -inf   -inf]]\n[[ 3.     3.   ]\n [-2.25  -1.929]\n [  -inf   -inf]\n [  -inf   -inf]\n [  -inf   -inf]\n [  -inf   -inf]]\n0.0\n[[ 3.     3.   ]\n [-2.25  -2.118]\n [  -inf   -inf]\n [  -inf   -inf]\n [  -inf   -inf]\n [  -inf   -inf]]\n[[ 3.     3.   ]\n [-1.929 -2.118]\n [  -inf   -inf]\n [  -inf   -inf]\n [  -inf   -inf]\n [  -inf   -inf]]\n0.0\n[[ 3.     3.   ]\n [-1.929 -2.25 ]\n [  -inf   -inf]\n [  -inf   -inf]\n [  -inf   -inf]\n [  -inf   -inf]]\n[[ 3.     3.   ]\n [-2.118 -2.25 ]\n [  -inf   -inf]\n [  -inf   -inf]\n [  -inf   -inf]\n [  -inf   -inf]]\n0.0\n[[ 3.     3.   ]\n [-2.118 -1.929]\n [  -inf   -inf]\n [  -inf   -inf]\n [  -inf   -inf]\n [  -inf   -inf]]\n[[ 3.     3.   ]\n [-2.25  -1.929]\n [  -inf   -inf]\n [  -inf   -inf]\n [  -inf   -inf]\n [  -inf   -inf]]\n0.0\n[[ 3.     3.   ]\n [-2.25  -2.118]\n [  -inf   -inf]\n [  -inf   -inf]\n [  -inf   -inf]\n [  -inf   -inf]]\n[[ 3.     3.   ]\n [-1.929 -2.118]\n [  -inf   -inf]\n [  -inf   -inf]\n [  -inf   -inf]\n [  -inf   -inf]]\n0.0\n[[ 3.     3.   ]\n [-1.929 -2.25 ]\n [  -inf   -inf]\n [  -inf   -inf]\n [  -inf   -inf]\n [  -inf   -inf]]\n[[ 3.     3.   ]\n [-2.118 -2.25 ]\n [  -inf   -inf]\n [  -inf   -inf]\n [  -inf   -inf]\n [  -inf   -inf]]\n0.0\n[[ 3.     3.   ]\n [-2.118 -1.929]\n [  -inf   -inf]\n [  -inf   -inf]\n [  -inf   -inf]\n [  -inf   -inf]]\n[[ 3.     3.   ]\n [-2.25  -1.929]\n [  -inf   -inf]\n [  -inf   -inf]\n [  -inf   -inf]\n [  -inf   -inf]]\n0.0\n[[ 3.     3.   ]\n [-2.25  -2.118]\n [  -inf   -inf]\n [  -inf   -inf]\n [  -inf   -inf]\n [  -inf   -inf]]\n[[ 3.     3.   ]\n [-1.929 -2.118]\n [  -inf   -inf]\n [  -inf   -inf]\n [  -inf   -inf]\n [  -inf   -inf]]\n0.0\n[[ 3.     3.   ]\n [-1.929 -2.25 ]\n [  -inf   -inf]\n [  -inf   -inf]\n [  -inf   -inf]\n [  -inf   -inf]]\n[[ 3.     3.   ]\n [-2.118 -2.25 ]\n [  -inf   -inf]\n [  -inf   -inf]\n [  -inf   -inf]\n [  -inf   -inf]]\n0.0\n[[ 3.     3.   ]\n [-2.118 -1.929]\n [  -inf   -inf]\n [  -inf   -inf]\n [  -inf   -inf]\n [  -inf   -inf]]\n[[ 3.     3.   ]\n [-2.25  -1.929]\n [  -inf   -inf]\n [  -inf   -inf]\n [  -inf   -inf]\n [  -inf   -inf]]\n0.0\n[[ 3.     3.   ]\n [-2.25  -2.118]\n [  -inf   -inf]\n [  -inf   -inf]\n [  -inf   -inf]\n [  -inf   -inf]]\n[[ 3.     3.   ]\n [-1.929 -2.118]\n [  -inf   -inf]\n [  -inf   -inf]\n [  -inf   -inf]\n [  -inf   -inf]]\n0.0\n[[ 3.     3.   ]\n [-1.929 -2.25 ]\n [  -inf   -inf]\n [  -inf   -inf]\n [  -inf   -inf]\n [  -inf   -inf]]\n[[ 3.     3.   ]\n [-2.118 -2.25 ]\n [  -inf   -inf]\n [  -inf   -inf]\n [  -inf   -inf]\n [  -inf   -inf]]\n0.0\n[[ 3.     3.   ]\n [-2.118 -1.929]\n [  -inf   -inf]\n [  -inf   -inf]\n [  -inf   -inf]\n [  -inf   -inf]]\n[[ 3.     3.   ]\n [-2.25  -1.929]\n [  -inf   -inf]\n [  -inf   -inf]\n [  -inf   -inf]\n [  -inf   -inf]]\n0.0\n[[ 3.     3.   ]\n [-2.25  -2.118]\n [  -inf   -inf]\n [  -inf   -inf]\n [  -inf   -inf]\n [  -inf   -inf]]\n[[ 3.     3.   ]\n [-1.929 -2.118]\n [  -inf   -inf]\n [  -inf   -inf]\n [  -inf   -inf]\n [  -inf   -inf]]\n0.0\n[[ 3.     3.   ]\n [-1.929 -2.25 ]\n [  -inf   -inf]\n [  -inf   -inf]\n [  -inf   -inf]\n [  -inf   -inf]]\n[[ 3.     3.   ]\n [-2.118 -2.25 ]\n [  -inf   -inf]\n [  -inf   -inf]\n [  -inf   -inf]\n [  -inf   -inf]]\n0.0\n[[ 3.     3.   ]\n [-2.118 -1.929]\n [  -inf   -inf]\n [  -inf   -inf]\n [  -inf   -inf]\n [  -inf   -inf]]\n[[ 3.     3.   ]\n [-2.25  -1.929]\n [  -inf   -inf]\n [  -inf   -inf]\n [  -inf   -inf]\n [  -inf   -inf]]\n0.0\n[[ 3.     3.   ]\n [-2.25  -2.118]\n [  -inf   -inf]\n [  -inf   -inf]\n [  -inf   -inf]\n [  -inf   -inf]]\n[[ 3.     3.   ]\n [-1.929 -2.118]\n [  -inf   -inf]\n [  -inf   -inf]\n [  -inf   -inf]\n [  -inf   -inf]]\n0.0\n[[ 3.     3.   ]\n [-1.929 -2.25 ]\n [  -inf   -inf]\n [  -inf   -inf]\n [  -inf   -inf]\n [  -inf   -inf]]\n[[ 3.     3.   ]\n [-2.118 -2.25 ]\n [  -inf   -inf]\n [  -inf   -inf]\n [  -inf   -inf]\n [  -inf   -inf]]\n0.0\n[[ 3.     3.   ]\n [-2.118 -1.929]\n [  -inf   -inf]\n [  -inf   -inf]\n [  -inf   -inf]\n [  -inf   -inf]]\n[[ 3.     3.   ]\n [-2.25  -1.929]\n [  -inf   -inf]\n [  -inf   -inf]\n [  -inf   -inf]\n [  -inf   -inf]]\n0.0\n[[ 3.     3.   ]\n [-2.25  -2.118]\n [  -inf   -inf]\n [  -inf   -inf]\n [  -inf   -inf]\n [  -inf   -inf]]\n[[ 3.     3.   ]\n [-1.929 -2.118]\n [  -inf   -inf]\n [  -inf   -inf]\n [  -inf   -inf]\n [  -inf   -inf]]\n0.0\n[[ 3.     3.   ]\n [-1.929 -2.25 ]\n [  -inf   -inf]\n [  -inf   -inf]\n [  -inf   -inf]\n [  -inf   -inf]]\n[[ 3.     3.   ]\n [-2.118 -2.25 ]\n [  -inf   -inf]\n [  -inf   -inf]\n [  -inf   -inf]\n [  -inf   -inf]]\n0.0\n[[ 3.     3.   ]\n [-2.118 -1.929]\n [  -inf   -inf]\n [  -inf   -inf]\n [  -inf   -inf]\n [  -inf   -inf]]\n[[ 3.     3.   ]\n [-2.25  -1.929]\n [  -inf   -inf]\n [  -inf   -inf]\n [  -inf   -inf]\n [  -inf   -inf]]\n0.0\n[[ 3.     3.   ]\n [-2.25  -2.118]\n [  -inf   -inf]\n [  -inf   -inf]\n [  -inf   -inf]\n [  -inf   -inf]]\n[[ 3.     3.   ]\n [-1.929 -2.118]\n [  -inf   -inf]\n [  -inf   -inf]\n [  -inf   -inf]\n [  -inf   -inf]]\n0.0\n[[ 3.     3.   ]\n [-1.929 -2.25 ]\n [  -inf   -inf]\n [  -inf   -inf]\n [  -inf   -inf]\n [  -inf   -inf]]\n[[ 3.     3.   ]\n [-2.118 -2.25 ]\n [  -inf   -inf]\n [  -inf   -inf]\n [  -inf   -inf]\n [  -inf   -inf]]\n0.0\n[[ 3.     3.   ]\n [-2.118 -1.929]\n [  -inf   -inf]\n [  -inf   -inf]\n [  -inf   -inf]\n [  -inf   -inf]]\n[[ 3.     3.   ]\n [-2.25  -1.929]\n [  -inf   -inf]\n [  -inf   -inf]\n [  -inf   -inf]\n [  -inf   -inf]]\n0.0\n[[ 3.     3.   ]\n [-2.25  -2.118]\n [  -inf   -inf]\n [  -inf   -inf]\n [  -inf   -inf]\n [  -inf   -inf]]\n[[ 3.     3.   ]\n [-1.929 -2.118]\n [  -inf   -inf]\n [  -inf   -inf]\n [  -inf   -inf]\n [  -inf   -inf]]\n0.0\n[[ 3.     3.   ]\n [-1.929 -2.25 ]\n [  -inf   -inf]\n [  -inf   -inf]\n [  -inf   -inf]\n [  -inf   -inf]]\n[[ 3.     3.   ]\n [-2.118 -2.25 ]\n [  -inf   -inf]\n [  -inf   -inf]\n [  -inf   -inf]\n [  -inf   -inf]]\n0.0\n[[ 3.     3.   ]\n [-2.118 -1.929]\n [  -inf   -inf]\n [  -inf   -inf]\n [  -inf   -inf]\n [  -inf   -inf]]\n[[ 3.     3.   ]\n [-2.25  -1.929]\n [  -inf   -inf]\n [  -inf   -inf]\n [  -inf   -inf]\n [  -inf   -inf]]\n0.0\n[[ 3.     3.   ]\n [-2.25  -2.118]\n [  -inf   -inf]\n [  -inf   -inf]\n [  -inf   -inf]\n [  -inf   -inf]]\n[[ 3.     3.   ]\n [-1.929 -2.118]\n [  -inf   -inf]\n [  -inf   -inf]\n [  -inf   -inf]\n [  -inf   -inf]]\n0.0\n[[ 3.     3.   ]\n [-1.929 -2.25 ]\n [  -inf   -inf]\n [  -inf   -inf]\n [  -inf   -inf]\n [  -inf   -inf]]\n[[ 3.     3.   ]\n [-2.118 -2.25 ]\n [  -inf   -inf]\n [  -inf   -inf]\n [  -inf   -inf]\n [  -inf   -inf]]\n0.0\n[[ 3.     3.   ]\n [-2.118 -1.929]\n [  -inf   -inf]\n [  -inf   -inf]\n [  -inf   -inf]\n [  -inf   -inf]]\n[[ 3.     3.   ]\n [-2.25  -1.929]\n [  -inf   -inf]\n [  -inf   -inf]\n [  -inf   -inf]\n [  -inf   -inf]]\n0.0\n[[ 3.     3.   ]\n [-2.25  -2.118]\n [  -inf   -inf]\n [  -inf   -inf]\n [  -inf   -inf]\n [  -inf   -inf]]\n[[ 3.     3.   ]\n [-1.929 -2.118]\n [  -inf   -inf]\n [  -inf   -inf]\n [  -inf   -inf]\n [  -inf   -inf]]\n0.0\n[[ 3.     3.   ]\n [-1.929 -2.25 ]\n [  -inf   -inf]\n [  -inf   -inf]\n [  -inf   -inf]\n [  -inf   -inf]]\n[[ 3.     3.   ]\n [-2.118 -2.25 ]\n [  -inf   -inf]\n [  -inf   -inf]\n [  -inf   -inf]\n [  -inf   -inf]]\n0.0\n[[ 3.     3.   ]\n [-2.118 -1.929]\n [  -inf   -inf]\n [  -inf   -inf]\n [  -inf   -inf]\n [  -inf   -inf]]\n[[ 3.     3.   ]\n [-2.25  -1.929]\n [  -inf   -inf]\n [  -inf   -inf]\n [  -inf   -inf]\n [  -inf   -inf]]\n0.0\n[[ 3.     3.   ]\n [-2.25  -2.118]\n [  -inf   -inf]\n [  -inf   -inf]\n [  -inf   -inf]\n [  -inf   -inf]]\n[[ 3.     3.   ]\n [-1.929 -2.118]\n [  -inf   -inf]\n [  -inf   -inf]\n [  -inf   -inf]\n [  -inf   -inf]]\n0.0\n[[ 3.     3.   ]\n [-1.929 -2.25 ]\n [  -inf   -inf]\n [  -inf   -inf]\n [  -inf   -inf]\n [  -inf   -inf]]\n[[ 3.     3.   ]\n [-2.118 -2.25 ]\n [  -inf   -inf]\n [  -inf   -inf]\n [  -inf   -inf]\n [  -inf   -inf]]\n0.0\n[[ 3.     3.   ]\n [-2.118 -1.929]\n [  -inf   -inf]\n [  -inf   -inf]\n [  -inf   -inf]\n [  -inf   -inf]]\n[[ 3.     3.   ]\n [-2.25  -1.929]\n [  -inf   -inf]\n [  -inf   -inf]\n [  -inf   -inf]\n [  -inf   -inf]]\n0.0\n[[ 3.     3.   ]\n [-2.25  -2.118]\n [  -inf   -inf]\n [  -inf   -inf]\n [  -inf   -inf]\n [  -inf   -inf]]\n[[ 3.     3.   ]\n [-1.929 -2.118]\n [  -inf   -inf]\n [  -inf   -inf]\n [  -inf   -inf]\n [  -inf   -inf]]\n0.0\n[[ 3.     3.   ]\n [-1.929 -2.25 ]\n [  -inf   -inf]\n [  -inf   -inf]\n [  -inf   -inf]\n [  -inf   -inf]]\n[[ 3.     3.   ]\n [-2.118 -2.25 ]\n [  -inf   -inf]\n [  -inf   -inf]\n [  -inf   -inf]\n [  -inf   -inf]]\n0.0\n[[ 3.     3.   ]\n [-2.118 -1.929]\n [  -inf   -inf]\n [  -inf   -inf]\n [  -inf   -inf]\n [  -inf   -inf]]\n[[ 3.     3.   ]\n [-2.25  -1.929]\n [  -inf   -inf]\n [  -inf   -inf]\n [  -inf   -inf]\n [  -inf   -inf]]\n0.0\n[[ 3.     3.   ]\n [-2.25  -2.118]\n [  -inf   -inf]\n [  -inf   -inf]\n [  -inf   -inf]\n [  -inf   -inf]]\n[[ 3.     3.   ]\n [-1.929 -2.118]\n [  -inf   -inf]\n [  -inf   -inf]\n [  -inf   -inf]\n [  -inf   -inf]]\n0.0\n[[ 3.     3.   ]\n [-1.929 -2.25 ]\n [  -inf   -inf]\n [  -inf   -inf]\n [  -inf   -inf]\n [  -inf   -inf]]\n[[ 3.     3.   ]\n [-2.118 -2.25 ]\n [  -inf   -inf]\n [  -inf   -inf]\n [  -inf   -inf]\n [  -inf   -inf]]\n0.0\n[[ 3.     3.   ]\n [-2.118 -1.929]\n [  -inf   -inf]\n [  -inf   -inf]\n [  -inf   -inf]\n [  -inf   -inf]]\n[[ 3.     3.   ]\n [-2.25  -1.929]\n [  -inf   -inf]\n [  -inf   -inf]\n [  -inf   -inf]\n [  -inf   -inf]]\n0.0\n[[ 3.     3.   ]\n [-2.25  -2.118]\n [  -inf   -inf]\n [  -inf   -inf]\n [  -inf   -inf]\n [  -inf   -inf]]\n[[ 3.     3.   ]\n [-1.929 -2.118]\n [  -inf   -inf]\n [  -inf   -inf]\n [  -inf   -inf]\n [  -inf   -inf]]\n0.0\n[[ 3.     3.   ]\n [-1.929 -2.25 ]\n [  -inf   -inf]\n [  -inf   -inf]\n [  -inf   -inf]\n [  -inf   -inf]]\n[[ 3.     3.   ]\n [-2.118 -2.25 ]\n [  -inf   -inf]\n [  -inf   -inf]\n [  -inf   -inf]\n [  -inf   -inf]]\n0.0\n[[ 3.     3.   ]\n [-2.118 -1.929]\n [  -inf   -inf]\n [  -inf   -inf]\n [  -inf   -inf]\n [  -inf   -inf]]\n[[ 3.     3.   ]\n [-2.25  -1.929]\n [  -inf   -inf]\n [  -inf   -inf]\n [  -inf   -inf]\n [  -inf   -inf]]\n0.0\n[[ 3.     3.   ]\n [-2.25  -2.118]\n [  -inf   -inf]\n [  -inf   -inf]\n [  -inf   -inf]\n [  -inf   -inf]]\n[[ 3.     3.   ]\n [-1.929 -2.118]\n [  -inf   -inf]\n [  -inf   -inf]\n [  -inf   -inf]\n [  -inf   -inf]]\n0.0\n[[ 3.     3.   ]\n [-1.929 -2.25 ]\n [  -inf   -inf]\n [  -inf   -inf]\n [  -inf   -inf]\n [  -inf   -inf]]\n[[ 3.     3.   ]\n [-2.118 -2.25 ]\n [  -inf   -inf]\n [  -inf   -inf]\n [  -inf   -inf]\n [  -inf   -inf]]\n0.0\n[[ 3.     3.   ]\n [-2.118 -1.929]\n [  -inf   -inf]\n [  -inf   -inf]\n [  -inf   -inf]\n [  -inf   -inf]]\n[[ 3.     3.   ]\n [-2.25  -1.929]\n [  -inf   -inf]\n [  -inf   -inf]\n [  -inf   -inf]\n [  -inf   -inf]]\n0.0\n[[ 3.     3.   ]\n [-2.25  -2.118]\n [  -inf   -inf]\n [  -inf   -inf]\n [  -inf   -inf]\n [  -inf   -inf]]\n[[ 3.     3.   ]\n [-1.929 -2.118]\n [  -inf   -inf]\n [  -inf   -inf]\n [  -inf   -inf]\n [  -inf   -inf]]"
    }
   ],
   "source": [
    "def diy_lu_mod(a):\n",
    "    N = a.shape[0]\n",
    "\n",
    "    u = a.copy()\n",
    "    L = np.eye(N)\n",
    "    det = np.linalg.det(a)\n",
    "    if det == 0:\n",
    "        return False\n",
    "    else:\n",
    "        for j in range(N-1):\n",
    "            dj = np.linalg.det(u[:j,:j])\n",
    "            while dj == 0:\n",
    "                i = j+1\n",
    "                while i < N-1:\n",
    "                    u[:,[i,i+1]] = u[:,[i+1,i]]\n",
    "                    print(u[:,[i,i+1]])\n",
    "                    i +=1\n",
    "                dj = np.linalg.det(u[:j,:j])\n",
    "                print(dj)\n",
    "            lam = np.eye(N)\n",
    "            gamma = u[j+1:, j] / u[j, j]\n",
    "            lam[j+1:, j] = -gamma\n",
    "            u = lam @ u\n",
    "\n",
    "            lam[j+1:, j] = gamma\n",
    "            L = L @ lam\n",
    "    return L, u\n",
    "\n",
    "\n",
    "L, u = diy_lu_mod(a)\n",
    "print(L, \"\\n\")\n",
    "print(u, \"\\n\")\n",
    "\n",
    "L, u = diy_lu_mod(a1)\n",
    "print(L, \"\\n\")\n",
    "print(u, \"\\n\")\n",
    "\n",
    ""
   ]
  },
  {
   "cell_type": "code",
   "execution_count": null,
   "metadata": {},
   "outputs": [],
   "source": []
  },
  {
   "cell_type": "code",
   "execution_count": null,
   "metadata": {},
   "outputs": [],
   "source": []
  },
  {
   "cell_type": "code",
   "execution_count": null,
   "metadata": {},
   "outputs": [],
   "source": []
  }
 ],
 "metadata": {
  "kernelspec": {
   "display_name": "Python 3",
   "language": "python",
   "name": "python3"
  },
  "language_info": {
   "codemirror_mode": {
    "name": "ipython",
    "version": 3
   },
   "file_extension": ".py",
   "mimetype": "text/x-python",
   "name": "python",
   "nbconvert_exporter": "python",
   "pygments_lexer": "ipython3",
   "version": "3.7.4-final"
  }
 },
 "nbformat": 4,
 "nbformat_minor": 2
}